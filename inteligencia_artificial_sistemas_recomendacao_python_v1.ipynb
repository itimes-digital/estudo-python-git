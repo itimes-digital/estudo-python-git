{
  "nbformat": 4,
  "nbformat_minor": 0,
  "metadata": {
    "colab": {
      "name": "Untitled2.ipynb",
      "provenance": [],
      "authorship_tag": "ABX9TyNcxK9gx3+vDCo4uQgQApRo",
      "include_colab_link": true
    },
    "kernelspec": {
      "name": "python3",
      "display_name": "Python 3"
    }
  },
  "cells": [
    {
      "cell_type": "markdown",
      "metadata": {
        "id": "view-in-github",
        "colab_type": "text"
      },
      "source": [
        "<a href=\"https://colab.research.google.com/github/itimes-digital/estudo-python-git/blob/master/inteligencia_artificial_sistemas_recomendacao_python_v1.ipynb\" target=\"_parent\"><img src=\"https://colab.research.google.com/assets/colab-badge.svg\" alt=\"Open In Colab\"/></a>"
      ]
    },
    {
      "cell_type": "code",
      "metadata": {
        "id": "OmwpeWpp7YQY",
        "colab_type": "code",
        "colab": {}
      },
      "source": [
        "import pandas as pd;\n",
        "import matplotlib.pyplot as plt;\n",
        "import seaborn as sns; \n",
        "from math import sqrt;\n",
        "import numpy as np"
      ],
      "execution_count": 0,
      "outputs": []
    },
    {
      "cell_type": "markdown",
      "metadata": {
        "id": "STqOp8gl7HmP",
        "colab_type": "text"
      },
      "source": [
        "Dados de análise para realizar as associações e a similaridade entre gostos de filmes. Para isso vamos usar a distância euclidiana para calcular a similaridade entre os usuários e filmes."
      ]
    },
    {
      "cell_type": "code",
      "metadata": {
        "id": "4ZAsPTv9MaT0",
        "colab_type": "code",
        "colab": {}
      },
      "source": [
        "avaliacoes = {'Ana': \n",
        "\t\t{'Freddy x Jason': 2.5, \n",
        "\t\t 'O Ultimato Bourne': 3.5,\n",
        "\t\t 'Star Trek': 3.0, \n",
        "\t\t 'Exterminador do Futuro': 3.5, \n",
        "\t\t 'Norbit': 2.5, \n",
        "\t\t 'Star Wars': 3.0},\n",
        "\t \n",
        "\t  'Marcos': \n",
        "\t\t{'Freddy x Jason': 3.0, \n",
        "\t\t 'O Ultimato Bourne': 3.5, \n",
        "\t\t 'Star Trek': 1.5, \n",
        "\t\t 'Exterminador do Futuro': 5.0, \n",
        "\t\t 'Star Wars': 3.0, \n",
        "\t\t 'Norbit': 3.5}, \n",
        "\n",
        "\t  'Pedro': \n",
        "\t    {'Freddy x Jason': 2.5, \n",
        "\t\t 'O Ultimato Bourne': 3.0,\n",
        "\t\t 'Exterminador do Futuro': 3.5, \n",
        "\t\t 'Star Wars': 4.0},\n",
        "\t\t\t \n",
        "\t  'Claudia': \n",
        "\t\t{'O Ultimato Bourne': 3.5, \n",
        "\t\t 'Star Trek': 3.0,\n",
        "\t\t 'Star Wars': 4.5, \n",
        "\t\t 'Exterminador do Futuro': 4.0, \n",
        "\t\t 'Norbit': 2.5},\n",
        "\t\t\t\t \n",
        "\t  'Adriano': \n",
        "\t\t{'Freddy x Jason': 3.0, \n",
        "\t\t 'O Ultimato Bourne': 4.0, \n",
        "\t\t 'Star Trek': 2.0, \n",
        "\t\t 'Exterminador do Futuro': 3.0, \n",
        "\t\t 'Star Wars': 3.0,\n",
        "\t\t 'Norbit': 2.0}, \n",
        "\n",
        "\t  'Janaina': \n",
        "\t     {'Freddy x Jason': 3.0, \n",
        "\t      'O Ultimato Bourne': 4.0,\n",
        "\t      'Star Wars': 3.0, \n",
        "\t      'Exterminador do Futuro': 5.0, \n",
        "\t      'Norbit': 3.5},\n",
        "\t\t\t  \n",
        "\t  'Leonardo': \n",
        "\t    {'O Ultimato Bourne':4.5,\n",
        "             'Norbit':1.0,\n",
        "\t     'Exterminador do Futuro':4.0}\n",
        "}"
      ],
      "execution_count": 0,
      "outputs": []
    },
    {
      "cell_type": "code",
      "metadata": {
        "id": "wXUZnogP1U4M",
        "colab_type": "code",
        "outputId": "6313b034-3362-4ca6-e925-ff442a594853",
        "colab": {
          "base_uri": "https://localhost:8080/",
          "height": 34
        }
      },
      "source": [
        "avaliacoes['Ana']['Star Trek']"
      ],
      "execution_count": 3,
      "outputs": [
        {
          "output_type": "execute_result",
          "data": {
            "text/plain": [
              "3.0"
            ]
          },
          "metadata": {
            "tags": []
          },
          "execution_count": 3
        }
      ]
    },
    {
      "cell_type": "code",
      "metadata": {
        "id": "yCT--3Rr1bgO",
        "colab_type": "code",
        "outputId": "1733356f-9d27-425f-cd76-f2bb5ff336fd",
        "colab": {
          "base_uri": "https://localhost:8080/",
          "height": 34
        }
      },
      "source": [
        "avaliacoes['Pedro']['Star Wars']"
      ],
      "execution_count": 4,
      "outputs": [
        {
          "output_type": "execute_result",
          "data": {
            "text/plain": [
              "4.0"
            ]
          },
          "metadata": {
            "tags": []
          },
          "execution_count": 4
        }
      ]
    },
    {
      "cell_type": "code",
      "metadata": {
        "id": "TFCakumm1iay",
        "colab_type": "code",
        "outputId": "f8526c54-11ea-4b5c-cbcb-e72fa42ed4ef",
        "colab": {
          "base_uri": "https://localhost:8080/",
          "height": 34
        }
      },
      "source": [
        "avaliacoes['Marcos']['Exterminador do Futuro']"
      ],
      "execution_count": 5,
      "outputs": [
        {
          "output_type": "execute_result",
          "data": {
            "text/plain": [
              "5.0"
            ]
          },
          "metadata": {
            "tags": []
          },
          "execution_count": 5
        }
      ]
    },
    {
      "cell_type": "code",
      "metadata": {
        "id": "bArTeMX31pmN",
        "colab_type": "code",
        "outputId": "c7f70c90-7bc3-4a23-dc47-3067d7502a3e",
        "colab": {
          "base_uri": "https://localhost:8080/",
          "height": 102
        }
      },
      "source": [
        "avaliacoes['Claudia']"
      ],
      "execution_count": 6,
      "outputs": [
        {
          "output_type": "execute_result",
          "data": {
            "text/plain": [
              "{'Exterminador do Futuro': 4.0,\n",
              " 'Norbit': 2.5,\n",
              " 'O Ultimato Bourne': 3.5,\n",
              " 'Star Trek': 3.0,\n",
              " 'Star Wars': 4.5}"
            ]
          },
          "metadata": {
            "tags": []
          },
          "execution_count": 6
        }
      ]
    },
    {
      "cell_type": "code",
      "metadata": {
        "id": "eRsYLeKZ121e",
        "colab_type": "code",
        "outputId": "04c82f77-cb31-43f9-c17a-1003af894102",
        "colab": {
          "base_uri": "https://localhost:8080/",
          "height": 85
        }
      },
      "source": [
        "avaliacoes['Pedro']"
      ],
      "execution_count": 7,
      "outputs": [
        {
          "output_type": "execute_result",
          "data": {
            "text/plain": [
              "{'Exterminador do Futuro': 3.5,\n",
              " 'Freddy x Jason': 2.5,\n",
              " 'O Ultimato Bourne': 3.0,\n",
              " 'Star Wars': 4.0}"
            ]
          },
          "metadata": {
            "tags": []
          },
          "execution_count": 7
        }
      ]
    },
    {
      "cell_type": "code",
      "metadata": {
        "id": "Mmnv34QJ2AHi",
        "colab_type": "code",
        "colab": {
          "base_uri": "https://localhost:8080/",
          "height": 34
        },
        "outputId": "399e2d53-14b3-416a-989b-2568260e0631"
      },
      "source": [
        "pow(3.5 - 4, 2)"
      ],
      "execution_count": 15,
      "outputs": [
        {
          "output_type": "execute_result",
          "data": {
            "text/plain": [
              "0.25"
            ]
          },
          "metadata": {
            "tags": []
          },
          "execution_count": 15
        }
      ]
    },
    {
      "cell_type": "code",
      "metadata": {
        "id": "UrPSJAgp-COB",
        "colab_type": "code",
        "colab": {
          "base_uri": "https://localhost:8080/",
          "height": 34
        },
        "outputId": "b4b2f957-d4bd-450f-a4c1-dce2f89a7272"
      },
      "source": [
        "pow(3 - 3, 2)"
      ],
      "execution_count": 14,
      "outputs": [
        {
          "output_type": "execute_result",
          "data": {
            "text/plain": [
              "0"
            ]
          },
          "metadata": {
            "tags": []
          },
          "execution_count": 14
        }
      ]
    },
    {
      "cell_type": "markdown",
      "metadata": {
        "id": "4VswOWXF-xLJ",
        "colab_type": "text"
      },
      "source": [
        "Fórmula da Distância Euclidiana. Dados: \n",
        "* xi = 3.0, 3.5\n",
        "* yi = 3.0, 4.0"
      ]
    },
    {
      "cell_type": "markdown",
      "metadata": {
        "id": "MZrDSpVPAbii",
        "colab_type": "text"
      },
      "source": [
        "Divide por 1 (e soma por 1) para ter o resultado em percentis."
      ]
    },
    {
      "cell_type": "code",
      "metadata": {
        "id": "u20Mls_s-EI8",
        "colab_type": "code",
        "colab": {
          "base_uri": "https://localhost:8080/",
          "height": 34
        },
        "outputId": "bf76e869-47b6-49bf-b237-95f0db56f957"
      },
      "source": [
        "1 / (1 + sqrt(pow(3 - 3,2) + pow(3.5 - 4, 2)))"
      ],
      "execution_count": 23,
      "outputs": [
        {
          "output_type": "execute_result",
          "data": {
            "text/plain": [
              "0.6666666666666666"
            ]
          },
          "metadata": {
            "tags": []
          },
          "execution_count": 23
        }
      ]
    },
    {
      "cell_type": "markdown",
      "metadata": {
        "id": "VnDsJv9u_bvp",
        "colab_type": "text"
      },
      "source": [
        "* xi = 3.0, 3.5\n",
        "* yi = 1.5, 5.0"
      ]
    },
    {
      "cell_type": "code",
      "metadata": {
        "id": "hN6qu7WE_Sc5",
        "colab_type": "code",
        "colab": {
          "base_uri": "https://localhost:8080/",
          "height": 34
        },
        "outputId": "96238fbc-381d-416b-c2ed-463a9b4add3a"
      },
      "source": [
        "1 / (1 + sqrt(pow(3 - 1.5,2) + pow(3.5 - 5, 2)))"
      ],
      "execution_count": 22,
      "outputs": [
        {
          "output_type": "execute_result",
          "data": {
            "text/plain": [
              "0.32037724101704074"
            ]
          },
          "metadata": {
            "tags": []
          },
          "execution_count": 22
        }
      ]
    },
    {
      "cell_type": "markdown",
      "metadata": {
        "id": "xL1CezbOBXYZ",
        "colab_type": "text"
      },
      "source": [
        "Função para calcular a distância euclidiana"
      ]
    },
    {
      "cell_type": "code",
      "metadata": {
        "id": "bBKgzga-A8yE",
        "colab_type": "code",
        "colab": {}
      },
      "source": [
        "def calcular_distancia_euclidiana(usuarioX, usuarioY):\n",
        "  si = {};\n",
        "  for item in avaliacoes[usuarioX]:\n",
        "    if item in avaliacoes[usuarioY]: \n",
        "      si[item] = 1\n",
        "\n",
        "  if len(si) == 0:\n",
        "    return 0;\n",
        "  # aplicação da fórmula da distância euclidiana\n",
        "  soma = sum([pow(avaliacoes[usuarioX][item] - avaliacoes[usuarioY][item], 2)\n",
        "            for item in avaliacoes[usuarioX] if item in avaliacoes[usuarioY]])\n",
        "  return 1 / (1 + sqrt(soma))\n",
        "\n"
      ],
      "execution_count": 0,
      "outputs": []
    },
    {
      "cell_type": "code",
      "metadata": {
        "id": "sdhYwhdjd4qN",
        "colab_type": "code",
        "colab": {
          "base_uri": "https://localhost:8080/",
          "height": 34
        },
        "outputId": "722374d5-f713-47ac-f942-65da4758bb89"
      },
      "source": [
        "calcular_distancia_euclidiana('Leonardo', 'Ana')"
      ],
      "execution_count": 36,
      "outputs": [
        {
          "output_type": "execute_result",
          "data": {
            "text/plain": [
              "0.3483314773547883"
            ]
          },
          "metadata": {
            "tags": []
          },
          "execution_count": 36
        }
      ]
    },
    {
      "cell_type": "code",
      "metadata": {
        "id": "9hYuG6Lfeer8",
        "colab_type": "code",
        "colab": {
          "base_uri": "https://localhost:8080/",
          "height": 34
        },
        "outputId": "25167c9b-57d4-4a6f-ddc5-9275cf474236"
      },
      "source": [
        "calcular_distancia_euclidiana('Marcos', 'Claudia')"
      ],
      "execution_count": 37,
      "outputs": [
        {
          "output_type": "execute_result",
          "data": {
            "text/plain": [
              "0.28172904669025317"
            ]
          },
          "metadata": {
            "tags": []
          },
          "execution_count": 37
        }
      ]
    },
    {
      "cell_type": "code",
      "metadata": {
        "id": "46uOaTidejId",
        "colab_type": "code",
        "colab": {
          "base_uri": "https://localhost:8080/",
          "height": 34
        },
        "outputId": "6adab72a-b14f-4e5c-9a85-f6b08399e969"
      },
      "source": [
        "calcular_distancia_euclidiana('Pedro', 'Marcos')"
      ],
      "execution_count": 38,
      "outputs": [
        {
          "output_type": "execute_result",
          "data": {
            "text/plain": [
              "0.3405424265831667"
            ]
          },
          "metadata": {
            "tags": []
          },
          "execution_count": 38
        }
      ]
    },
    {
      "cell_type": "code",
      "metadata": {
        "id": "M7DL4f2IeqYk",
        "colab_type": "code",
        "colab": {
          "base_uri": "https://localhost:8080/",
          "height": 34
        },
        "outputId": "5e8db285-ea45-4b3d-e392-bc9bbc8c4808"
      },
      "source": [
        "calcular_distancia_euclidiana('Ana', 'Pedro')"
      ],
      "execution_count": 39,
      "outputs": [
        {
          "output_type": "execute_result",
          "data": {
            "text/plain": [
              "0.4721359549995794"
            ]
          },
          "metadata": {
            "tags": []
          },
          "execution_count": 39
        }
      ]
    }
  ]
}