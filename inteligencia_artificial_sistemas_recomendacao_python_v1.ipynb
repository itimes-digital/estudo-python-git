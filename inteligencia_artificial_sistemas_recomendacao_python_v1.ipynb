{
  "nbformat": 4,
  "nbformat_minor": 0,
  "metadata": {
    "colab": {
      "name": "Untitled2.ipynb",
      "provenance": [],
      "authorship_tag": "ABX9TyN6wW5gK4Kcy68J+zbwavFp",
      "include_colab_link": true
    },
    "kernelspec": {
      "name": "python3",
      "display_name": "Python 3"
    }
  },
  "cells": [
    {
      "cell_type": "markdown",
      "metadata": {
        "id": "view-in-github",
        "colab_type": "text"
      },
      "source": [
        "<a href=\"https://colab.research.google.com/github/itimes-digital/estudo-python-git/blob/master/inteligencia_artificial_sistemas_recomendacao_python_v1.ipynb\" target=\"_parent\"><img src=\"https://colab.research.google.com/assets/colab-badge.svg\" alt=\"Open In Colab\"/></a>"
      ]
    },
    {
      "cell_type": "code",
      "metadata": {
        "id": "OmwpeWpp7YQY",
        "colab_type": "code",
        "colab": {}
      },
      "source": [
        "import pandas as pd;\n",
        "import matplotlib.pyplot as plt;\n",
        "import seaborn as sns; \n",
        "from math import sqrt;\n",
        "import numpy as np;"
      ],
      "execution_count": 0,
      "outputs": []
    },
    {
      "cell_type": "markdown",
      "metadata": {
        "id": "STqOp8gl7HmP",
        "colab_type": "text"
      },
      "source": [
        "Dados de análise para realizar as associações e a similaridade entre gostos de filmes. Para isso vamos usar a distância euclidiana para calcular a similaridade entre os usuários e filmes."
      ]
    },
    {
      "cell_type": "code",
      "metadata": {
        "id": "4ZAsPTv9MaT0",
        "colab_type": "code",
        "colab": {}
      },
      "source": [
        "avaliacoes_usuario = {'Ana': \n",
        "\t\t{'Freddy x Jason': 2.5, \n",
        "\t\t 'O Ultimato Bourne': 3.5,\n",
        "\t\t 'Star Trek': 3.0, \n",
        "\t\t 'Exterminador do Futuro': 3.5, \n",
        "\t\t 'Norbit': 2.5, \n",
        "\t\t 'Star Wars': 3.0},\n",
        "\t \n",
        "\t  'Marcos': \n",
        "\t\t{'Freddy x Jason': 3.0, \n",
        "\t\t 'O Ultimato Bourne': 3.5, \n",
        "\t\t 'Star Trek': 1.5, \n",
        "\t\t 'Exterminador do Futuro': 5.0, \n",
        "\t\t 'Star Wars': 3.0, \n",
        "\t\t 'Norbit': 3.5}, \n",
        "\n",
        "\t  'Pedro': \n",
        "\t    {'Freddy x Jason': 2.5, \n",
        "\t\t 'O Ultimato Bourne': 3.0,\n",
        "\t\t 'Exterminador do Futuro': 3.5, \n",
        "\t\t 'Star Wars': 4.0},\n",
        "\t\t\t \n",
        "\t  'Claudia': \n",
        "\t\t{'O Ultimato Bourne': 3.5, \n",
        "\t\t 'Star Trek': 3.0,\n",
        "\t\t 'Star Wars': 4.5, \n",
        "\t\t 'Exterminador do Futuro': 4.0, \n",
        "\t\t 'Norbit': 2.5},\n",
        "\t\t\t\t \n",
        "\t  'Adriano': \n",
        "\t\t{'Freddy x Jason': 3.0, \n",
        "\t\t 'O Ultimato Bourne': 4.0, \n",
        "\t\t 'Star Trek': 2.0, \n",
        "\t\t 'Exterminador do Futuro': 3.0, \n",
        "\t\t 'Star Wars': 3.0,\n",
        "\t\t 'Norbit': 2.0}, \n",
        "\n",
        "\t  'Janaina': \n",
        "\t     {'Freddy x Jason': 3.0, \n",
        "\t      'O Ultimato Bourne': 4.0,\n",
        "\t      'Star Wars': 3.0, \n",
        "\t      'Exterminador do Futuro': 5.0, \n",
        "\t      'Norbit': 3.5},\n",
        "\t\t\t  \n",
        "\t  'Leonardo': \n",
        "\t    {'O Ultimato Bourne':4.5,\n",
        "             'Norbit':1.0,\n",
        "\t     'Exterminador do Futuro':4.0}\n",
        "}"
      ],
      "execution_count": 0,
      "outputs": []
    },
    {
      "cell_type": "code",
      "metadata": {
        "id": "wXUZnogP1U4M",
        "colab_type": "code",
        "outputId": "a219e844-8f36-4bdc-92a8-e6e413cf6a3e",
        "colab": {
          "base_uri": "https://localhost:8080/",
          "height": 33
        }
      },
      "source": [
        "avaliacoes_usuario['Ana']['Star Trek']"
      ],
      "execution_count": 0,
      "outputs": [
        {
          "output_type": "execute_result",
          "data": {
            "text/plain": [
              "3.0"
            ]
          },
          "metadata": {
            "tags": []
          },
          "execution_count": 60
        }
      ]
    },
    {
      "cell_type": "code",
      "metadata": {
        "id": "yCT--3Rr1bgO",
        "colab_type": "code",
        "outputId": "50678e55-20ee-42d8-a6c8-bbe40a33c355",
        "colab": {
          "base_uri": "https://localhost:8080/",
          "height": 33
        }
      },
      "source": [
        "avaliacoes_usuario['Pedro']['Star Wars']"
      ],
      "execution_count": 0,
      "outputs": [
        {
          "output_type": "execute_result",
          "data": {
            "text/plain": [
              "4.0"
            ]
          },
          "metadata": {
            "tags": []
          },
          "execution_count": 61
        }
      ]
    },
    {
      "cell_type": "code",
      "metadata": {
        "id": "TFCakumm1iay",
        "colab_type": "code",
        "outputId": "c823d981-28e8-47f8-cc15-78a175d6ca16",
        "colab": {
          "base_uri": "https://localhost:8080/",
          "height": 33
        }
      },
      "source": [
        "avaliacoes_usuario['Marcos']['Exterminador do Futuro']"
      ],
      "execution_count": 0,
      "outputs": [
        {
          "output_type": "execute_result",
          "data": {
            "text/plain": [
              "5.0"
            ]
          },
          "metadata": {
            "tags": []
          },
          "execution_count": 62
        }
      ]
    },
    {
      "cell_type": "code",
      "metadata": {
        "id": "bArTeMX31pmN",
        "colab_type": "code",
        "outputId": "f3560bee-b64b-46f7-bf71-13d213d8a6c0",
        "colab": {
          "base_uri": "https://localhost:8080/",
          "height": 100
        }
      },
      "source": [
        "avaliacoes_usuario['Claudia']"
      ],
      "execution_count": 0,
      "outputs": [
        {
          "output_type": "execute_result",
          "data": {
            "text/plain": [
              "{'Exterminador do Futuro': 4.0,\n",
              " 'Norbit': 2.5,\n",
              " 'O Ultimato Bourne': 3.5,\n",
              " 'Star Trek': 3.0,\n",
              " 'Star Wars': 4.5}"
            ]
          },
          "metadata": {
            "tags": []
          },
          "execution_count": 63
        }
      ]
    },
    {
      "cell_type": "code",
      "metadata": {
        "id": "eRsYLeKZ121e",
        "colab_type": "code",
        "outputId": "4b8f5b1c-8124-4778-b2ea-bd2c96b09125",
        "colab": {
          "base_uri": "https://localhost:8080/",
          "height": 83
        }
      },
      "source": [
        "avaliacoes_usuario['Pedro']"
      ],
      "execution_count": 0,
      "outputs": [
        {
          "output_type": "execute_result",
          "data": {
            "text/plain": [
              "{'Exterminador do Futuro': 3.5,\n",
              " 'Freddy x Jason': 2.5,\n",
              " 'O Ultimato Bourne': 3.0,\n",
              " 'Star Wars': 4.0}"
            ]
          },
          "metadata": {
            "tags": []
          },
          "execution_count": 64
        }
      ]
    },
    {
      "cell_type": "code",
      "metadata": {
        "id": "Mmnv34QJ2AHi",
        "colab_type": "code",
        "outputId": "399e2d53-14b3-416a-989b-2568260e0631",
        "colab": {
          "base_uri": "https://localhost:8080/",
          "height": 33
        }
      },
      "source": [
        "pow(3.5 - 4, 2)"
      ],
      "execution_count": 0,
      "outputs": [
        {
          "output_type": "execute_result",
          "data": {
            "text/plain": [
              "0.25"
            ]
          },
          "metadata": {
            "tags": []
          },
          "execution_count": 15
        }
      ]
    },
    {
      "cell_type": "code",
      "metadata": {
        "id": "UrPSJAgp-COB",
        "colab_type": "code",
        "outputId": "b4b2f957-d4bd-450f-a4c1-dce2f89a7272",
        "colab": {
          "base_uri": "https://localhost:8080/",
          "height": 33
        }
      },
      "source": [
        "pow(3 - 3, 2)"
      ],
      "execution_count": 0,
      "outputs": [
        {
          "output_type": "execute_result",
          "data": {
            "text/plain": [
              "0"
            ]
          },
          "metadata": {
            "tags": []
          },
          "execution_count": 14
        }
      ]
    },
    {
      "cell_type": "markdown",
      "metadata": {
        "id": "4VswOWXF-xLJ",
        "colab_type": "text"
      },
      "source": [
        "Fórmula da Distância Euclidiana. Dados: \n",
        "* xi = 3.0, 3.5\n",
        "* yi = 3.0, 4.0"
      ]
    },
    {
      "cell_type": "markdown",
      "metadata": {
        "id": "MZrDSpVPAbii",
        "colab_type": "text"
      },
      "source": [
        "Divide por 1 (e soma por 1) para ter o resultado em percentis."
      ]
    },
    {
      "cell_type": "code",
      "metadata": {
        "id": "u20Mls_s-EI8",
        "colab_type": "code",
        "outputId": "bf76e869-47b6-49bf-b237-95f0db56f957",
        "colab": {
          "base_uri": "https://localhost:8080/",
          "height": 33
        }
      },
      "source": [
        "1 / (1 + sqrt(pow(3 - 3,2) + pow(3.5 - 4, 2)))"
      ],
      "execution_count": 0,
      "outputs": [
        {
          "output_type": "execute_result",
          "data": {
            "text/plain": [
              "0.6666666666666666"
            ]
          },
          "metadata": {
            "tags": []
          },
          "execution_count": 23
        }
      ]
    },
    {
      "cell_type": "markdown",
      "metadata": {
        "id": "VnDsJv9u_bvp",
        "colab_type": "text"
      },
      "source": [
        "* xi = 3.0, 3.5\n",
        "* yi = 1.5, 5.0"
      ]
    },
    {
      "cell_type": "code",
      "metadata": {
        "id": "hN6qu7WE_Sc5",
        "colab_type": "code",
        "outputId": "96238fbc-381d-416b-c2ed-463a9b4add3a",
        "colab": {
          "base_uri": "https://localhost:8080/",
          "height": 33
        }
      },
      "source": [
        "1 / (1 + sqrt(pow(3 - 1.5,2) + pow(3.5 - 5, 2)))"
      ],
      "execution_count": 0,
      "outputs": [
        {
          "output_type": "execute_result",
          "data": {
            "text/plain": [
              "0.32037724101704074"
            ]
          },
          "metadata": {
            "tags": []
          },
          "execution_count": 22
        }
      ]
    },
    {
      "cell_type": "markdown",
      "metadata": {
        "id": "xL1CezbOBXYZ",
        "colab_type": "text"
      },
      "source": [
        "Função para calcular a distância euclidiana"
      ]
    },
    {
      "cell_type": "code",
      "metadata": {
        "id": "bBKgzga-A8yE",
        "colab_type": "code",
        "colab": {}
      },
      "source": [
        "def calcular_distancia_euclidiana(base, usuarioX, usuarioY):\n",
        "  si = {};\n",
        "  for item in base[usuarioX]:\n",
        "    if item in base[usuarioY]: \n",
        "      si[item] = 1\n",
        "\n",
        "  if len(si) == 0:\n",
        "    return 0;\n",
        "  # aplicação da fórmula da distância euclidiana\n",
        "  soma = sum([pow(base[usuarioX][item] - base[usuarioY][item], 2)\n",
        "            for item in base[usuarioX] if item in base[usuarioY]])\n",
        "  return 1 / (1 + sqrt(soma))\n",
        "\n"
      ],
      "execution_count": 0,
      "outputs": []
    },
    {
      "cell_type": "code",
      "metadata": {
        "id": "sdhYwhdjd4qN",
        "colab_type": "code",
        "outputId": "ba84622d-1be9-435e-b031-12b1613df03a",
        "colab": {
          "base_uri": "https://localhost:8080/",
          "height": 33
        }
      },
      "source": [
        "calcular_distancia_euclidiana(avaliacoes_usuario, 'Leonardo', 'Ana')"
      ],
      "execution_count": 0,
      "outputs": [
        {
          "output_type": "execute_result",
          "data": {
            "text/plain": [
              "0.3483314773547883"
            ]
          },
          "metadata": {
            "tags": []
          },
          "execution_count": 66
        }
      ]
    },
    {
      "cell_type": "code",
      "metadata": {
        "id": "9hYuG6Lfeer8",
        "colab_type": "code",
        "outputId": "e15e54f5-6a3a-48b0-dea9-eb9510976a8f",
        "colab": {
          "base_uri": "https://localhost:8080/",
          "height": 33
        }
      },
      "source": [
        "calcular_distancia_euclidiana(avaliacoes_usuario, 'Marcos', 'Claudia')"
      ],
      "execution_count": 0,
      "outputs": [
        {
          "output_type": "execute_result",
          "data": {
            "text/plain": [
              "0.28172904669025317"
            ]
          },
          "metadata": {
            "tags": []
          },
          "execution_count": 67
        }
      ]
    },
    {
      "cell_type": "code",
      "metadata": {
        "id": "46uOaTidejId",
        "colab_type": "code",
        "outputId": "ac12b151-60d1-4c9e-ca4d-c181b9160ebf",
        "colab": {
          "base_uri": "https://localhost:8080/",
          "height": 33
        }
      },
      "source": [
        "calcular_distancia_euclidiana(avaliacoes_usuario, 'Pedro', 'Marcos')"
      ],
      "execution_count": 0,
      "outputs": [
        {
          "output_type": "execute_result",
          "data": {
            "text/plain": [
              "0.3405424265831667"
            ]
          },
          "metadata": {
            "tags": []
          },
          "execution_count": 68
        }
      ]
    },
    {
      "cell_type": "code",
      "metadata": {
        "id": "M7DL4f2IeqYk",
        "colab_type": "code",
        "outputId": "6c089f3d-00c9-4398-b43d-56cb96ce3b16",
        "colab": {
          "base_uri": "https://localhost:8080/",
          "height": 33
        }
      },
      "source": [
        "calcular_distancia_euclidiana(avaliacoes_usuario, 'Ana', 'Pedro')"
      ],
      "execution_count": 0,
      "outputs": [
        {
          "output_type": "execute_result",
          "data": {
            "text/plain": [
              "0.4721359549995794"
            ]
          },
          "metadata": {
            "tags": []
          },
          "execution_count": 69
        }
      ]
    },
    {
      "cell_type": "markdown",
      "metadata": {
        "id": "5Dz7RFD8gjTR",
        "colab_type": "text"
      },
      "source": [
        "Função de similaridade retornará os perfis ordenados mais parecidos com o usuário/filmes esperado. Retornará de acordo com um limite de dados. \n",
        "\n",
        "A similaridade é baseado na distância euclidiana, portanto, tantos os filmes quanto os usuários serão baseados nas notas existentes, que vão dizer quanto um filme á parecido com outro ou quanto um usuário tem notas similares a de outro usuário."
      ]
    },
    {
      "cell_type": "code",
      "metadata": {
        "id": "PqZLO9jJfEvV",
        "colab_type": "code",
        "colab": {}
      },
      "source": [
        "def get_similares(base, usuario, limite):\n",
        "  similaridade = [(calcular_distancia_euclidiana(base, usuario, outro), outro) \n",
        "                   for outro in base if outro != usuario];\n",
        "  similaridade.sort();\n",
        "  similaridade.reverse();\n",
        "  return similaridade[0:limite];"
      ],
      "execution_count": 0,
      "outputs": []
    },
    {
      "cell_type": "markdown",
      "metadata": {
        "id": "C2f5hwXPrAPQ",
        "colab_type": "text"
      },
      "source": [
        "Nesta execução, apresenta quais usuários são similares a Ana, do qual retornará os 10 primeiros."
      ]
    },
    {
      "cell_type": "code",
      "metadata": {
        "id": "XaDbleNlfucx",
        "colab_type": "code",
        "outputId": "c5996d41-909e-431d-e5ee-1698a263a799",
        "colab": {
          "base_uri": "https://localhost:8080/",
          "height": 116
        }
      },
      "source": [
        "get_similares(avaliacoes_usuario, 'Ana', 10)"
      ],
      "execution_count": 10,
      "outputs": [
        {
          "output_type": "execute_result",
          "data": {
            "text/plain": [
              "[(0.4721359549995794, 'Pedro'),\n",
              " (0.4142135623730951, 'Adriano'),\n",
              " (0.38742588672279304, 'Claudia'),\n",
              " (0.3483314773547883, 'Leonardo'),\n",
              " (0.3405424265831667, 'Janaina'),\n",
              " (0.29429805508554946, 'Marcos')]"
            ]
          },
          "metadata": {
            "tags": []
          },
          "execution_count": 10
        }
      ]
    },
    {
      "cell_type": "code",
      "metadata": {
        "id": "co-QLh8egXji",
        "colab_type": "code",
        "outputId": "8d84f0e3-5aa4-47cb-b623-018ee3abf2ce",
        "colab": {
          "base_uri": "https://localhost:8080/",
          "height": 116
        }
      },
      "source": [
        "get_similares(avaliacoes_usuario, 'Pedro', 10)"
      ],
      "execution_count": 0,
      "outputs": [
        {
          "output_type": "execute_result",
          "data": {
            "text/plain": [
              "[(0.5358983848622454, 'Claudia'),\n",
              " (0.4721359549995794, 'Ana'),\n",
              " (0.38742588672279304, 'Leonardo'),\n",
              " (0.38742588672279304, 'Adriano'),\n",
              " (0.3405424265831667, 'Marcos'),\n",
              " (0.32037724101704074, 'Janaina')]"
            ]
          },
          "metadata": {
            "tags": []
          },
          "execution_count": 45
        }
      ]
    },
    {
      "cell_type": "code",
      "metadata": {
        "id": "AW_l6lXSgeag",
        "colab_type": "code",
        "outputId": "3f6fb50c-1109-4f09-f621-6b59e319cf78",
        "colab": {
          "base_uri": "https://localhost:8080/",
          "height": 116
        }
      },
      "source": [
        "get_similares(avaliacoes_usuario, 'Marcos', 10)"
      ],
      "execution_count": 0,
      "outputs": [
        {
          "output_type": "execute_result",
          "data": {
            "text/plain": [
              "[(0.6666666666666666, 'Janaina'),\n",
              " (0.3405424265831667, 'Pedro'),\n",
              " (0.29429805508554946, 'Ana'),\n",
              " (0.28172904669025317, 'Claudia'),\n",
              " (0.27792629762666365, 'Adriano'),\n",
              " (0.25824569976124334, 'Leonardo')]"
            ]
          },
          "metadata": {
            "tags": []
          },
          "execution_count": 46
        }
      ]
    },
    {
      "cell_type": "code",
      "metadata": {
        "id": "5U3B_7mBi2Z4",
        "colab_type": "code",
        "outputId": "6824c3e3-bc4a-4584-e656-b7e946ac2dae",
        "colab": {
          "base_uri": "https://localhost:8080/",
          "height": 116
        }
      },
      "source": [
        "get_similares(avaliacoes_usuario, 'Leonardo', 10)"
      ],
      "execution_count": 0,
      "outputs": [
        {
          "output_type": "execute_result",
          "data": {
            "text/plain": [
              "[(0.4, 'Adriano'),\n",
              " (0.38742588672279304, 'Pedro'),\n",
              " (0.3567891723253309, 'Claudia'),\n",
              " (0.3483314773547883, 'Ana'),\n",
              " (0.2674788903885893, 'Janaina'),\n",
              " (0.25824569976124334, 'Marcos')]"
            ]
          },
          "metadata": {
            "tags": []
          },
          "execution_count": 47
        }
      ]
    },
    {
      "cell_type": "markdown",
      "metadata": {
        "id": "oKnznL6toNDU",
        "colab_type": "text"
      },
      "source": [
        "Função para calcular a média ponderada de filmes similares para recomendação aos usuários."
      ]
    },
    {
      "cell_type": "code",
      "metadata": {
        "id": "dNcFwCDYoTYq",
        "colab_type": "code",
        "colab": {}
      },
      "source": [
        "def get_recomendacoes(base, usuario, limite):\n",
        "  totais = {}\n",
        "  soma_similaridade = {}\n",
        "\n",
        "  for outro in base:\n",
        "    if outro == usuario: \n",
        "      continue;\n",
        "    similaridade = calcular_distancia_euclidiana(base, usuario, outro);\n",
        "\n",
        "    if similaridade <= 0:\n",
        "      continue;\n",
        "\n",
        "    for item in base[outro]:\n",
        "      if item not in base[usuario]:\n",
        "        totais.setdefault(item, 0);\n",
        "        totais[item] += base[outro][item] * similaridade;\n",
        "        soma_similaridade.setdefault(item, 0);\n",
        "        soma_similaridade[item] += similaridade;\n",
        "  \n",
        "  rankings = [(total / soma_similaridade[item], item) \n",
        "              for item, total in totais.items()];\n",
        "\n",
        "  rankings.sort();\n",
        "  rankings.reverse();\n",
        "  return rankings[0 : limite];\n"
      ],
      "execution_count": 0,
      "outputs": []
    },
    {
      "cell_type": "code",
      "metadata": {
        "id": "xTuo8D_8rdAy",
        "colab_type": "code",
        "outputId": "614eee11-f550-4145-8d04-74cebcfb59cf",
        "colab": {
          "base_uri": "https://localhost:8080/",
          "height": 66
        }
      },
      "source": [
        "get_recomendacoes(avaliacoes_usuario, 'Leonardo', 10)"
      ],
      "execution_count": 6,
      "outputs": [
        {
          "output_type": "execute_result",
          "data": {
            "text/plain": [
              "[(3.457128694491423, 'Star Wars'),\n",
              " (2.778584003814924, 'Freddy x Jason'),\n",
              " (2.422482042361917, 'Star Trek')]"
            ]
          },
          "metadata": {
            "tags": []
          },
          "execution_count": 6
        }
      ]
    },
    {
      "cell_type": "code",
      "metadata": {
        "id": "UmDEfssTr5ki",
        "colab_type": "code",
        "outputId": "c51d61a5-1fb3-4fde-b6c4-b722ed6d9a21",
        "colab": {
          "base_uri": "https://localhost:8080/",
          "height": 33
        }
      },
      "source": [
        "get_recomendacoes(avaliacoes_usuario, 'Pedro', 10)"
      ],
      "execution_count": 0,
      "outputs": [
        {
          "output_type": "execute_result",
          "data": {
            "text/plain": [
              "[(2.4825817086405517, 'Star Trek'), (2.453379230569188, 'Norbit')]"
            ]
          },
          "metadata": {
            "tags": []
          },
          "execution_count": 74
        }
      ]
    },
    {
      "cell_type": "code",
      "metadata": {
        "id": "N3fYTYC0sJw3",
        "colab_type": "code",
        "outputId": "53d65d23-fc70-4331-98d5-41c928e088af",
        "colab": {
          "base_uri": "https://localhost:8080/",
          "height": 33
        }
      },
      "source": [
        "get_recomendacoes(avaliacoes_usuario, 'Claudia', 10)"
      ],
      "execution_count": 0,
      "outputs": [
        {
          "output_type": "execute_result",
          "data": {
            "text/plain": [
              "[(2.74908990418004, 'Freddy x Jason')]"
            ]
          },
          "metadata": {
            "tags": []
          },
          "execution_count": 202
        }
      ]
    },
    {
      "cell_type": "markdown",
      "metadata": {
        "id": "yJZBxXvuvAAd",
        "colab_type": "text"
      },
      "source": [
        "Vamos mudar a ordem de exibição e tratamento dos dados, a partir de filme teremos as notas dos usuários para análise. Assim, conseguiremos recomendar filmes que tenha notas parecidas ou próximas a partir de uma escolha."
      ]
    },
    {
      "cell_type": "code",
      "metadata": {
        "id": "0H_SJVUnvLca",
        "colab_type": "code",
        "colab": {}
      },
      "source": [
        "avaliacoes_filmes = {'Freddy x Jason': \n",
        "\t\t{'Ana': 2.5, \n",
        "\t\t 'Marcos:': 3.0 ,\n",
        "\t\t 'Pedro': 2.5, \n",
        "\t\t 'Adriano': 3.0, \n",
        "\t\t 'Janaina': 3.0 },\n",
        "\t \n",
        "\t 'O Ultimato Bourne': \n",
        "\t\t{'Ana': 3.5, \n",
        "\t\t 'Marcos': 3.5,\n",
        "\t\t 'Pedro': 3.0, \n",
        "\t\t 'Claudia': 3.5, \n",
        "\t\t 'Adriano': 4.0, \n",
        "\t\t 'Janaina': 4.0,\n",
        "\t\t 'Leonardo': 4.5 },\n",
        "\t\t\t\t \n",
        "\t 'Star Trek': \n",
        "\t\t{'Ana': 3.0, \n",
        "\t\t 'Marcos:': 1.5,\n",
        "\t\t 'Claudia': 3.0, \n",
        "\t\t 'Adriano': 2.0 },\n",
        "\t\n",
        "\t 'Exterminador do Futuro': \n",
        "\t\t{'Ana': 3.5, \n",
        "\t\t 'Marcos:': 5.0 ,\n",
        "\t\t 'Pedro': 3.5, \n",
        "\t\t 'Claudia': 4.0, \n",
        "\t\t 'Adriano': 3.0, \n",
        "\t\t 'Janaina': 5.0,\n",
        "\t\t 'Leonardo': 4.0},\n",
        "\t\t\t\t \n",
        "\t 'Norbit': \n",
        "\t\t{'Ana': 2.5, \n",
        "\t\t 'Marcos:': 3.0 ,\n",
        "\t\t 'Claudia': 2.5, \n",
        "\t\t 'Adriano': 2.0, \n",
        "\t\t 'Janaina': 3.5,\n",
        "\t\t 'Leonardo': 1.0},\n",
        "\t\t\t\t \n",
        "\t 'Star Wars': \n",
        "\t\t{'Ana': 3.0, \n",
        "\t\t 'Marcos:': 3.5,\n",
        "\t\t 'Pedro': 4.0, \n",
        "\t\t 'Claudia': 4.5, \n",
        "\t\t 'Adriano': 3.0, \n",
        "\t\t 'Janaina': 3.0}\n",
        "}"
      ],
      "execution_count": 0,
      "outputs": []
    },
    {
      "cell_type": "code",
      "metadata": {
        "id": "yOF8KXfOvUu0",
        "colab_type": "code",
        "outputId": "7af306d7-6dbf-4759-c8fc-1f1a0d44e92d",
        "colab": {
          "base_uri": "https://localhost:8080/",
          "height": 116
        }
      },
      "source": [
        "avaliacoes_filmes['Star Wars']"
      ],
      "execution_count": 0,
      "outputs": [
        {
          "output_type": "execute_result",
          "data": {
            "text/plain": [
              "{'Adriano': 3.0,\n",
              " 'Ana': 3.0,\n",
              " 'Claudia': 4.5,\n",
              " 'Janaina': 3.0,\n",
              " 'Marcos:': 3.5,\n",
              " 'Pedro': 4.0}"
            ]
          },
          "metadata": {
            "tags": []
          },
          "execution_count": 53
        }
      ]
    },
    {
      "cell_type": "code",
      "metadata": {
        "id": "vcwDfT10vjqE",
        "colab_type": "code",
        "outputId": "2a7bab97-1945-4879-c6ab-220138b0b033",
        "colab": {
          "base_uri": "https://localhost:8080/",
          "height": 33
        }
      },
      "source": [
        "avaliacoes_filmes['Star Wars']['Janaina']"
      ],
      "execution_count": 0,
      "outputs": [
        {
          "output_type": "execute_result",
          "data": {
            "text/plain": [
              "3.0"
            ]
          },
          "metadata": {
            "tags": []
          },
          "execution_count": 76
        }
      ]
    },
    {
      "cell_type": "markdown",
      "metadata": {
        "id": "IbpYkhyJzDKI",
        "colab_type": "text"
      },
      "source": [
        "Com a nova estrutura de dados temos filmes com respectivas notas de diversos usuários, podemos recomendar filmes similares ou com notas muito próximas recebidas. Nesta situação não há uma categorização específica, do qual não vai gerar uma maior precisão na recomendação. \n",
        "\n",
        "Ao especificar o filme Star Wars, o sistema recomendou fortemente o 'Freddy x Jason', porque neste dataset estudado as notas desses dois filmes são parecidas/similares. Portanto, havendo categorização de gênero e mais dados de análise, provavelmente, a recomendação seria os filmes 'Exterminador do Futuro' e 'Star Trek', já que há similaridade de gênero entre eles. Já outro, mesmo com elementos espaciais, ele está muito mais atrelado ao horror/terror."
      ]
    },
    {
      "cell_type": "code",
      "metadata": {
        "id": "_Cz8Y1tXwF7b",
        "colab_type": "code",
        "outputId": "18303f46-e90b-450d-fb1c-0afd1be64fd0",
        "colab": {
          "base_uri": "https://localhost:8080/",
          "height": 100
        }
      },
      "source": [
        "get_similares(avaliacoes_filmes, 'Star Wars', 10)"
      ],
      "execution_count": 11,
      "outputs": [
        {
          "output_type": "execute_result",
          "data": {
            "text/plain": [
              "[(0.3761785115301142, 'Freddy x Jason'),\n",
              " (0.3266316347104093, 'O Ultimato Bourne'),\n",
              " (0.29429805508554946, 'Norbit'),\n",
              " (0.27429188517743175, 'Exterminador do Futuro'),\n",
              " (0.2708131845707603, 'Star Trek')]"
            ]
          },
          "metadata": {
            "tags": []
          },
          "execution_count": 11
        }
      ]
    },
    {
      "cell_type": "code",
      "metadata": {
        "id": "E1wu8qFPwfFO",
        "colab_type": "code",
        "outputId": "0e6e2f74-86e7-4d53-f319-bf7028a2d749",
        "colab": {
          "base_uri": "https://localhost:8080/",
          "height": 100
        }
      },
      "source": [
        "get_similares(avaliacoes_filmes, 'Norbit', 10)"
      ],
      "execution_count": 0,
      "outputs": [
        {
          "output_type": "execute_result",
          "data": {
            "text/plain": [
              "[(0.4721359549995794, 'Freddy x Jason'),\n",
              " (0.3761785115301142, 'Star Trek'),\n",
              " (0.29429805508554946, 'Star Wars'),\n",
              " (0.1886378647726465, 'O Ultimato Bourne'),\n",
              " (0.18464218557642828, 'Exterminador do Futuro')]"
            ]
          },
          "metadata": {
            "tags": []
          },
          "execution_count": 93
        }
      ]
    },
    {
      "cell_type": "code",
      "metadata": {
        "id": "QcsKSJ_nwia_",
        "colab_type": "code",
        "outputId": "681fec4e-2e21-4db2-bd62-ec5e88da848a",
        "colab": {
          "base_uri": "https://localhost:8080/",
          "height": 33
        }
      },
      "source": [
        "get_recomendacoes(avaliacoes_filmes, 'Star Wars', 10)"
      ],
      "execution_count": 0,
      "outputs": [
        {
          "output_type": "execute_result",
          "data": {
            "text/plain": [
              "[(3.4999999999999996, 'Marcos'), (3.196200842319029, 'Leonardo')]"
            ]
          },
          "metadata": {
            "tags": []
          },
          "execution_count": 204
        }
      ]
    },
    {
      "cell_type": "code",
      "metadata": {
        "id": "dDIhotDYwptO",
        "colab_type": "code",
        "outputId": "e2d76eb4-b4e6-4ffe-d8e1-6fc568be5738",
        "colab": {
          "base_uri": "https://localhost:8080/",
          "height": 83
        }
      },
      "source": [
        "get_recomendacoes(avaliacoes_filmes, 'Star Trek', 10)"
      ],
      "execution_count": 0,
      "outputs": [
        {
          "output_type": "execute_result",
          "data": {
            "text/plain": [
              "[(3.6067168976036834, 'Janaina'),\n",
              " (3.5, 'Marcos'),\n",
              " (3.1748504433675175, 'Pedro'),\n",
              " (2.929467965289551, 'Leonardo')]"
            ]
          },
          "metadata": {
            "tags": []
          },
          "execution_count": 80
        }
      ]
    },
    {
      "cell_type": "markdown",
      "metadata": {
        "id": "6434N61osO9J",
        "colab_type": "text"
      },
      "source": [
        "A partir daqui, vamos usar um outro dataset da MovieLens onde contêm milhares de filme e notas de usuários."
      ]
    },
    {
      "cell_type": "markdown",
      "metadata": {
        "id": "LHWYxiUvsZwi",
        "colab_type": "text"
      },
      "source": [
        "Esta função tem como meta a leitura dos filmes e notas para juntá-los em um único objeto para montar as similaridades e recomendações de filmes, muito parecido com o que foi proposto acima."
      ]
    },
    {
      "cell_type": "code",
      "metadata": {
        "id": "18485H3ZB0pe",
        "colab_type": "code",
        "colab": {}
      },
      "source": [
        "def carregar_movies(movies, ratings):\n",
        "  filmes = {};\n",
        "  for posicao, linha in movies.iterrows():\n",
        "    filmes[str(linha['id_movie'])] = linha['name'];\n",
        " \n",
        "  base = {};\n",
        "\n",
        "  for posicao, linha in ratings.iterrows():\n",
        "    id_user = str(linha['id_user']);\n",
        "    id_movie = str(linha['id_movie']);\n",
        "    nota = linha['ratings'];\n",
        "    base.setdefault(id_user, {})\n",
        "    base[id_user][filmes[id_movie]] = float(nota);\n",
        "\n",
        "  return base;"
      ],
      "execution_count": 0,
      "outputs": []
    },
    {
      "cell_type": "markdown",
      "metadata": {
        "id": "dkpJZXnKs3AX",
        "colab_type": "text"
      },
      "source": [
        "Carregamento dos datasets."
      ]
    },
    {
      "cell_type": "code",
      "metadata": {
        "id": "ak1kWlAPF3Dj",
        "colab_type": "code",
        "colab": {}
      },
      "source": [
        "url_movies = 'https://raw.githubusercontent.com/itimes-digital/estudo-python-git/master/machine-learning/dataset/data-movielens/movies.dat'\n",
        "url_ratings = 'https://raw.githubusercontent.com/itimes-digital/estudo-python-git/master/machine-learning/dataset/data-movielens/ratings.dat'\n",
        "\n",
        "base_movies = pd.read_csv(url_movies, sep=\";\", error_bad_lines=False, header=None)\n",
        "base_ratings = pd.read_csv(url_ratings, sep=\"|\", error_bad_lines=False, header=None)"
      ],
      "execution_count": 0,
      "outputs": []
    },
    {
      "cell_type": "markdown",
      "metadata": {
        "id": "4NozKWFOs5ze",
        "colab_type": "text"
      },
      "source": [
        "Alteração dos nomes das colunas."
      ]
    },
    {
      "cell_type": "code",
      "metadata": {
        "id": "Xn4zCeGwgjwE",
        "colab_type": "code",
        "colab": {}
      },
      "source": [
        "base_movies.columns = ['id_movie', 'name', 'year', 'genre'];\n",
        "base_ratings.columns = ['id_user', 'id_movie', 'ratings', 'times'];"
      ],
      "execution_count": 0,
      "outputs": []
    },
    {
      "cell_type": "code",
      "metadata": {
        "id": "VPTbDrbtSics",
        "colab_type": "code",
        "outputId": "6473fcf8-00b8-4395-dd6f-61c4f7f8b3dc",
        "colab": {
          "base_uri": "https://localhost:8080/",
          "height": 197
        }
      },
      "source": [
        "base_movies.head()"
      ],
      "execution_count": 0,
      "outputs": [
        {
          "output_type": "execute_result",
          "data": {
            "text/html": [
              "<div>\n",
              "<style scoped>\n",
              "    .dataframe tbody tr th:only-of-type {\n",
              "        vertical-align: middle;\n",
              "    }\n",
              "\n",
              "    .dataframe tbody tr th {\n",
              "        vertical-align: top;\n",
              "    }\n",
              "\n",
              "    .dataframe thead th {\n",
              "        text-align: right;\n",
              "    }\n",
              "</style>\n",
              "<table border=\"1\" class=\"dataframe\">\n",
              "  <thead>\n",
              "    <tr style=\"text-align: right;\">\n",
              "      <th></th>\n",
              "      <th>id_movie</th>\n",
              "      <th>name</th>\n",
              "      <th>year</th>\n",
              "      <th>genre</th>\n",
              "    </tr>\n",
              "  </thead>\n",
              "  <tbody>\n",
              "    <tr>\n",
              "      <th>0</th>\n",
              "      <td>1</td>\n",
              "      <td>Toy Story</td>\n",
              "      <td>1995</td>\n",
              "      <td>Animation|Children's|Comedy</td>\n",
              "    </tr>\n",
              "    <tr>\n",
              "      <th>1</th>\n",
              "      <td>2</td>\n",
              "      <td>Jumanji</td>\n",
              "      <td>1995</td>\n",
              "      <td>Adventure|Children's|Fantasy</td>\n",
              "    </tr>\n",
              "    <tr>\n",
              "      <th>2</th>\n",
              "      <td>3</td>\n",
              "      <td>Grumpier Old Men</td>\n",
              "      <td>1995</td>\n",
              "      <td>Comedy|Romance</td>\n",
              "    </tr>\n",
              "    <tr>\n",
              "      <th>3</th>\n",
              "      <td>4</td>\n",
              "      <td>Waiting to Exhale</td>\n",
              "      <td>1995</td>\n",
              "      <td>Comedy|Drama</td>\n",
              "    </tr>\n",
              "    <tr>\n",
              "      <th>4</th>\n",
              "      <td>5</td>\n",
              "      <td>Father of the Bride Part II</td>\n",
              "      <td>1995</td>\n",
              "      <td>Comedy</td>\n",
              "    </tr>\n",
              "  </tbody>\n",
              "</table>\n",
              "</div>"
            ],
            "text/plain": [
              "   id_movie                          name  year                         genre\n",
              "0         1                    Toy Story   1995   Animation|Children's|Comedy\n",
              "1         2                      Jumanji   1995  Adventure|Children's|Fantasy\n",
              "2         3             Grumpier Old Men   1995                Comedy|Romance\n",
              "3         4            Waiting to Exhale   1995                  Comedy|Drama\n",
              "4         5  Father of the Bride Part II   1995                        Comedy"
            ]
          },
          "metadata": {
            "tags": []
          },
          "execution_count": 183
        }
      ]
    },
    {
      "cell_type": "code",
      "metadata": {
        "id": "j-OHMclbTB8i",
        "colab_type": "code",
        "outputId": "9c579bd0-1ba6-4c1c-f5ab-029a35d91075",
        "colab": {
          "base_uri": "https://localhost:8080/",
          "height": 197
        }
      },
      "source": [
        "base_ratings.head()"
      ],
      "execution_count": 0,
      "outputs": [
        {
          "output_type": "execute_result",
          "data": {
            "text/html": [
              "<div>\n",
              "<style scoped>\n",
              "    .dataframe tbody tr th:only-of-type {\n",
              "        vertical-align: middle;\n",
              "    }\n",
              "\n",
              "    .dataframe tbody tr th {\n",
              "        vertical-align: top;\n",
              "    }\n",
              "\n",
              "    .dataframe thead th {\n",
              "        text-align: right;\n",
              "    }\n",
              "</style>\n",
              "<table border=\"1\" class=\"dataframe\">\n",
              "  <thead>\n",
              "    <tr style=\"text-align: right;\">\n",
              "      <th></th>\n",
              "      <th>id_user</th>\n",
              "      <th>id_movie</th>\n",
              "      <th>ratings</th>\n",
              "      <th>times</th>\n",
              "    </tr>\n",
              "  </thead>\n",
              "  <tbody>\n",
              "    <tr>\n",
              "      <th>0</th>\n",
              "      <td>1</td>\n",
              "      <td>1193</td>\n",
              "      <td>5</td>\n",
              "      <td>978300760</td>\n",
              "    </tr>\n",
              "    <tr>\n",
              "      <th>1</th>\n",
              "      <td>1</td>\n",
              "      <td>661</td>\n",
              "      <td>3</td>\n",
              "      <td>978302109</td>\n",
              "    </tr>\n",
              "    <tr>\n",
              "      <th>2</th>\n",
              "      <td>1</td>\n",
              "      <td>914</td>\n",
              "      <td>3</td>\n",
              "      <td>978301968</td>\n",
              "    </tr>\n",
              "    <tr>\n",
              "      <th>3</th>\n",
              "      <td>1</td>\n",
              "      <td>3408</td>\n",
              "      <td>4</td>\n",
              "      <td>978300275</td>\n",
              "    </tr>\n",
              "    <tr>\n",
              "      <th>4</th>\n",
              "      <td>1</td>\n",
              "      <td>2355</td>\n",
              "      <td>5</td>\n",
              "      <td>978824291</td>\n",
              "    </tr>\n",
              "  </tbody>\n",
              "</table>\n",
              "</div>"
            ],
            "text/plain": [
              "   id_user  id_movie  ratings      times\n",
              "0        1      1193        5  978300760\n",
              "1        1       661        3  978302109\n",
              "2        1       914        3  978301968\n",
              "3        1      3408        4  978300275\n",
              "4        1      2355        5  978824291"
            ]
          },
          "metadata": {
            "tags": []
          },
          "execution_count": 184
        }
      ]
    },
    {
      "cell_type": "markdown",
      "metadata": {
        "id": "56HxsYmFtFnc",
        "colab_type": "text"
      },
      "source": [
        "Aqui fará a junção das duas bases, do qual será possível encontrar os filmes e notas de um determinado usuário."
      ]
    },
    {
      "cell_type": "code",
      "metadata": {
        "id": "i-96ETLJc9AI",
        "colab_type": "code",
        "colab": {}
      },
      "source": [
        "base_movies_ratings = carregar_movies(base_movies, base_ratings)"
      ],
      "execution_count": 0,
      "outputs": []
    },
    {
      "cell_type": "markdown",
      "metadata": {
        "id": "N4NL8FnEtO7H",
        "colab_type": "text"
      },
      "source": [
        "Filmes e notas do usuário 1."
      ]
    },
    {
      "cell_type": "code",
      "metadata": {
        "id": "vPioOMIFi6L1",
        "colab_type": "code",
        "outputId": "a396765f-b40c-4b2f-b8f5-1a24262a58b3",
        "colab": {
          "base_uri": "https://localhost:8080/",
          "height": 900
        }
      },
      "source": [
        "base_movies_ratings['1']"
      ],
      "execution_count": 17,
      "outputs": [
        {
          "output_type": "execute_result",
          "data": {
            "text/plain": [
              "{'Airplane! ': 4.0,\n",
              " 'Aladdin ': 4.0,\n",
              " 'Antz ': 4.0,\n",
              " 'Apollo 13 ': 5.0,\n",
              " 'Awakenings ': 5.0,\n",
              " 'Back to the Future ': 5.0,\n",
              " 'Bambi ': 4.0,\n",
              " 'Beauty and the Beast ': 5.0,\n",
              " 'Ben-Hur ': 5.0,\n",
              " 'Big ': 4.0,\n",
              " \"Bug's Life, A \": 5.0,\n",
              " 'Christmas Story, A ': 5.0,\n",
              " 'Cinderella ': 5.0,\n",
              " 'Close Shave, A ': 3.0,\n",
              " 'Dead Poets Society ': 4.0,\n",
              " 'Driving Miss Daisy ': 4.0,\n",
              " 'Dumbo ': 5.0,\n",
              " 'E.T. the Extra-Terrestrial ': 4.0,\n",
              " 'Erin Brockovich ': 4.0,\n",
              " 'Fargo ': 4.0,\n",
              " \"Ferris Bueller's Day Off \": 4.0,\n",
              " 'Gigi ': 4.0,\n",
              " 'Girl, Interrupted ': 4.0,\n",
              " 'Hercules ': 4.0,\n",
              " 'Hunchback of Notre Dame, The ': 4.0,\n",
              " 'James and the Giant Peach ': 3.0,\n",
              " 'Last Days of Disco, The ': 5.0,\n",
              " 'Mary Poppins ': 5.0,\n",
              " 'Meet Joe Black ': 3.0,\n",
              " 'Miracle on 34th Street ': 4.0,\n",
              " 'Mulan ': 4.0,\n",
              " 'My Fair Lady ': 3.0,\n",
              " \"One Flew Over the Cuckoo's Nest \": 5.0,\n",
              " 'Pleasantville ': 3.0,\n",
              " 'Pocahontas ': 5.0,\n",
              " 'Ponette ': 4.0,\n",
              " 'Princess Bride, The ': 3.0,\n",
              " 'Rain Man ': 5.0,\n",
              " 'Run Lola Run Lola rennt': 4.0,\n",
              " 'Saving Private Ryan ': 5.0,\n",
              " \"Schindler's List \": 5.0,\n",
              " 'Secret Garden, The ': 4.0,\n",
              " 'Sixth Sense, The ': 4.0,\n",
              " 'Snow White and the Seven Dwarfs ': 4.0,\n",
              " 'Sound of Music, The ': 5.0,\n",
              " 'Star Wars: Episode IV - A New Hope ': 4.0,\n",
              " 'Tarzan ': 3.0,\n",
              " 'Titanic ': 4.0,\n",
              " 'To Kill a Mockingbird ': 4.0,\n",
              " 'Toy Story ': 5.0,\n",
              " 'Toy Story 2 ': 4.0,\n",
              " 'Wallace & Gromit: The Best of Aardman Animation ': 3.0,\n",
              " 'Wizard of Oz, The ': 4.0}"
            ]
          },
          "metadata": {
            "tags": []
          },
          "execution_count": 17
        }
      ]
    },
    {
      "cell_type": "markdown",
      "metadata": {
        "id": "XzmFObTEnhUh",
        "colab_type": "text"
      },
      "source": [
        "Resultado de 10 usuários similares com o usuário 212. Os percentuais 1.0 significa que são 100% similares ao usuário 212."
      ]
    },
    {
      "cell_type": "code",
      "metadata": {
        "id": "_3_YOkDeSjVb",
        "colab_type": "code",
        "outputId": "5f602334-d373-432e-e597-38cfa329c13b",
        "colab": {
          "base_uri": "https://localhost:8080/",
          "height": 183
        }
      },
      "source": [
        "get_similares(base_movies_ratings, '212', 10)"
      ],
      "execution_count": 0,
      "outputs": [
        {
          "output_type": "execute_result",
          "data": {
            "text/plain": [
              "[(1.0, '961'),\n",
              " (1.0, '94'),\n",
              " (1.0, '860'),\n",
              " (1.0, '821'),\n",
              " (1.0, '773'),\n",
              " (1.0, '700'),\n",
              " (1.0, '694'),\n",
              " (1.0, '688'),\n",
              " (1.0, '614'),\n",
              " (1.0, '5919')]"
            ]
          },
          "metadata": {
            "tags": []
          },
          "execution_count": 221
        }
      ]
    },
    {
      "cell_type": "markdown",
      "metadata": {
        "id": "EOBwijU0nmyE",
        "colab_type": "text"
      },
      "source": [
        "Resultado de 10 usuários similares com o usuário 1."
      ]
    },
    {
      "cell_type": "code",
      "metadata": {
        "id": "2WxqJrAYWAmA",
        "colab_type": "code",
        "outputId": "4f94ea26-706b-4ea2-8a8b-b07022d62f47",
        "colab": {
          "base_uri": "https://localhost:8080/",
          "height": 183
        }
      },
      "source": [
        "get_similares(base_movies_ratings, '1', 10)"
      ],
      "execution_count": 18,
      "outputs": [
        {
          "output_type": "execute_result",
          "data": {
            "text/plain": [
              "[(1.0, '994'),\n",
              " (1.0, '986'),\n",
              " (1.0, '978'),\n",
              " (1.0, '961'),\n",
              " (1.0, '906'),\n",
              " (1.0, '901'),\n",
              " (1.0, '841'),\n",
              " (1.0, '827'),\n",
              " (1.0, '797'),\n",
              " (1.0, '734')]"
            ]
          },
          "metadata": {
            "tags": []
          },
          "execution_count": 18
        }
      ]
    },
    {
      "cell_type": "markdown",
      "metadata": {
        "id": "q-FqK-jOtvQC",
        "colab_type": "text"
      },
      "source": [
        "Neste caso, são os filmes mais recomendados ao usuário 212."
      ]
    },
    {
      "cell_type": "code",
      "metadata": {
        "id": "qyG0X_b4jTxU",
        "colab_type": "code",
        "outputId": "baa59332-c96f-41ba-891b-c4150a1f0f59",
        "colab": {
          "base_uri": "https://localhost:8080/",
          "height": 183
        }
      },
      "source": [
        "get_recomendacoes(base_movies_ratings, '212', 10)"
      ],
      "execution_count": 0,
      "outputs": [
        {
          "output_type": "execute_result",
          "data": {
            "text/plain": [
              "[(5.000000000000001, 'Gate of Heavenly Peace, The '),\n",
              " (5.0, 'Ulysses Ulisse'),\n",
              " (5.0, 'Song of Freedom '),\n",
              " (5.0, 'Smashing Time '),\n",
              " (5.0, 'Schlafes Bruder Brother of Sleep'),\n",
              " (5.0, 'One Little Indian '),\n",
              " (5.0, 'Lured '),\n",
              " (5.0, 'Follow the Bitch '),\n",
              " (5.0, 'Dry Cleaning Nettoyage à sec'),\n",
              " (5.0, 'Bittersweet Motel ')]"
            ]
          },
          "metadata": {
            "tags": []
          },
          "execution_count": 220
        }
      ]
    },
    {
      "cell_type": "code",
      "metadata": {
        "id": "va6-VDIpn3eU",
        "colab_type": "code",
        "outputId": "c285bb72-9e44-4be7-9d82-bdba44a566fc",
        "colab": {
          "base_uri": "https://localhost:8080/",
          "height": 183
        }
      },
      "source": [
        "get_recomendacoes(base_movies_ratings, '961', 10)"
      ],
      "execution_count": 0,
      "outputs": [
        {
          "output_type": "execute_result",
          "data": {
            "text/plain": [
              "[(5.0, 'Ulysses Ulisse'),\n",
              " (5.0, 'Song of Freedom '),\n",
              " (5.0, 'Smashing Time '),\n",
              " (5.0, 'Schlafes Bruder Brother of Sleep'),\n",
              " (5.0, 'One Little Indian '),\n",
              " (5.0, 'Mamma Roma '),\n",
              " (5.0, 'Lured '),\n",
              " (5.0, 'Gate of Heavenly Peace, The '),\n",
              " (5.0, 'Bittersweet Motel '),\n",
              " (5.0, 'Baby, The ')]"
            ]
          },
          "metadata": {
            "tags": []
          },
          "execution_count": 222
        }
      ]
    },
    {
      "cell_type": "markdown",
      "metadata": {
        "id": "6PL6rLcot2Bx",
        "colab_type": "text"
      },
      "source": [
        "Os filmes recomendados para o 212 são muito similares aos filmes para o usuário 1."
      ]
    },
    {
      "cell_type": "code",
      "metadata": {
        "id": "2-jd-GqrmKJG",
        "colab_type": "code",
        "outputId": "9ac6928c-ccee-467e-a085-27ed777248c4",
        "colab": {
          "base_uri": "https://localhost:8080/",
          "height": 183
        }
      },
      "source": [
        "get_recomendacoes(base_movies_ratings, '1', 10)"
      ],
      "execution_count": 19,
      "outputs": [
        {
          "output_type": "execute_result",
          "data": {
            "text/plain": [
              "[(5.0, 'Ulysses Ulisse'),\n",
              " (5.0, 'Song of Freedom '),\n",
              " (5.0, 'Smashing Time '),\n",
              " (5.0, 'Schlafes Bruder Brother of Sleep'),\n",
              " (5.0, 'One Little Indian '),\n",
              " (5.0, 'Lured '),\n",
              " (5.0, 'Gate of Heavenly Peace, The '),\n",
              " (5.0, 'Follow the Bitch '),\n",
              " (5.0, 'Bittersweet Motel '),\n",
              " (4.8077845105144785, 'I Am Cuba Soy Cuba/Ya Kuba')]"
            ]
          },
          "metadata": {
            "tags": []
          },
          "execution_count": 19
        }
      ]
    },
    {
      "cell_type": "markdown",
      "metadata": {
        "id": "8bIL61-lvDWF",
        "colab_type": "text"
      },
      "source": [
        "Existe um problema de similaridades quando a base de dados é muito grande, prejudicando no resultado final na recomendação dos filmes. Isto é, usuários distintos podem ter os mesmos tipos de filmes, não necessariamente similares entre eles. \n",
        "\n",
        "Portanto, vamos alterar o processo de avaliação e a técnica de similaridade e recomendação dos filmes por filtragem de itens."
      ]
    },
    {
      "cell_type": "code",
      "metadata": {
        "id": "73GwxscTwIp2",
        "colab_type": "code",
        "colab": {
          "base_uri": "https://localhost:8080/",
          "height": 100
        },
        "outputId": "a53ba9a9-dd05-4979-918b-fa8aaf784631"
      },
      "source": [
        "get_similares(avaliacoes_filmes, 'O Ultimato Bourne', 10)"
      ],
      "execution_count": 22,
      "outputs": [
        {
          "output_type": "execute_result",
          "data": {
            "text/plain": [
              "[(0.3761785115301142, 'Exterminador do Futuro'),\n",
              " (0.3567891723253309, 'Freddy x Jason'),\n",
              " (0.3266316347104093, 'Star Wars'),\n",
              " (0.32037724101704074, 'Star Trek'),\n",
              " (0.1886378647726465, 'Norbit')]"
            ]
          },
          "metadata": {
            "tags": []
          },
          "execution_count": 22
        }
      ]
    },
    {
      "cell_type": "code",
      "metadata": {
        "id": "Il2SwC7-wwD0",
        "colab_type": "code",
        "colab": {
          "base_uri": "https://localhost:8080/",
          "height": 100
        },
        "outputId": "6d599e88-9bdd-44b9-fd8f-edf38372c779"
      },
      "source": [
        "get_similares(avaliacoes_filmes, 'Exterminador do Futuro', 10)"
      ],
      "execution_count": 23,
      "outputs": [
        {
          "output_type": "execute_result",
          "data": {
            "text/plain": [
              "[(0.3761785115301142, 'O Ultimato Bourne'),\n",
              " (0.27429188517743175, 'Star Wars'),\n",
              " (0.2402530733520421, 'Freddy x Jason'),\n",
              " (0.20799159651347807, 'Star Trek'),\n",
              " (0.18464218557642828, 'Norbit')]"
            ]
          },
          "metadata": {
            "tags": []
          },
          "execution_count": 23
        }
      ]
    },
    {
      "cell_type": "markdown",
      "metadata": {
        "id": "MkDwvyu0xYo-",
        "colab_type": "text"
      },
      "source": [
        "Vamos pegar a nota de cada filme assistido e multiplicar pelo valor da similaridade do filme não assistido, por fim, o filme não assistido terá uma nova nota (Nota do filme assistido x similaridade do filme não assistido). Após isso: \n",
        "* Somar o valor da similaridade de filmes não assisitidos.\n",
        "* Somar o valor da nova nota dos filmes não assisitidos após a multiplicação.\n",
        "\n",
        "Depois divida o valor da nova nota dos filmes não assistidos pela soma dos valores da similaridade dos filmes não assistidos. \n",
        "\n",
        "**Com este resultado acima, será a nota prevista do usuário dar ao filme não assistido.**\n",
        "\n"
      ]
    },
    {
      "cell_type": "markdown",
      "metadata": {
        "id": "DcSsUTgP0ysI",
        "colab_type": "text"
      },
      "source": [
        "Neste dado o Leonardo não assistiu aos filmes *Freddy x Jason*, *Star Trek* e *Star Wars*. Por isso a abordagem **Filtragem Por Item** torna-se mais eficiente para prever notas e recomendar filmes."
      ]
    },
    {
      "cell_type": "code",
      "metadata": {
        "id": "uAkkbMJ_zuGo",
        "colab_type": "code",
        "colab": {
          "base_uri": "https://localhost:8080/",
          "height": 33
        },
        "outputId": "12513e58-89cd-4216-e9fc-cf998099cdf0"
      },
      "source": [
        "avaliacoes_usuario['Leonardo']"
      ],
      "execution_count": 24,
      "outputs": [
        {
          "output_type": "execute_result",
          "data": {
            "text/plain": [
              "{'Exterminador do Futuro': 4.0, 'Norbit': 1.0, 'O Ultimato Bourne': 4.5}"
            ]
          },
          "metadata": {
            "tags": []
          },
          "execution_count": 24
        }
      ]
    },
    {
      "cell_type": "markdown",
      "metadata": {
        "id": "fhuvGgU61tO3",
        "colab_type": "text"
      },
      "source": [
        "Filtragem por item - item por similaridades."
      ]
    },
    {
      "cell_type": "code",
      "metadata": {
        "id": "cn_A2wXA1yyg",
        "colab_type": "code",
        "colab": {}
      },
      "source": [
        "get_similares(avaliacoes_filmes, 'Star Trek', 10)"
      ],
      "execution_count": 0,
      "outputs": []
    }
  ]
}