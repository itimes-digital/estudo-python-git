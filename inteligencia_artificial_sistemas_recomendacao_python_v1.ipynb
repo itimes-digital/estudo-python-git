{
  "nbformat": 4,
  "nbformat_minor": 0,
  "metadata": {
    "colab": {
      "name": "Untitled2.ipynb",
      "provenance": [],
      "authorship_tag": "ABX9TyNxI+xoA7ecwSQQM/P1IyPw",
      "include_colab_link": true
    },
    "kernelspec": {
      "name": "python3",
      "display_name": "Python 3"
    }
  },
  "cells": [
    {
      "cell_type": "markdown",
      "metadata": {
        "id": "view-in-github",
        "colab_type": "text"
      },
      "source": [
        "<a href=\"https://colab.research.google.com/github/itimes-digital/estudo-python-git/blob/master/inteligencia_artificial_sistemas_recomendacao_python_v1.ipynb\" target=\"_parent\"><img src=\"https://colab.research.google.com/assets/colab-badge.svg\" alt=\"Open In Colab\"/></a>"
      ]
    },
    {
      "cell_type": "code",
      "metadata": {
        "id": "OmwpeWpp7YQY",
        "colab_type": "code",
        "colab": {}
      },
      "source": [
        "import pandas as pd;\n",
        "import matplotlib.pyplot as plt;\n",
        "import seaborn as sns; \n",
        "from math import sqrt;\n",
        "import numpy as np"
      ],
      "execution_count": 0,
      "outputs": []
    },
    {
      "cell_type": "markdown",
      "metadata": {
        "id": "STqOp8gl7HmP",
        "colab_type": "text"
      },
      "source": [
        "Dados de análise para realizar as associações e a similaridade entre gostos de filmes. Para isso vamos usar a distância euclidiana para calcular a similaridade entre os usuários e filmes."
      ]
    },
    {
      "cell_type": "code",
      "metadata": {
        "id": "4ZAsPTv9MaT0",
        "colab_type": "code",
        "colab": {}
      },
      "source": [
        "avaliacoes_usuario = {'Ana': \n",
        "\t\t{'Freddy x Jason': 2.5, \n",
        "\t\t 'O Ultimato Bourne': 3.5,\n",
        "\t\t 'Star Trek': 3.0, \n",
        "\t\t 'Exterminador do Futuro': 3.5, \n",
        "\t\t 'Norbit': 2.5, \n",
        "\t\t 'Star Wars': 3.0},\n",
        "\t \n",
        "\t  'Marcos': \n",
        "\t\t{'Freddy x Jason': 3.0, \n",
        "\t\t 'O Ultimato Bourne': 3.5, \n",
        "\t\t 'Star Trek': 1.5, \n",
        "\t\t 'Exterminador do Futuro': 5.0, \n",
        "\t\t 'Star Wars': 3.0, \n",
        "\t\t 'Norbit': 3.5}, \n",
        "\n",
        "\t  'Pedro': \n",
        "\t    {'Freddy x Jason': 2.5, \n",
        "\t\t 'O Ultimato Bourne': 3.0,\n",
        "\t\t 'Exterminador do Futuro': 3.5, \n",
        "\t\t 'Star Wars': 4.0},\n",
        "\t\t\t \n",
        "\t  'Claudia': \n",
        "\t\t{'O Ultimato Bourne': 3.5, \n",
        "\t\t 'Star Trek': 3.0,\n",
        "\t\t 'Star Wars': 4.5, \n",
        "\t\t 'Exterminador do Futuro': 4.0, \n",
        "\t\t 'Norbit': 2.5},\n",
        "\t\t\t\t \n",
        "\t  'Adriano': \n",
        "\t\t{'Freddy x Jason': 3.0, \n",
        "\t\t 'O Ultimato Bourne': 4.0, \n",
        "\t\t 'Star Trek': 2.0, \n",
        "\t\t 'Exterminador do Futuro': 3.0, \n",
        "\t\t 'Star Wars': 3.0,\n",
        "\t\t 'Norbit': 2.0}, \n",
        "\n",
        "\t  'Janaina': \n",
        "\t     {'Freddy x Jason': 3.0, \n",
        "\t      'O Ultimato Bourne': 4.0,\n",
        "\t      'Star Wars': 3.0, \n",
        "\t      'Exterminador do Futuro': 5.0, \n",
        "\t      'Norbit': 3.5},\n",
        "\t\t\t  \n",
        "\t  'Leonardo': \n",
        "\t    {'O Ultimato Bourne':4.5,\n",
        "             'Norbit':1.0,\n",
        "\t     'Exterminador do Futuro':4.0}\n",
        "}"
      ],
      "execution_count": 0,
      "outputs": []
    },
    {
      "cell_type": "code",
      "metadata": {
        "id": "wXUZnogP1U4M",
        "colab_type": "code",
        "outputId": "a219e844-8f36-4bdc-92a8-e6e413cf6a3e",
        "colab": {
          "base_uri": "https://localhost:8080/",
          "height": 34
        }
      },
      "source": [
        "avaliacoes_usuario['Ana']['Star Trek']"
      ],
      "execution_count": 60,
      "outputs": [
        {
          "output_type": "execute_result",
          "data": {
            "text/plain": [
              "3.0"
            ]
          },
          "metadata": {
            "tags": []
          },
          "execution_count": 60
        }
      ]
    },
    {
      "cell_type": "code",
      "metadata": {
        "id": "yCT--3Rr1bgO",
        "colab_type": "code",
        "outputId": "50678e55-20ee-42d8-a6c8-bbe40a33c355",
        "colab": {
          "base_uri": "https://localhost:8080/",
          "height": 34
        }
      },
      "source": [
        "avaliacoes_usuario['Pedro']['Star Wars']"
      ],
      "execution_count": 61,
      "outputs": [
        {
          "output_type": "execute_result",
          "data": {
            "text/plain": [
              "4.0"
            ]
          },
          "metadata": {
            "tags": []
          },
          "execution_count": 61
        }
      ]
    },
    {
      "cell_type": "code",
      "metadata": {
        "id": "TFCakumm1iay",
        "colab_type": "code",
        "outputId": "c823d981-28e8-47f8-cc15-78a175d6ca16",
        "colab": {
          "base_uri": "https://localhost:8080/",
          "height": 34
        }
      },
      "source": [
        "avaliacoes_usuario['Marcos']['Exterminador do Futuro']"
      ],
      "execution_count": 62,
      "outputs": [
        {
          "output_type": "execute_result",
          "data": {
            "text/plain": [
              "5.0"
            ]
          },
          "metadata": {
            "tags": []
          },
          "execution_count": 62
        }
      ]
    },
    {
      "cell_type": "code",
      "metadata": {
        "id": "bArTeMX31pmN",
        "colab_type": "code",
        "outputId": "f3560bee-b64b-46f7-bf71-13d213d8a6c0",
        "colab": {
          "base_uri": "https://localhost:8080/",
          "height": 102
        }
      },
      "source": [
        "avaliacoes_usuario['Claudia']"
      ],
      "execution_count": 63,
      "outputs": [
        {
          "output_type": "execute_result",
          "data": {
            "text/plain": [
              "{'Exterminador do Futuro': 4.0,\n",
              " 'Norbit': 2.5,\n",
              " 'O Ultimato Bourne': 3.5,\n",
              " 'Star Trek': 3.0,\n",
              " 'Star Wars': 4.5}"
            ]
          },
          "metadata": {
            "tags": []
          },
          "execution_count": 63
        }
      ]
    },
    {
      "cell_type": "code",
      "metadata": {
        "id": "eRsYLeKZ121e",
        "colab_type": "code",
        "outputId": "4b8f5b1c-8124-4778-b2ea-bd2c96b09125",
        "colab": {
          "base_uri": "https://localhost:8080/",
          "height": 85
        }
      },
      "source": [
        "avaliacoes_usuario['Pedro']"
      ],
      "execution_count": 64,
      "outputs": [
        {
          "output_type": "execute_result",
          "data": {
            "text/plain": [
              "{'Exterminador do Futuro': 3.5,\n",
              " 'Freddy x Jason': 2.5,\n",
              " 'O Ultimato Bourne': 3.0,\n",
              " 'Star Wars': 4.0}"
            ]
          },
          "metadata": {
            "tags": []
          },
          "execution_count": 64
        }
      ]
    },
    {
      "cell_type": "code",
      "metadata": {
        "id": "Mmnv34QJ2AHi",
        "colab_type": "code",
        "colab": {
          "base_uri": "https://localhost:8080/",
          "height": 34
        },
        "outputId": "399e2d53-14b3-416a-989b-2568260e0631"
      },
      "source": [
        "pow(3.5 - 4, 2)"
      ],
      "execution_count": 15,
      "outputs": [
        {
          "output_type": "execute_result",
          "data": {
            "text/plain": [
              "0.25"
            ]
          },
          "metadata": {
            "tags": []
          },
          "execution_count": 15
        }
      ]
    },
    {
      "cell_type": "code",
      "metadata": {
        "id": "UrPSJAgp-COB",
        "colab_type": "code",
        "colab": {
          "base_uri": "https://localhost:8080/",
          "height": 34
        },
        "outputId": "b4b2f957-d4bd-450f-a4c1-dce2f89a7272"
      },
      "source": [
        "pow(3 - 3, 2)"
      ],
      "execution_count": 14,
      "outputs": [
        {
          "output_type": "execute_result",
          "data": {
            "text/plain": [
              "0"
            ]
          },
          "metadata": {
            "tags": []
          },
          "execution_count": 14
        }
      ]
    },
    {
      "cell_type": "markdown",
      "metadata": {
        "id": "4VswOWXF-xLJ",
        "colab_type": "text"
      },
      "source": [
        "Fórmula da Distância Euclidiana. Dados: \n",
        "* xi = 3.0, 3.5\n",
        "* yi = 3.0, 4.0"
      ]
    },
    {
      "cell_type": "markdown",
      "metadata": {
        "id": "MZrDSpVPAbii",
        "colab_type": "text"
      },
      "source": [
        "Divide por 1 (e soma por 1) para ter o resultado em percentis."
      ]
    },
    {
      "cell_type": "code",
      "metadata": {
        "id": "u20Mls_s-EI8",
        "colab_type": "code",
        "colab": {
          "base_uri": "https://localhost:8080/",
          "height": 34
        },
        "outputId": "bf76e869-47b6-49bf-b237-95f0db56f957"
      },
      "source": [
        "1 / (1 + sqrt(pow(3 - 3,2) + pow(3.5 - 4, 2)))"
      ],
      "execution_count": 23,
      "outputs": [
        {
          "output_type": "execute_result",
          "data": {
            "text/plain": [
              "0.6666666666666666"
            ]
          },
          "metadata": {
            "tags": []
          },
          "execution_count": 23
        }
      ]
    },
    {
      "cell_type": "markdown",
      "metadata": {
        "id": "VnDsJv9u_bvp",
        "colab_type": "text"
      },
      "source": [
        "* xi = 3.0, 3.5\n",
        "* yi = 1.5, 5.0"
      ]
    },
    {
      "cell_type": "code",
      "metadata": {
        "id": "hN6qu7WE_Sc5",
        "colab_type": "code",
        "colab": {
          "base_uri": "https://localhost:8080/",
          "height": 34
        },
        "outputId": "96238fbc-381d-416b-c2ed-463a9b4add3a"
      },
      "source": [
        "1 / (1 + sqrt(pow(3 - 1.5,2) + pow(3.5 - 5, 2)))"
      ],
      "execution_count": 22,
      "outputs": [
        {
          "output_type": "execute_result",
          "data": {
            "text/plain": [
              "0.32037724101704074"
            ]
          },
          "metadata": {
            "tags": []
          },
          "execution_count": 22
        }
      ]
    },
    {
      "cell_type": "markdown",
      "metadata": {
        "id": "xL1CezbOBXYZ",
        "colab_type": "text"
      },
      "source": [
        "Função para calcular a distância euclidiana"
      ]
    },
    {
      "cell_type": "code",
      "metadata": {
        "id": "bBKgzga-A8yE",
        "colab_type": "code",
        "colab": {}
      },
      "source": [
        "def calcular_distancia_euclidiana(base, usuarioX, usuarioY):\n",
        "  si = {};\n",
        "  for item in base[usuarioX]:\n",
        "    if item in base[usuarioY]: \n",
        "      si[item] = 1\n",
        "\n",
        "  if len(si) == 0:\n",
        "    return 0;\n",
        "  # aplicação da fórmula da distância euclidiana\n",
        "  soma = sum([pow(base[usuarioX][item] - base[usuarioY][item], 2)\n",
        "            for item in base[usuarioX] if item in base[usuarioY]])\n",
        "  return 1 / (1 + sqrt(soma))\n",
        "\n"
      ],
      "execution_count": 0,
      "outputs": []
    },
    {
      "cell_type": "code",
      "metadata": {
        "id": "sdhYwhdjd4qN",
        "colab_type": "code",
        "colab": {
          "base_uri": "https://localhost:8080/",
          "height": 34
        },
        "outputId": "ba84622d-1be9-435e-b031-12b1613df03a"
      },
      "source": [
        "calcular_distancia_euclidiana(avaliacoes_usuario, 'Leonardo', 'Ana')"
      ],
      "execution_count": 66,
      "outputs": [
        {
          "output_type": "execute_result",
          "data": {
            "text/plain": [
              "0.3483314773547883"
            ]
          },
          "metadata": {
            "tags": []
          },
          "execution_count": 66
        }
      ]
    },
    {
      "cell_type": "code",
      "metadata": {
        "id": "9hYuG6Lfeer8",
        "colab_type": "code",
        "colab": {
          "base_uri": "https://localhost:8080/",
          "height": 34
        },
        "outputId": "e15e54f5-6a3a-48b0-dea9-eb9510976a8f"
      },
      "source": [
        "calcular_distancia_euclidiana(avaliacoes_usuario, 'Marcos', 'Claudia')"
      ],
      "execution_count": 67,
      "outputs": [
        {
          "output_type": "execute_result",
          "data": {
            "text/plain": [
              "0.28172904669025317"
            ]
          },
          "metadata": {
            "tags": []
          },
          "execution_count": 67
        }
      ]
    },
    {
      "cell_type": "code",
      "metadata": {
        "id": "46uOaTidejId",
        "colab_type": "code",
        "colab": {
          "base_uri": "https://localhost:8080/",
          "height": 34
        },
        "outputId": "ac12b151-60d1-4c9e-ca4d-c181b9160ebf"
      },
      "source": [
        "calcular_distancia_euclidiana(avaliacoes_usuario, 'Pedro', 'Marcos')"
      ],
      "execution_count": 68,
      "outputs": [
        {
          "output_type": "execute_result",
          "data": {
            "text/plain": [
              "0.3405424265831667"
            ]
          },
          "metadata": {
            "tags": []
          },
          "execution_count": 68
        }
      ]
    },
    {
      "cell_type": "code",
      "metadata": {
        "id": "M7DL4f2IeqYk",
        "colab_type": "code",
        "colab": {
          "base_uri": "https://localhost:8080/",
          "height": 34
        },
        "outputId": "6c089f3d-00c9-4398-b43d-56cb96ce3b16"
      },
      "source": [
        "calcular_distancia_euclidiana(avaliacoes_usuario, 'Ana', 'Pedro')"
      ],
      "execution_count": 69,
      "outputs": [
        {
          "output_type": "execute_result",
          "data": {
            "text/plain": [
              "0.4721359549995794"
            ]
          },
          "metadata": {
            "tags": []
          },
          "execution_count": 69
        }
      ]
    },
    {
      "cell_type": "markdown",
      "metadata": {
        "id": "5Dz7RFD8gjTR",
        "colab_type": "text"
      },
      "source": [
        "Função de similaridade retornará os perfis ordenados mais parecidos com o usuário esperado. "
      ]
    },
    {
      "cell_type": "code",
      "metadata": {
        "id": "PqZLO9jJfEvV",
        "colab_type": "code",
        "colab": {}
      },
      "source": [
        "def get_similares(base, usuario):\n",
        "  similaridade = [(calcular_distancia_euclidiana(base, usuario, outro), outro) \n",
        "                   for outro in base if outro != usuario];\n",
        "  similaridade.sort();\n",
        "  similaridade.reverse();\n",
        "  return similaridade;"
      ],
      "execution_count": 0,
      "outputs": []
    },
    {
      "cell_type": "code",
      "metadata": {
        "id": "XaDbleNlfucx",
        "colab_type": "code",
        "colab": {
          "base_uri": "https://localhost:8080/",
          "height": 119
        },
        "outputId": "8df96f5f-99ca-4d47-ae70-a6cc79db4e92"
      },
      "source": [
        "get_similares(avaliacoes_usuario, 'Ana')"
      ],
      "execution_count": 71,
      "outputs": [
        {
          "output_type": "execute_result",
          "data": {
            "text/plain": [
              "[(0.4721359549995794, 'Pedro'),\n",
              " (0.4142135623730951, 'Adriano'),\n",
              " (0.38742588672279304, 'Claudia'),\n",
              " (0.3483314773547883, 'Leonardo'),\n",
              " (0.3405424265831667, 'Janaina'),\n",
              " (0.29429805508554946, 'Marcos')]"
            ]
          },
          "metadata": {
            "tags": []
          },
          "execution_count": 71
        }
      ]
    },
    {
      "cell_type": "code",
      "metadata": {
        "id": "co-QLh8egXji",
        "colab_type": "code",
        "colab": {
          "base_uri": "https://localhost:8080/",
          "height": 119
        },
        "outputId": "8d84f0e3-5aa4-47cb-b623-018ee3abf2ce"
      },
      "source": [
        "get_similares(avaliacoes_usuario, 'Pedro')"
      ],
      "execution_count": 45,
      "outputs": [
        {
          "output_type": "execute_result",
          "data": {
            "text/plain": [
              "[(0.5358983848622454, 'Claudia'),\n",
              " (0.4721359549995794, 'Ana'),\n",
              " (0.38742588672279304, 'Leonardo'),\n",
              " (0.38742588672279304, 'Adriano'),\n",
              " (0.3405424265831667, 'Marcos'),\n",
              " (0.32037724101704074, 'Janaina')]"
            ]
          },
          "metadata": {
            "tags": []
          },
          "execution_count": 45
        }
      ]
    },
    {
      "cell_type": "code",
      "metadata": {
        "id": "AW_l6lXSgeag",
        "colab_type": "code",
        "colab": {
          "base_uri": "https://localhost:8080/",
          "height": 119
        },
        "outputId": "3f6fb50c-1109-4f09-f621-6b59e319cf78"
      },
      "source": [
        "get_similares(avaliacoes_usuario, 'Marcos')"
      ],
      "execution_count": 46,
      "outputs": [
        {
          "output_type": "execute_result",
          "data": {
            "text/plain": [
              "[(0.6666666666666666, 'Janaina'),\n",
              " (0.3405424265831667, 'Pedro'),\n",
              " (0.29429805508554946, 'Ana'),\n",
              " (0.28172904669025317, 'Claudia'),\n",
              " (0.27792629762666365, 'Adriano'),\n",
              " (0.25824569976124334, 'Leonardo')]"
            ]
          },
          "metadata": {
            "tags": []
          },
          "execution_count": 46
        }
      ]
    },
    {
      "cell_type": "code",
      "metadata": {
        "id": "5U3B_7mBi2Z4",
        "colab_type": "code",
        "colab": {
          "base_uri": "https://localhost:8080/",
          "height": 119
        },
        "outputId": "6824c3e3-bc4a-4584-e656-b7e946ac2dae"
      },
      "source": [
        "get_similares(avaliacoes_usuario, 'Leonardo')"
      ],
      "execution_count": 47,
      "outputs": [
        {
          "output_type": "execute_result",
          "data": {
            "text/plain": [
              "[(0.4, 'Adriano'),\n",
              " (0.38742588672279304, 'Pedro'),\n",
              " (0.3567891723253309, 'Claudia'),\n",
              " (0.3483314773547883, 'Ana'),\n",
              " (0.2674788903885893, 'Janaina'),\n",
              " (0.25824569976124334, 'Marcos')]"
            ]
          },
          "metadata": {
            "tags": []
          },
          "execution_count": 47
        }
      ]
    },
    {
      "cell_type": "markdown",
      "metadata": {
        "id": "oKnznL6toNDU",
        "colab_type": "text"
      },
      "source": [
        "Função para calcular a média ponderada de filmes similares para recomendação aos usuários."
      ]
    },
    {
      "cell_type": "code",
      "metadata": {
        "id": "dNcFwCDYoTYq",
        "colab_type": "code",
        "colab": {}
      },
      "source": [
        "def get_recomendacoes(base, usuario):\n",
        "  totais = {}\n",
        "  soma_similaridade = {}\n",
        "\n",
        "  for outro in base:\n",
        "    if outro == usuario: \n",
        "      continue;\n",
        "    similaridade = calcular_distancia_euclidiana(base, usuario, outro);\n",
        "\n",
        "    if similaridade <= 0:\n",
        "      continue;\n",
        "\n",
        "    for item in base[outro]:\n",
        "      if item not in base[usuario]:\n",
        "        totais.setdefault(item, 0);\n",
        "        totais[item] += base[outro][item] * similaridade;\n",
        "        soma_similaridade.setdefault(item, 0);\n",
        "        soma_similaridade[item] += similaridade;\n",
        "  \n",
        "  rankings = [(total / soma_similaridade[item], item) \n",
        "              for item, total in totais.items()];\n",
        "\n",
        "  rankings.sort();\n",
        "  rankings.reverse();\n",
        "  return rankings;\n"
      ],
      "execution_count": 0,
      "outputs": []
    },
    {
      "cell_type": "code",
      "metadata": {
        "id": "xTuo8D_8rdAy",
        "colab_type": "code",
        "colab": {
          "base_uri": "https://localhost:8080/",
          "height": 68
        },
        "outputId": "120a9e75-1486-44d7-ebc3-4b6820934beb"
      },
      "source": [
        "get_recomendacoes(avaliacoes_usuario, 'Leonardo')"
      ],
      "execution_count": 73,
      "outputs": [
        {
          "output_type": "execute_result",
          "data": {
            "text/plain": [
              "[(3.457128694491423, 'Star Wars'),\n",
              " (2.778584003814924, 'Freddy x Jason'),\n",
              " (2.422482042361917, 'Star Trek')]"
            ]
          },
          "metadata": {
            "tags": []
          },
          "execution_count": 73
        }
      ]
    },
    {
      "cell_type": "code",
      "metadata": {
        "id": "UmDEfssTr5ki",
        "colab_type": "code",
        "colab": {
          "base_uri": "https://localhost:8080/",
          "height": 34
        },
        "outputId": "c51d61a5-1fb3-4fde-b6c4-b722ed6d9a21"
      },
      "source": [
        "get_recomendacoes(avaliacoes_usuario, 'Pedro')"
      ],
      "execution_count": 74,
      "outputs": [
        {
          "output_type": "execute_result",
          "data": {
            "text/plain": [
              "[(2.4825817086405517, 'Star Trek'), (2.453379230569188, 'Norbit')]"
            ]
          },
          "metadata": {
            "tags": []
          },
          "execution_count": 74
        }
      ]
    },
    {
      "cell_type": "code",
      "metadata": {
        "id": "N3fYTYC0sJw3",
        "colab_type": "code",
        "colab": {
          "base_uri": "https://localhost:8080/",
          "height": 34
        },
        "outputId": "c0352227-fcfe-470d-fba9-b769e66daac5"
      },
      "source": [
        "get_recomendacoes(avaliacoes_usuario, 'Claudia')"
      ],
      "execution_count": 51,
      "outputs": [
        {
          "output_type": "execute_result",
          "data": {
            "text/plain": [
              "[(2.74908990418004, 'Freddy x Jason')]"
            ]
          },
          "metadata": {
            "tags": []
          },
          "execution_count": 51
        }
      ]
    },
    {
      "cell_type": "markdown",
      "metadata": {
        "id": "yJZBxXvuvAAd",
        "colab_type": "text"
      },
      "source": [
        "Vamos mudar a ordem de exibição e tratamento dos dados, a partir de filme teremos as notas dos usuários para análise. Assim, conseguiremos recomendar filmes que tenha notas parecidas ou próximas a partir de uma escolha."
      ]
    },
    {
      "cell_type": "code",
      "metadata": {
        "id": "0H_SJVUnvLca",
        "colab_type": "code",
        "colab": {}
      },
      "source": [
        "avaliacoes_filmes = {'Freddy x Jason': \n",
        "\t\t{'Ana': 2.5, \n",
        "\t\t 'Marcos:': 3.0 ,\n",
        "\t\t 'Pedro': 2.5, \n",
        "\t\t 'Adriano': 3.0, \n",
        "\t\t 'Janaina': 3.0 },\n",
        "\t \n",
        "\t 'O Ultimato Bourne': \n",
        "\t\t{'Ana': 3.5, \n",
        "\t\t 'Marcos': 3.5,\n",
        "\t\t 'Pedro': 3.0, \n",
        "\t\t 'Claudia': 3.5, \n",
        "\t\t 'Adriano': 4.0, \n",
        "\t\t 'Janaina': 4.0,\n",
        "\t\t 'Leonardo': 4.5 },\n",
        "\t\t\t\t \n",
        "\t 'Star Trek': \n",
        "\t\t{'Ana': 3.0, \n",
        "\t\t 'Marcos:': 1.5,\n",
        "\t\t 'Claudia': 3.0, \n",
        "\t\t 'Adriano': 2.0 },\n",
        "\t\n",
        "\t 'Exterminador do Futuro': \n",
        "\t\t{'Ana': 3.5, \n",
        "\t\t 'Marcos:': 5.0 ,\n",
        "\t\t 'Pedro': 3.5, \n",
        "\t\t 'Claudia': 4.0, \n",
        "\t\t 'Adriano': 3.0, \n",
        "\t\t 'Janaina': 5.0,\n",
        "\t\t 'Leonardo': 4.0},\n",
        "\t\t\t\t \n",
        "\t 'Norbit': \n",
        "\t\t{'Ana': 2.5, \n",
        "\t\t 'Marcos:': 3.0 ,\n",
        "\t\t 'Claudia': 2.5, \n",
        "\t\t 'Adriano': 2.0, \n",
        "\t\t 'Janaina': 3.5,\n",
        "\t\t 'Leonardo': 1.0},\n",
        "\t\t\t\t \n",
        "\t 'Star Wars': \n",
        "\t\t{'Ana': 3.0, \n",
        "\t\t 'Marcos:': 3.5,\n",
        "\t\t 'Pedro': 4.0, \n",
        "\t\t 'Claudia': 4.5, \n",
        "\t\t 'Adriano': 3.0, \n",
        "\t\t 'Janaina': 3.0}\n",
        "}"
      ],
      "execution_count": 0,
      "outputs": []
    },
    {
      "cell_type": "code",
      "metadata": {
        "id": "yOF8KXfOvUu0",
        "colab_type": "code",
        "colab": {
          "base_uri": "https://localhost:8080/",
          "height": 119
        },
        "outputId": "7af306d7-6dbf-4759-c8fc-1f1a0d44e92d"
      },
      "source": [
        "avaliacoes_filmes['Star Wars']"
      ],
      "execution_count": 53,
      "outputs": [
        {
          "output_type": "execute_result",
          "data": {
            "text/plain": [
              "{'Adriano': 3.0,\n",
              " 'Ana': 3.0,\n",
              " 'Claudia': 4.5,\n",
              " 'Janaina': 3.0,\n",
              " 'Marcos:': 3.5,\n",
              " 'Pedro': 4.0}"
            ]
          },
          "metadata": {
            "tags": []
          },
          "execution_count": 53
        }
      ]
    },
    {
      "cell_type": "code",
      "metadata": {
        "id": "vcwDfT10vjqE",
        "colab_type": "code",
        "colab": {
          "base_uri": "https://localhost:8080/",
          "height": 34
        },
        "outputId": "2a7bab97-1945-4879-c6ab-220138b0b033"
      },
      "source": [
        "avaliacoes_filmes['Star Wars']['Janaina']"
      ],
      "execution_count": 76,
      "outputs": [
        {
          "output_type": "execute_result",
          "data": {
            "text/plain": [
              "3.0"
            ]
          },
          "metadata": {
            "tags": []
          },
          "execution_count": 76
        }
      ]
    },
    {
      "cell_type": "markdown",
      "metadata": {
        "id": "IbpYkhyJzDKI",
        "colab_type": "text"
      },
      "source": [
        "Com a nova estrutura de dados temos filmes com respectivas notas de diversos usuários, podemos recomendar filmes similares ou com notas muito próximas recebidas. Nesta situação não há uma categorização específica, do qual não vai gerar uma maior precisão na recomendação. \n",
        "\n",
        "Ao especificar o filme Star Wars, o sistema recomendou fortemente o 'Freddy x Jason', porque neste dataset estudado as notas desses dois filmes são parecidas/similares. Portanto, havendo categorização de gênero e mais dados de análise, provavelmente, a recomendação seria os filmes 'Exterminador do Futuro' e 'Star Trek', já que há similaridade de gênero entre eles. Já outro, mesmo com elementos espaciais, ele está muito mais atrelado ao horror/terror."
      ]
    },
    {
      "cell_type": "code",
      "metadata": {
        "id": "_Cz8Y1tXwF7b",
        "colab_type": "code",
        "colab": {
          "base_uri": "https://localhost:8080/",
          "height": 102
        },
        "outputId": "9b0d9e34-f86b-46f4-b8c7-17e5c27ffdd2"
      },
      "source": [
        "get_similares(avaliacoes_filmes, 'Star Wars')"
      ],
      "execution_count": 77,
      "outputs": [
        {
          "output_type": "execute_result",
          "data": {
            "text/plain": [
              "[(0.3761785115301142, 'Freddy x Jason'),\n",
              " (0.3266316347104093, 'O Ultimato Bourne'),\n",
              " (0.29429805508554946, 'Norbit'),\n",
              " (0.27429188517743175, 'Exterminador do Futuro'),\n",
              " (0.2708131845707603, 'Star Trek')]"
            ]
          },
          "metadata": {
            "tags": []
          },
          "execution_count": 77
        }
      ]
    },
    {
      "cell_type": "code",
      "metadata": {
        "id": "E1wu8qFPwfFO",
        "colab_type": "code",
        "colab": {
          "base_uri": "https://localhost:8080/",
          "height": 102
        },
        "outputId": "6c25449a-7e41-40b0-e34b-ca0c5ee92468"
      },
      "source": [
        "get_similares(avaliacoes_filmes, 'Norbit')"
      ],
      "execution_count": 78,
      "outputs": [
        {
          "output_type": "execute_result",
          "data": {
            "text/plain": [
              "[(0.4721359549995794, 'Freddy x Jason'),\n",
              " (0.3761785115301142, 'Star Trek'),\n",
              " (0.29429805508554946, 'Star Wars'),\n",
              " (0.1886378647726465, 'O Ultimato Bourne'),\n",
              " (0.18464218557642828, 'Exterminador do Futuro')]"
            ]
          },
          "metadata": {
            "tags": []
          },
          "execution_count": 78
        }
      ]
    },
    {
      "cell_type": "code",
      "metadata": {
        "id": "QcsKSJ_nwia_",
        "colab_type": "code",
        "colab": {
          "base_uri": "https://localhost:8080/",
          "height": 34
        },
        "outputId": "1e8e94f5-3656-459e-efdd-d0cbbd562ea2"
      },
      "source": [
        "get_recomendacoes(avaliacoes_filmes, 'Star Wars')"
      ],
      "execution_count": 79,
      "outputs": [
        {
          "output_type": "execute_result",
          "data": {
            "text/plain": [
              "[(3.4999999999999996, 'Marcos'), (3.196200842319029, 'Leonardo')]"
            ]
          },
          "metadata": {
            "tags": []
          },
          "execution_count": 79
        }
      ]
    },
    {
      "cell_type": "code",
      "metadata": {
        "id": "dDIhotDYwptO",
        "colab_type": "code",
        "colab": {
          "base_uri": "https://localhost:8080/",
          "height": 85
        },
        "outputId": "e2d76eb4-b4e6-4ffe-d8e1-6fc568be5738"
      },
      "source": [
        "get_recomendacoes(avaliacoes_filmes, 'Star Trek')"
      ],
      "execution_count": 80,
      "outputs": [
        {
          "output_type": "execute_result",
          "data": {
            "text/plain": [
              "[(3.6067168976036834, 'Janaina'),\n",
              " (3.5, 'Marcos'),\n",
              " (3.1748504433675175, 'Pedro'),\n",
              " (2.929467965289551, 'Leonardo')]"
            ]
          },
          "metadata": {
            "tags": []
          },
          "execution_count": 80
        }
      ]
    }
  ]
}