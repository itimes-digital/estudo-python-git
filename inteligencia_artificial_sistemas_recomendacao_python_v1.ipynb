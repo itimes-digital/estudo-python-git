{
  "nbformat": 4,
  "nbformat_minor": 0,
  "metadata": {
    "colab": {
      "name": "Untitled2.ipynb",
      "provenance": [],
      "authorship_tag": "ABX9TyPo1X8vmdcfOG4l9lThbfez",
      "include_colab_link": true
    },
    "kernelspec": {
      "name": "python3",
      "display_name": "Python 3"
    }
  },
  "cells": [
    {
      "cell_type": "markdown",
      "metadata": {
        "id": "view-in-github",
        "colab_type": "text"
      },
      "source": [
        "<a href=\"https://colab.research.google.com/github/itimes-digital/estudo-python-git/blob/master/inteligencia_artificial_sistemas_recomendacao_python_v1.ipynb\" target=\"_parent\"><img src=\"https://colab.research.google.com/assets/colab-badge.svg\" alt=\"Open In Colab\"/></a>"
      ]
    },
    {
      "cell_type": "code",
      "metadata": {
        "id": "OmwpeWpp7YQY",
        "colab_type": "code",
        "colab": {}
      },
      "source": [
        "import pandas as pd;\n",
        "import matplotlib.pyplot as plt;\n",
        "import seaborn as sns; \n",
        "from math import sqrt;\n",
        "import numpy as np;\n",
        "#from pandas.compat import StringIO;"
      ],
      "execution_count": 0,
      "outputs": []
    },
    {
      "cell_type": "markdown",
      "metadata": {
        "id": "STqOp8gl7HmP",
        "colab_type": "text"
      },
      "source": [
        "Dados de análise para realizar as associações e a similaridade entre gostos de filmes. Para isso vamos usar a distância euclidiana para calcular a similaridade entre os usuários e filmes."
      ]
    },
    {
      "cell_type": "code",
      "metadata": {
        "id": "4ZAsPTv9MaT0",
        "colab_type": "code",
        "colab": {}
      },
      "source": [
        "avaliacoes_usuario = {'Ana': \n",
        "\t\t{'Freddy x Jason': 2.5, \n",
        "\t\t 'O Ultimato Bourne': 3.5,\n",
        "\t\t 'Star Trek': 3.0, \n",
        "\t\t 'Exterminador do Futuro': 3.5, \n",
        "\t\t 'Norbit': 2.5, \n",
        "\t\t 'Star Wars': 3.0},\n",
        "\t \n",
        "\t  'Marcos': \n",
        "\t\t{'Freddy x Jason': 3.0, \n",
        "\t\t 'O Ultimato Bourne': 3.5, \n",
        "\t\t 'Star Trek': 1.5, \n",
        "\t\t 'Exterminador do Futuro': 5.0, \n",
        "\t\t 'Star Wars': 3.0, \n",
        "\t\t 'Norbit': 3.5}, \n",
        "\n",
        "\t  'Pedro': \n",
        "\t    {'Freddy x Jason': 2.5, \n",
        "\t\t 'O Ultimato Bourne': 3.0,\n",
        "\t\t 'Exterminador do Futuro': 3.5, \n",
        "\t\t 'Star Wars': 4.0},\n",
        "\t\t\t \n",
        "\t  'Claudia': \n",
        "\t\t{'O Ultimato Bourne': 3.5, \n",
        "\t\t 'Star Trek': 3.0,\n",
        "\t\t 'Star Wars': 4.5, \n",
        "\t\t 'Exterminador do Futuro': 4.0, \n",
        "\t\t 'Norbit': 2.5},\n",
        "\t\t\t\t \n",
        "\t  'Adriano': \n",
        "\t\t{'Freddy x Jason': 3.0, \n",
        "\t\t 'O Ultimato Bourne': 4.0, \n",
        "\t\t 'Star Trek': 2.0, \n",
        "\t\t 'Exterminador do Futuro': 3.0, \n",
        "\t\t 'Star Wars': 3.0,\n",
        "\t\t 'Norbit': 2.0}, \n",
        "\n",
        "\t  'Janaina': \n",
        "\t     {'Freddy x Jason': 3.0, \n",
        "\t      'O Ultimato Bourne': 4.0,\n",
        "\t      'Star Wars': 3.0, \n",
        "\t      'Exterminador do Futuro': 5.0, \n",
        "\t      'Norbit': 3.5},\n",
        "\t\t\t  \n",
        "\t  'Leonardo': \n",
        "\t    {'O Ultimato Bourne':4.5,\n",
        "             'Norbit':1.0,\n",
        "\t     'Exterminador do Futuro':4.0}\n",
        "}"
      ],
      "execution_count": 0,
      "outputs": []
    },
    {
      "cell_type": "code",
      "metadata": {
        "id": "wXUZnogP1U4M",
        "colab_type": "code",
        "outputId": "a219e844-8f36-4bdc-92a8-e6e413cf6a3e",
        "colab": {
          "base_uri": "https://localhost:8080/",
          "height": 33
        }
      },
      "source": [
        "avaliacoes_usuario['Ana']['Star Trek']"
      ],
      "execution_count": 60,
      "outputs": [
        {
          "output_type": "execute_result",
          "data": {
            "text/plain": [
              "3.0"
            ]
          },
          "metadata": {
            "tags": []
          },
          "execution_count": 60
        }
      ]
    },
    {
      "cell_type": "code",
      "metadata": {
        "id": "yCT--3Rr1bgO",
        "colab_type": "code",
        "outputId": "50678e55-20ee-42d8-a6c8-bbe40a33c355",
        "colab": {
          "base_uri": "https://localhost:8080/",
          "height": 33
        }
      },
      "source": [
        "avaliacoes_usuario['Pedro']['Star Wars']"
      ],
      "execution_count": 61,
      "outputs": [
        {
          "output_type": "execute_result",
          "data": {
            "text/plain": [
              "4.0"
            ]
          },
          "metadata": {
            "tags": []
          },
          "execution_count": 61
        }
      ]
    },
    {
      "cell_type": "code",
      "metadata": {
        "id": "TFCakumm1iay",
        "colab_type": "code",
        "outputId": "c823d981-28e8-47f8-cc15-78a175d6ca16",
        "colab": {
          "base_uri": "https://localhost:8080/",
          "height": 33
        }
      },
      "source": [
        "avaliacoes_usuario['Marcos']['Exterminador do Futuro']"
      ],
      "execution_count": 62,
      "outputs": [
        {
          "output_type": "execute_result",
          "data": {
            "text/plain": [
              "5.0"
            ]
          },
          "metadata": {
            "tags": []
          },
          "execution_count": 62
        }
      ]
    },
    {
      "cell_type": "code",
      "metadata": {
        "id": "bArTeMX31pmN",
        "colab_type": "code",
        "outputId": "f3560bee-b64b-46f7-bf71-13d213d8a6c0",
        "colab": {
          "base_uri": "https://localhost:8080/",
          "height": 100
        }
      },
      "source": [
        "avaliacoes_usuario['Claudia']"
      ],
      "execution_count": 63,
      "outputs": [
        {
          "output_type": "execute_result",
          "data": {
            "text/plain": [
              "{'Exterminador do Futuro': 4.0,\n",
              " 'Norbit': 2.5,\n",
              " 'O Ultimato Bourne': 3.5,\n",
              " 'Star Trek': 3.0,\n",
              " 'Star Wars': 4.5}"
            ]
          },
          "metadata": {
            "tags": []
          },
          "execution_count": 63
        }
      ]
    },
    {
      "cell_type": "code",
      "metadata": {
        "id": "eRsYLeKZ121e",
        "colab_type": "code",
        "outputId": "4b8f5b1c-8124-4778-b2ea-bd2c96b09125",
        "colab": {
          "base_uri": "https://localhost:8080/",
          "height": 83
        }
      },
      "source": [
        "avaliacoes_usuario['Pedro']"
      ],
      "execution_count": 64,
      "outputs": [
        {
          "output_type": "execute_result",
          "data": {
            "text/plain": [
              "{'Exterminador do Futuro': 3.5,\n",
              " 'Freddy x Jason': 2.5,\n",
              " 'O Ultimato Bourne': 3.0,\n",
              " 'Star Wars': 4.0}"
            ]
          },
          "metadata": {
            "tags": []
          },
          "execution_count": 64
        }
      ]
    },
    {
      "cell_type": "code",
      "metadata": {
        "id": "Mmnv34QJ2AHi",
        "colab_type": "code",
        "colab": {
          "base_uri": "https://localhost:8080/",
          "height": 33
        },
        "outputId": "399e2d53-14b3-416a-989b-2568260e0631"
      },
      "source": [
        "pow(3.5 - 4, 2)"
      ],
      "execution_count": 15,
      "outputs": [
        {
          "output_type": "execute_result",
          "data": {
            "text/plain": [
              "0.25"
            ]
          },
          "metadata": {
            "tags": []
          },
          "execution_count": 15
        }
      ]
    },
    {
      "cell_type": "code",
      "metadata": {
        "id": "UrPSJAgp-COB",
        "colab_type": "code",
        "colab": {
          "base_uri": "https://localhost:8080/",
          "height": 33
        },
        "outputId": "b4b2f957-d4bd-450f-a4c1-dce2f89a7272"
      },
      "source": [
        "pow(3 - 3, 2)"
      ],
      "execution_count": 14,
      "outputs": [
        {
          "output_type": "execute_result",
          "data": {
            "text/plain": [
              "0"
            ]
          },
          "metadata": {
            "tags": []
          },
          "execution_count": 14
        }
      ]
    },
    {
      "cell_type": "markdown",
      "metadata": {
        "id": "4VswOWXF-xLJ",
        "colab_type": "text"
      },
      "source": [
        "Fórmula da Distância Euclidiana. Dados: \n",
        "* xi = 3.0, 3.5\n",
        "* yi = 3.0, 4.0"
      ]
    },
    {
      "cell_type": "markdown",
      "metadata": {
        "id": "MZrDSpVPAbii",
        "colab_type": "text"
      },
      "source": [
        "Divide por 1 (e soma por 1) para ter o resultado em percentis."
      ]
    },
    {
      "cell_type": "code",
      "metadata": {
        "id": "u20Mls_s-EI8",
        "colab_type": "code",
        "colab": {
          "base_uri": "https://localhost:8080/",
          "height": 33
        },
        "outputId": "bf76e869-47b6-49bf-b237-95f0db56f957"
      },
      "source": [
        "1 / (1 + sqrt(pow(3 - 3,2) + pow(3.5 - 4, 2)))"
      ],
      "execution_count": 23,
      "outputs": [
        {
          "output_type": "execute_result",
          "data": {
            "text/plain": [
              "0.6666666666666666"
            ]
          },
          "metadata": {
            "tags": []
          },
          "execution_count": 23
        }
      ]
    },
    {
      "cell_type": "markdown",
      "metadata": {
        "id": "VnDsJv9u_bvp",
        "colab_type": "text"
      },
      "source": [
        "* xi = 3.0, 3.5\n",
        "* yi = 1.5, 5.0"
      ]
    },
    {
      "cell_type": "code",
      "metadata": {
        "id": "hN6qu7WE_Sc5",
        "colab_type": "code",
        "colab": {
          "base_uri": "https://localhost:8080/",
          "height": 33
        },
        "outputId": "96238fbc-381d-416b-c2ed-463a9b4add3a"
      },
      "source": [
        "1 / (1 + sqrt(pow(3 - 1.5,2) + pow(3.5 - 5, 2)))"
      ],
      "execution_count": 22,
      "outputs": [
        {
          "output_type": "execute_result",
          "data": {
            "text/plain": [
              "0.32037724101704074"
            ]
          },
          "metadata": {
            "tags": []
          },
          "execution_count": 22
        }
      ]
    },
    {
      "cell_type": "markdown",
      "metadata": {
        "id": "xL1CezbOBXYZ",
        "colab_type": "text"
      },
      "source": [
        "Função para calcular a distância euclidiana"
      ]
    },
    {
      "cell_type": "code",
      "metadata": {
        "id": "bBKgzga-A8yE",
        "colab_type": "code",
        "colab": {}
      },
      "source": [
        "def calcular_distancia_euclidiana(base, usuarioX, usuarioY):\n",
        "  si = {};\n",
        "  for item in base[usuarioX]:\n",
        "    if item in base[usuarioY]: \n",
        "      si[item] = 1\n",
        "\n",
        "  if len(si) == 0:\n",
        "    return 0;\n",
        "  # aplicação da fórmula da distância euclidiana\n",
        "  soma = sum([pow(base[usuarioX][item] - base[usuarioY][item], 2)\n",
        "            for item in base[usuarioX] if item in base[usuarioY]])\n",
        "  return 1 / (1 + sqrt(soma))\n",
        "\n"
      ],
      "execution_count": 0,
      "outputs": []
    },
    {
      "cell_type": "code",
      "metadata": {
        "id": "sdhYwhdjd4qN",
        "colab_type": "code",
        "colab": {
          "base_uri": "https://localhost:8080/",
          "height": 33
        },
        "outputId": "ba84622d-1be9-435e-b031-12b1613df03a"
      },
      "source": [
        "calcular_distancia_euclidiana(avaliacoes_usuario, 'Leonardo', 'Ana')"
      ],
      "execution_count": 66,
      "outputs": [
        {
          "output_type": "execute_result",
          "data": {
            "text/plain": [
              "0.3483314773547883"
            ]
          },
          "metadata": {
            "tags": []
          },
          "execution_count": 66
        }
      ]
    },
    {
      "cell_type": "code",
      "metadata": {
        "id": "9hYuG6Lfeer8",
        "colab_type": "code",
        "colab": {
          "base_uri": "https://localhost:8080/",
          "height": 33
        },
        "outputId": "e15e54f5-6a3a-48b0-dea9-eb9510976a8f"
      },
      "source": [
        "calcular_distancia_euclidiana(avaliacoes_usuario, 'Marcos', 'Claudia')"
      ],
      "execution_count": 67,
      "outputs": [
        {
          "output_type": "execute_result",
          "data": {
            "text/plain": [
              "0.28172904669025317"
            ]
          },
          "metadata": {
            "tags": []
          },
          "execution_count": 67
        }
      ]
    },
    {
      "cell_type": "code",
      "metadata": {
        "id": "46uOaTidejId",
        "colab_type": "code",
        "colab": {
          "base_uri": "https://localhost:8080/",
          "height": 33
        },
        "outputId": "ac12b151-60d1-4c9e-ca4d-c181b9160ebf"
      },
      "source": [
        "calcular_distancia_euclidiana(avaliacoes_usuario, 'Pedro', 'Marcos')"
      ],
      "execution_count": 68,
      "outputs": [
        {
          "output_type": "execute_result",
          "data": {
            "text/plain": [
              "0.3405424265831667"
            ]
          },
          "metadata": {
            "tags": []
          },
          "execution_count": 68
        }
      ]
    },
    {
      "cell_type": "code",
      "metadata": {
        "id": "M7DL4f2IeqYk",
        "colab_type": "code",
        "colab": {
          "base_uri": "https://localhost:8080/",
          "height": 33
        },
        "outputId": "6c089f3d-00c9-4398-b43d-56cb96ce3b16"
      },
      "source": [
        "calcular_distancia_euclidiana(avaliacoes_usuario, 'Ana', 'Pedro')"
      ],
      "execution_count": 69,
      "outputs": [
        {
          "output_type": "execute_result",
          "data": {
            "text/plain": [
              "0.4721359549995794"
            ]
          },
          "metadata": {
            "tags": []
          },
          "execution_count": 69
        }
      ]
    },
    {
      "cell_type": "markdown",
      "metadata": {
        "id": "5Dz7RFD8gjTR",
        "colab_type": "text"
      },
      "source": [
        "Função de similaridade retornará os perfis ordenados mais parecidos com o usuário/filmes esperado. Retornará de acordo com um limite de dados. "
      ]
    },
    {
      "cell_type": "code",
      "metadata": {
        "id": "PqZLO9jJfEvV",
        "colab_type": "code",
        "colab": {}
      },
      "source": [
        "def get_similares(base, usuario, limite):\n",
        "  similaridade = [(calcular_distancia_euclidiana(base, usuario, outro), outro) \n",
        "                   for outro in base if outro != usuario];\n",
        "  similaridade.sort();\n",
        "  similaridade.reverse();\n",
        "  return similaridade[0:limite];"
      ],
      "execution_count": 0,
      "outputs": []
    },
    {
      "cell_type": "code",
      "metadata": {
        "id": "XaDbleNlfucx",
        "colab_type": "code",
        "colab": {
          "base_uri": "https://localhost:8080/",
          "height": 116
        },
        "outputId": "8df96f5f-99ca-4d47-ae70-a6cc79db4e92"
      },
      "source": [
        "get_similares(avaliacoes_usuario, 'Ana', 10)"
      ],
      "execution_count": 71,
      "outputs": [
        {
          "output_type": "execute_result",
          "data": {
            "text/plain": [
              "[(0.4721359549995794, 'Pedro'),\n",
              " (0.4142135623730951, 'Adriano'),\n",
              " (0.38742588672279304, 'Claudia'),\n",
              " (0.3483314773547883, 'Leonardo'),\n",
              " (0.3405424265831667, 'Janaina'),\n",
              " (0.29429805508554946, 'Marcos')]"
            ]
          },
          "metadata": {
            "tags": []
          },
          "execution_count": 71
        }
      ]
    },
    {
      "cell_type": "code",
      "metadata": {
        "id": "co-QLh8egXji",
        "colab_type": "code",
        "colab": {
          "base_uri": "https://localhost:8080/",
          "height": 116
        },
        "outputId": "8d84f0e3-5aa4-47cb-b623-018ee3abf2ce"
      },
      "source": [
        "get_similares(avaliacoes_usuario, 'Pedro', 10)"
      ],
      "execution_count": 45,
      "outputs": [
        {
          "output_type": "execute_result",
          "data": {
            "text/plain": [
              "[(0.5358983848622454, 'Claudia'),\n",
              " (0.4721359549995794, 'Ana'),\n",
              " (0.38742588672279304, 'Leonardo'),\n",
              " (0.38742588672279304, 'Adriano'),\n",
              " (0.3405424265831667, 'Marcos'),\n",
              " (0.32037724101704074, 'Janaina')]"
            ]
          },
          "metadata": {
            "tags": []
          },
          "execution_count": 45
        }
      ]
    },
    {
      "cell_type": "code",
      "metadata": {
        "id": "AW_l6lXSgeag",
        "colab_type": "code",
        "colab": {
          "base_uri": "https://localhost:8080/",
          "height": 116
        },
        "outputId": "3f6fb50c-1109-4f09-f621-6b59e319cf78"
      },
      "source": [
        "get_similares(avaliacoes_usuario, 'Marcos', 10)"
      ],
      "execution_count": 46,
      "outputs": [
        {
          "output_type": "execute_result",
          "data": {
            "text/plain": [
              "[(0.6666666666666666, 'Janaina'),\n",
              " (0.3405424265831667, 'Pedro'),\n",
              " (0.29429805508554946, 'Ana'),\n",
              " (0.28172904669025317, 'Claudia'),\n",
              " (0.27792629762666365, 'Adriano'),\n",
              " (0.25824569976124334, 'Leonardo')]"
            ]
          },
          "metadata": {
            "tags": []
          },
          "execution_count": 46
        }
      ]
    },
    {
      "cell_type": "code",
      "metadata": {
        "id": "5U3B_7mBi2Z4",
        "colab_type": "code",
        "colab": {
          "base_uri": "https://localhost:8080/",
          "height": 116
        },
        "outputId": "6824c3e3-bc4a-4584-e656-b7e946ac2dae"
      },
      "source": [
        "get_similares(avaliacoes_usuario, 'Leonardo', 10)"
      ],
      "execution_count": 47,
      "outputs": [
        {
          "output_type": "execute_result",
          "data": {
            "text/plain": [
              "[(0.4, 'Adriano'),\n",
              " (0.38742588672279304, 'Pedro'),\n",
              " (0.3567891723253309, 'Claudia'),\n",
              " (0.3483314773547883, 'Ana'),\n",
              " (0.2674788903885893, 'Janaina'),\n",
              " (0.25824569976124334, 'Marcos')]"
            ]
          },
          "metadata": {
            "tags": []
          },
          "execution_count": 47
        }
      ]
    },
    {
      "cell_type": "markdown",
      "metadata": {
        "id": "oKnznL6toNDU",
        "colab_type": "text"
      },
      "source": [
        "Função para calcular a média ponderada de filmes similares para recomendação aos usuários."
      ]
    },
    {
      "cell_type": "code",
      "metadata": {
        "id": "dNcFwCDYoTYq",
        "colab_type": "code",
        "colab": {}
      },
      "source": [
        "def get_recomendacoes(base, usuario, limite):\n",
        "  totais = {}\n",
        "  soma_similaridade = {}\n",
        "\n",
        "  for outro in base:\n",
        "    if outro == usuario: \n",
        "      continue;\n",
        "    similaridade = calcular_distancia_euclidiana(base, usuario, outro);\n",
        "\n",
        "    if similaridade <= 0:\n",
        "      continue;\n",
        "\n",
        "    for item in base[outro]:\n",
        "      if item not in base[usuario]:\n",
        "        totais.setdefault(item, 0);\n",
        "        totais[item] += base[outro][item] * similaridade;\n",
        "        soma_similaridade.setdefault(item, 0);\n",
        "        soma_similaridade[item] += similaridade;\n",
        "  \n",
        "  rankings = [(total / soma_similaridade[item], item) \n",
        "              for item, total in totais.items()];\n",
        "\n",
        "  rankings.sort();\n",
        "  rankings.reverse();\n",
        "  return rankings[0 : limite];\n"
      ],
      "execution_count": 0,
      "outputs": []
    },
    {
      "cell_type": "code",
      "metadata": {
        "id": "xTuo8D_8rdAy",
        "colab_type": "code",
        "colab": {
          "base_uri": "https://localhost:8080/",
          "height": 66
        },
        "outputId": "120a9e75-1486-44d7-ebc3-4b6820934beb"
      },
      "source": [
        "get_recomendacoes(avaliacoes_usuario, 'Leonardo', 10)"
      ],
      "execution_count": 73,
      "outputs": [
        {
          "output_type": "execute_result",
          "data": {
            "text/plain": [
              "[(3.457128694491423, 'Star Wars'),\n",
              " (2.778584003814924, 'Freddy x Jason'),\n",
              " (2.422482042361917, 'Star Trek')]"
            ]
          },
          "metadata": {
            "tags": []
          },
          "execution_count": 73
        }
      ]
    },
    {
      "cell_type": "code",
      "metadata": {
        "id": "UmDEfssTr5ki",
        "colab_type": "code",
        "colab": {
          "base_uri": "https://localhost:8080/",
          "height": 33
        },
        "outputId": "c51d61a5-1fb3-4fde-b6c4-b722ed6d9a21"
      },
      "source": [
        "get_recomendacoes(avaliacoes_usuario, 'Pedro')"
      ],
      "execution_count": 74,
      "outputs": [
        {
          "output_type": "execute_result",
          "data": {
            "text/plain": [
              "[(2.4825817086405517, 'Star Trek'), (2.453379230569188, 'Norbit')]"
            ]
          },
          "metadata": {
            "tags": []
          },
          "execution_count": 74
        }
      ]
    },
    {
      "cell_type": "code",
      "metadata": {
        "id": "N3fYTYC0sJw3",
        "colab_type": "code",
        "colab": {
          "base_uri": "https://localhost:8080/",
          "height": 33
        },
        "outputId": "c0352227-fcfe-470d-fba9-b769e66daac5"
      },
      "source": [
        "get_recomendacoes(avaliacoes_usuario, 'Claudia')"
      ],
      "execution_count": 51,
      "outputs": [
        {
          "output_type": "execute_result",
          "data": {
            "text/plain": [
              "[(2.74908990418004, 'Freddy x Jason')]"
            ]
          },
          "metadata": {
            "tags": []
          },
          "execution_count": 51
        }
      ]
    },
    {
      "cell_type": "markdown",
      "metadata": {
        "id": "yJZBxXvuvAAd",
        "colab_type": "text"
      },
      "source": [
        "Vamos mudar a ordem de exibição e tratamento dos dados, a partir de filme teremos as notas dos usuários para análise. Assim, conseguiremos recomendar filmes que tenha notas parecidas ou próximas a partir de uma escolha."
      ]
    },
    {
      "cell_type": "code",
      "metadata": {
        "id": "0H_SJVUnvLca",
        "colab_type": "code",
        "colab": {}
      },
      "source": [
        "avaliacoes_filmes = {'Freddy x Jason': \n",
        "\t\t{'Ana': 2.5, \n",
        "\t\t 'Marcos:': 3.0 ,\n",
        "\t\t 'Pedro': 2.5, \n",
        "\t\t 'Adriano': 3.0, \n",
        "\t\t 'Janaina': 3.0 },\n",
        "\t \n",
        "\t 'O Ultimato Bourne': \n",
        "\t\t{'Ana': 3.5, \n",
        "\t\t 'Marcos': 3.5,\n",
        "\t\t 'Pedro': 3.0, \n",
        "\t\t 'Claudia': 3.5, \n",
        "\t\t 'Adriano': 4.0, \n",
        "\t\t 'Janaina': 4.0,\n",
        "\t\t 'Leonardo': 4.5 },\n",
        "\t\t\t\t \n",
        "\t 'Star Trek': \n",
        "\t\t{'Ana': 3.0, \n",
        "\t\t 'Marcos:': 1.5,\n",
        "\t\t 'Claudia': 3.0, \n",
        "\t\t 'Adriano': 2.0 },\n",
        "\t\n",
        "\t 'Exterminador do Futuro': \n",
        "\t\t{'Ana': 3.5, \n",
        "\t\t 'Marcos:': 5.0 ,\n",
        "\t\t 'Pedro': 3.5, \n",
        "\t\t 'Claudia': 4.0, \n",
        "\t\t 'Adriano': 3.0, \n",
        "\t\t 'Janaina': 5.0,\n",
        "\t\t 'Leonardo': 4.0},\n",
        "\t\t\t\t \n",
        "\t 'Norbit': \n",
        "\t\t{'Ana': 2.5, \n",
        "\t\t 'Marcos:': 3.0 ,\n",
        "\t\t 'Claudia': 2.5, \n",
        "\t\t 'Adriano': 2.0, \n",
        "\t\t 'Janaina': 3.5,\n",
        "\t\t 'Leonardo': 1.0},\n",
        "\t\t\t\t \n",
        "\t 'Star Wars': \n",
        "\t\t{'Ana': 3.0, \n",
        "\t\t 'Marcos:': 3.5,\n",
        "\t\t 'Pedro': 4.0, \n",
        "\t\t 'Claudia': 4.5, \n",
        "\t\t 'Adriano': 3.0, \n",
        "\t\t 'Janaina': 3.0}\n",
        "}"
      ],
      "execution_count": 0,
      "outputs": []
    },
    {
      "cell_type": "code",
      "metadata": {
        "id": "yOF8KXfOvUu0",
        "colab_type": "code",
        "colab": {
          "base_uri": "https://localhost:8080/",
          "height": 116
        },
        "outputId": "7af306d7-6dbf-4759-c8fc-1f1a0d44e92d"
      },
      "source": [
        "avaliacoes_filmes['Star Wars']"
      ],
      "execution_count": 53,
      "outputs": [
        {
          "output_type": "execute_result",
          "data": {
            "text/plain": [
              "{'Adriano': 3.0,\n",
              " 'Ana': 3.0,\n",
              " 'Claudia': 4.5,\n",
              " 'Janaina': 3.0,\n",
              " 'Marcos:': 3.5,\n",
              " 'Pedro': 4.0}"
            ]
          },
          "metadata": {
            "tags": []
          },
          "execution_count": 53
        }
      ]
    },
    {
      "cell_type": "code",
      "metadata": {
        "id": "vcwDfT10vjqE",
        "colab_type": "code",
        "colab": {
          "base_uri": "https://localhost:8080/",
          "height": 33
        },
        "outputId": "2a7bab97-1945-4879-c6ab-220138b0b033"
      },
      "source": [
        "avaliacoes_filmes['Star Wars']['Janaina']"
      ],
      "execution_count": 76,
      "outputs": [
        {
          "output_type": "execute_result",
          "data": {
            "text/plain": [
              "3.0"
            ]
          },
          "metadata": {
            "tags": []
          },
          "execution_count": 76
        }
      ]
    },
    {
      "cell_type": "markdown",
      "metadata": {
        "id": "IbpYkhyJzDKI",
        "colab_type": "text"
      },
      "source": [
        "Com a nova estrutura de dados temos filmes com respectivas notas de diversos usuários, podemos recomendar filmes similares ou com notas muito próximas recebidas. Nesta situação não há uma categorização específica, do qual não vai gerar uma maior precisão na recomendação. \n",
        "\n",
        "Ao especificar o filme Star Wars, o sistema recomendou fortemente o 'Freddy x Jason', porque neste dataset estudado as notas desses dois filmes são parecidas/similares. Portanto, havendo categorização de gênero e mais dados de análise, provavelmente, a recomendação seria os filmes 'Exterminador do Futuro' e 'Star Trek', já que há similaridade de gênero entre eles. Já outro, mesmo com elementos espaciais, ele está muito mais atrelado ao horror/terror."
      ]
    },
    {
      "cell_type": "code",
      "metadata": {
        "id": "_Cz8Y1tXwF7b",
        "colab_type": "code",
        "colab": {
          "base_uri": "https://localhost:8080/",
          "height": 100
        },
        "outputId": "9b0d9e34-f86b-46f4-b8c7-17e5c27ffdd2"
      },
      "source": [
        "get_similares(avaliacoes_filmes, 'Star Wars', 10)"
      ],
      "execution_count": 77,
      "outputs": [
        {
          "output_type": "execute_result",
          "data": {
            "text/plain": [
              "[(0.3761785115301142, 'Freddy x Jason'),\n",
              " (0.3266316347104093, 'O Ultimato Bourne'),\n",
              " (0.29429805508554946, 'Norbit'),\n",
              " (0.27429188517743175, 'Exterminador do Futuro'),\n",
              " (0.2708131845707603, 'Star Trek')]"
            ]
          },
          "metadata": {
            "tags": []
          },
          "execution_count": 77
        }
      ]
    },
    {
      "cell_type": "code",
      "metadata": {
        "id": "E1wu8qFPwfFO",
        "colab_type": "code",
        "colab": {
          "base_uri": "https://localhost:8080/",
          "height": 100
        },
        "outputId": "0e6e2f74-86e7-4d53-f319-bf7028a2d749"
      },
      "source": [
        "get_similares(avaliacoes_filmes, 'Norbit', 10)"
      ],
      "execution_count": 93,
      "outputs": [
        {
          "output_type": "execute_result",
          "data": {
            "text/plain": [
              "[(0.4721359549995794, 'Freddy x Jason'),\n",
              " (0.3761785115301142, 'Star Trek'),\n",
              " (0.29429805508554946, 'Star Wars'),\n",
              " (0.1886378647726465, 'O Ultimato Bourne'),\n",
              " (0.18464218557642828, 'Exterminador do Futuro')]"
            ]
          },
          "metadata": {
            "tags": []
          },
          "execution_count": 93
        }
      ]
    },
    {
      "cell_type": "code",
      "metadata": {
        "id": "QcsKSJ_nwia_",
        "colab_type": "code",
        "colab": {
          "base_uri": "https://localhost:8080/",
          "height": 33
        },
        "outputId": "1e8e94f5-3656-459e-efdd-d0cbbd562ea2"
      },
      "source": [
        "get_recomendacoes(avaliacoes_filmes, 'Star Wars')"
      ],
      "execution_count": 79,
      "outputs": [
        {
          "output_type": "execute_result",
          "data": {
            "text/plain": [
              "[(3.4999999999999996, 'Marcos'), (3.196200842319029, 'Leonardo')]"
            ]
          },
          "metadata": {
            "tags": []
          },
          "execution_count": 79
        }
      ]
    },
    {
      "cell_type": "code",
      "metadata": {
        "id": "dDIhotDYwptO",
        "colab_type": "code",
        "colab": {
          "base_uri": "https://localhost:8080/",
          "height": 83
        },
        "outputId": "e2d76eb4-b4e6-4ffe-d8e1-6fc568be5738"
      },
      "source": [
        "get_recomendacoes(avaliacoes_filmes, 'Star Trek')"
      ],
      "execution_count": 80,
      "outputs": [
        {
          "output_type": "execute_result",
          "data": {
            "text/plain": [
              "[(3.6067168976036834, 'Janaina'),\n",
              " (3.5, 'Marcos'),\n",
              " (3.1748504433675175, 'Pedro'),\n",
              " (2.929467965289551, 'Leonardo')]"
            ]
          },
          "metadata": {
            "tags": []
          },
          "execution_count": 80
        }
      ]
    },
    {
      "cell_type": "code",
      "metadata": {
        "id": "18485H3ZB0pe",
        "colab_type": "code",
        "colab": {}
      },
      "source": [
        "def carregar_movies(movies, ratings):\n",
        "  filmes = {};\n",
        "  for posicao, linha in movies.iterrows():\n",
        "    filmes[str(linha['id_movie'])] = linha['name'];\n",
        " \n",
        "  base = {};\n",
        "\n",
        "  for posicao, linha in ratings.iterrows():\n",
        "    id_user = str(linha['id_user']);\n",
        "    id_movie = str(linha['id_movie']);\n",
        "    nota = linha['ratings'];\n",
        "    base.setdefault(id_user, {})\n",
        "    base[id_user][filmes[id_movie]] = float(nota);\n",
        "\n",
        "  return base;"
      ],
      "execution_count": 0,
      "outputs": []
    },
    {
      "cell_type": "code",
      "metadata": {
        "id": "ak1kWlAPF3Dj",
        "colab_type": "code",
        "colab": {}
      },
      "source": [
        "url_movies = 'https://raw.githubusercontent.com/itimes-digital/estudo-python-git/master/machine-learning/dataset/data-movielens/movies.dat'\n",
        "url_ratings = 'https://raw.githubusercontent.com/itimes-digital/estudo-python-git/master/machine-learning/dataset/data-movielens/ratings.dat'\n",
        "\n",
        "base_movies = pd.read_csv(url_movies, sep=\";\", error_bad_lines=False, header=None)\n",
        "base_ratings = pd.read_csv(url_ratings, sep=\"|\", error_bad_lines=False, header=None)"
      ],
      "execution_count": 0,
      "outputs": []
    },
    {
      "cell_type": "code",
      "metadata": {
        "id": "Xn4zCeGwgjwE",
        "colab_type": "code",
        "colab": {}
      },
      "source": [
        "base_movies.columns = ['id_movie', 'name', 'year', 'genre'];\n",
        "base_ratings.columns = ['id_user', 'id_movie', 'ratings', 'times'];"
      ],
      "execution_count": 0,
      "outputs": []
    },
    {
      "cell_type": "code",
      "metadata": {
        "id": "VPTbDrbtSics",
        "colab_type": "code",
        "colab": {
          "base_uri": "https://localhost:8080/",
          "height": 197
        },
        "outputId": "6473fcf8-00b8-4395-dd6f-61c4f7f8b3dc"
      },
      "source": [
        "base_movies.head()"
      ],
      "execution_count": 183,
      "outputs": [
        {
          "output_type": "execute_result",
          "data": {
            "text/html": [
              "<div>\n",
              "<style scoped>\n",
              "    .dataframe tbody tr th:only-of-type {\n",
              "        vertical-align: middle;\n",
              "    }\n",
              "\n",
              "    .dataframe tbody tr th {\n",
              "        vertical-align: top;\n",
              "    }\n",
              "\n",
              "    .dataframe thead th {\n",
              "        text-align: right;\n",
              "    }\n",
              "</style>\n",
              "<table border=\"1\" class=\"dataframe\">\n",
              "  <thead>\n",
              "    <tr style=\"text-align: right;\">\n",
              "      <th></th>\n",
              "      <th>id_movie</th>\n",
              "      <th>name</th>\n",
              "      <th>year</th>\n",
              "      <th>genre</th>\n",
              "    </tr>\n",
              "  </thead>\n",
              "  <tbody>\n",
              "    <tr>\n",
              "      <th>0</th>\n",
              "      <td>1</td>\n",
              "      <td>Toy Story</td>\n",
              "      <td>1995</td>\n",
              "      <td>Animation|Children's|Comedy</td>\n",
              "    </tr>\n",
              "    <tr>\n",
              "      <th>1</th>\n",
              "      <td>2</td>\n",
              "      <td>Jumanji</td>\n",
              "      <td>1995</td>\n",
              "      <td>Adventure|Children's|Fantasy</td>\n",
              "    </tr>\n",
              "    <tr>\n",
              "      <th>2</th>\n",
              "      <td>3</td>\n",
              "      <td>Grumpier Old Men</td>\n",
              "      <td>1995</td>\n",
              "      <td>Comedy|Romance</td>\n",
              "    </tr>\n",
              "    <tr>\n",
              "      <th>3</th>\n",
              "      <td>4</td>\n",
              "      <td>Waiting to Exhale</td>\n",
              "      <td>1995</td>\n",
              "      <td>Comedy|Drama</td>\n",
              "    </tr>\n",
              "    <tr>\n",
              "      <th>4</th>\n",
              "      <td>5</td>\n",
              "      <td>Father of the Bride Part II</td>\n",
              "      <td>1995</td>\n",
              "      <td>Comedy</td>\n",
              "    </tr>\n",
              "  </tbody>\n",
              "</table>\n",
              "</div>"
            ],
            "text/plain": [
              "   id_movie                          name  year                         genre\n",
              "0         1                    Toy Story   1995   Animation|Children's|Comedy\n",
              "1         2                      Jumanji   1995  Adventure|Children's|Fantasy\n",
              "2         3             Grumpier Old Men   1995                Comedy|Romance\n",
              "3         4            Waiting to Exhale   1995                  Comedy|Drama\n",
              "4         5  Father of the Bride Part II   1995                        Comedy"
            ]
          },
          "metadata": {
            "tags": []
          },
          "execution_count": 183
        }
      ]
    },
    {
      "cell_type": "code",
      "metadata": {
        "id": "j-OHMclbTB8i",
        "colab_type": "code",
        "colab": {
          "base_uri": "https://localhost:8080/",
          "height": 197
        },
        "outputId": "9c579bd0-1ba6-4c1c-f5ab-029a35d91075"
      },
      "source": [
        "base_ratings.head()"
      ],
      "execution_count": 184,
      "outputs": [
        {
          "output_type": "execute_result",
          "data": {
            "text/html": [
              "<div>\n",
              "<style scoped>\n",
              "    .dataframe tbody tr th:only-of-type {\n",
              "        vertical-align: middle;\n",
              "    }\n",
              "\n",
              "    .dataframe tbody tr th {\n",
              "        vertical-align: top;\n",
              "    }\n",
              "\n",
              "    .dataframe thead th {\n",
              "        text-align: right;\n",
              "    }\n",
              "</style>\n",
              "<table border=\"1\" class=\"dataframe\">\n",
              "  <thead>\n",
              "    <tr style=\"text-align: right;\">\n",
              "      <th></th>\n",
              "      <th>id_user</th>\n",
              "      <th>id_movie</th>\n",
              "      <th>ratings</th>\n",
              "      <th>times</th>\n",
              "    </tr>\n",
              "  </thead>\n",
              "  <tbody>\n",
              "    <tr>\n",
              "      <th>0</th>\n",
              "      <td>1</td>\n",
              "      <td>1193</td>\n",
              "      <td>5</td>\n",
              "      <td>978300760</td>\n",
              "    </tr>\n",
              "    <tr>\n",
              "      <th>1</th>\n",
              "      <td>1</td>\n",
              "      <td>661</td>\n",
              "      <td>3</td>\n",
              "      <td>978302109</td>\n",
              "    </tr>\n",
              "    <tr>\n",
              "      <th>2</th>\n",
              "      <td>1</td>\n",
              "      <td>914</td>\n",
              "      <td>3</td>\n",
              "      <td>978301968</td>\n",
              "    </tr>\n",
              "    <tr>\n",
              "      <th>3</th>\n",
              "      <td>1</td>\n",
              "      <td>3408</td>\n",
              "      <td>4</td>\n",
              "      <td>978300275</td>\n",
              "    </tr>\n",
              "    <tr>\n",
              "      <th>4</th>\n",
              "      <td>1</td>\n",
              "      <td>2355</td>\n",
              "      <td>5</td>\n",
              "      <td>978824291</td>\n",
              "    </tr>\n",
              "  </tbody>\n",
              "</table>\n",
              "</div>"
            ],
            "text/plain": [
              "   id_user  id_movie  ratings      times\n",
              "0        1      1193        5  978300760\n",
              "1        1       661        3  978302109\n",
              "2        1       914        3  978301968\n",
              "3        1      3408        4  978300275\n",
              "4        1      2355        5  978824291"
            ]
          },
          "metadata": {
            "tags": []
          },
          "execution_count": 184
        }
      ]
    },
    {
      "cell_type": "code",
      "metadata": {
        "id": "i-96ETLJc9AI",
        "colab_type": "code",
        "colab": {}
      },
      "source": [
        "base_filmes = carregar_movies(base_movies, base_ratings)"
      ],
      "execution_count": 0,
      "outputs": []
    },
    {
      "cell_type": "code",
      "metadata": {
        "id": "vPioOMIFi6L1",
        "colab_type": "code",
        "colab": {
          "base_uri": "https://localhost:8080/",
          "height": 900
        },
        "outputId": "2819fb5a-80df-478a-8b40-7b3f147e0037"
      },
      "source": [
        "base_filmes['1']"
      ],
      "execution_count": 194,
      "outputs": [
        {
          "output_type": "execute_result",
          "data": {
            "text/plain": [
              "{'Airplane! ': 4.0,\n",
              " 'Aladdin ': 4.0,\n",
              " 'Antz ': 4.0,\n",
              " 'Apollo 13 ': 5.0,\n",
              " 'Awakenings ': 5.0,\n",
              " 'Back to the Future ': 5.0,\n",
              " 'Bambi ': 4.0,\n",
              " 'Beauty and the Beast ': 5.0,\n",
              " 'Ben-Hur ': 5.0,\n",
              " 'Big ': 4.0,\n",
              " \"Bug's Life, A \": 5.0,\n",
              " 'Christmas Story, A ': 5.0,\n",
              " 'Cinderella ': 5.0,\n",
              " 'Close Shave, A ': 3.0,\n",
              " 'Dead Poets Society ': 4.0,\n",
              " 'Driving Miss Daisy ': 4.0,\n",
              " 'Dumbo ': 5.0,\n",
              " 'E.T. the Extra-Terrestrial ': 4.0,\n",
              " 'Erin Brockovich ': 4.0,\n",
              " 'Fargo ': 4.0,\n",
              " \"Ferris Bueller's Day Off \": 4.0,\n",
              " 'Gigi ': 4.0,\n",
              " 'Girl, Interrupted ': 4.0,\n",
              " 'Hercules ': 4.0,\n",
              " 'Hunchback of Notre Dame, The ': 4.0,\n",
              " 'James and the Giant Peach ': 3.0,\n",
              " 'Last Days of Disco, The ': 5.0,\n",
              " 'Mary Poppins ': 5.0,\n",
              " 'Meet Joe Black ': 3.0,\n",
              " 'Miracle on 34th Street ': 4.0,\n",
              " 'Mulan ': 4.0,\n",
              " 'My Fair Lady ': 3.0,\n",
              " \"One Flew Over the Cuckoo's Nest \": 5.0,\n",
              " 'Pleasantville ': 3.0,\n",
              " 'Pocahontas ': 5.0,\n",
              " 'Ponette ': 4.0,\n",
              " 'Princess Bride, The ': 3.0,\n",
              " 'Rain Man ': 5.0,\n",
              " 'Run Lola Run Lola rennt': 4.0,\n",
              " 'Saving Private Ryan ': 5.0,\n",
              " \"Schindler's List \": 5.0,\n",
              " 'Secret Garden, The ': 4.0,\n",
              " 'Sixth Sense, The ': 4.0,\n",
              " 'Snow White and the Seven Dwarfs ': 4.0,\n",
              " 'Sound of Music, The ': 5.0,\n",
              " 'Star Wars: Episode IV - A New Hope ': 4.0,\n",
              " 'Tarzan ': 3.0,\n",
              " 'Titanic ': 4.0,\n",
              " 'To Kill a Mockingbird ': 4.0,\n",
              " 'Toy Story ': 5.0,\n",
              " 'Toy Story 2 ': 4.0,\n",
              " 'Wallace & Gromit: The Best of Aardman Animation ': 3.0,\n",
              " 'Wizard of Oz, The ': 4.0}"
            ]
          },
          "metadata": {
            "tags": []
          },
          "execution_count": 194
        }
      ]
    },
    {
      "cell_type": "code",
      "metadata": {
        "id": "_3_YOkDeSjVb",
        "colab_type": "code",
        "colab": {
          "base_uri": "https://localhost:8080/",
          "height": 516
        },
        "outputId": "a3f8afc1-d801-4154-e44d-7205d24a3540"
      },
      "source": [
        "get_similares(base_filmes, '212', 30)"
      ],
      "execution_count": 191,
      "outputs": [
        {
          "output_type": "execute_result",
          "data": {
            "text/plain": [
              "[(1.0, '961'),\n",
              " (1.0, '94'),\n",
              " (1.0, '860'),\n",
              " (1.0, '821'),\n",
              " (1.0, '773'),\n",
              " (1.0, '700'),\n",
              " (1.0, '694'),\n",
              " (1.0, '688'),\n",
              " (1.0, '614'),\n",
              " (1.0, '5919'),\n",
              " (1.0, '5882'),\n",
              " (1.0, '5828'),\n",
              " (1.0, '582'),\n",
              " (1.0, '580'),\n",
              " (1.0, '5796'),\n",
              " (1.0, '5781'),\n",
              " (1.0, '5772'),\n",
              " (1.0, '5727'),\n",
              " (1.0, '5577'),\n",
              " (1.0, '5495'),\n",
              " (1.0, '5481'),\n",
              " (1.0, '5400'),\n",
              " (1.0, '5391'),\n",
              " (1.0, '5383'),\n",
              " (1.0, '5360'),\n",
              " (1.0, '5313'),\n",
              " (1.0, '5295'),\n",
              " (1.0, '5197'),\n",
              " (1.0, '5171'),\n",
              " (1.0, '5154')]"
            ]
          },
          "metadata": {
            "tags": []
          },
          "execution_count": 191
        }
      ]
    },
    {
      "cell_type": "code",
      "metadata": {
        "id": "2WxqJrAYWAmA",
        "colab_type": "code",
        "colab": {
          "base_uri": "https://localhost:8080/",
          "height": 516
        },
        "outputId": "cfa40aee-34a3-437e-fc5e-d7f3ee654aa4"
      },
      "source": [
        "get_similares(base_filmes, '1', 30)"
      ],
      "execution_count": 192,
      "outputs": [
        {
          "output_type": "execute_result",
          "data": {
            "text/plain": [
              "[(1.0, '994'),\n",
              " (1.0, '986'),\n",
              " (1.0, '978'),\n",
              " (1.0, '961'),\n",
              " (1.0, '906'),\n",
              " (1.0, '901'),\n",
              " (1.0, '841'),\n",
              " (1.0, '827'),\n",
              " (1.0, '797'),\n",
              " (1.0, '734'),\n",
              " (1.0, '709'),\n",
              " (1.0, '694'),\n",
              " (1.0, '693'),\n",
              " (1.0, '663'),\n",
              " (1.0, '618'),\n",
              " (1.0, '612'),\n",
              " (1.0, '61'),\n",
              " (1.0, '6012'),\n",
              " (1.0, '5932'),\n",
              " (1.0, '5910'),\n",
              " (1.0, '5817'),\n",
              " (1.0, '5781'),\n",
              " (1.0, '5713'),\n",
              " (1.0, '568'),\n",
              " (1.0, '565'),\n",
              " (1.0, '562'),\n",
              " (1.0, '5590'),\n",
              " (1.0, '5577'),\n",
              " (1.0, '5503'),\n",
              " (1.0, '548')]"
            ]
          },
          "metadata": {
            "tags": []
          },
          "execution_count": 192
        }
      ]
    },
    {
      "cell_type": "code",
      "metadata": {
        "id": "qyG0X_b4jTxU",
        "colab_type": "code",
        "colab": {
          "base_uri": "https://localhost:8080/",
          "height": 1000
        },
        "outputId": "2cf34400-b310-448f-af18-939e21242ac9"
      },
      "source": [
        "get_recomendacoes(base_filmes, '212')"
      ],
      "execution_count": 195,
      "outputs": [
        {
          "output_type": "execute_result",
          "data": {
            "text/plain": [
              "[(5.000000000000001, 'Gate of Heavenly Peace, The '),\n",
              " (5.0, 'Ulysses Ulisse'),\n",
              " (5.0, 'Song of Freedom '),\n",
              " (5.0, 'Smashing Time '),\n",
              " (5.0, 'Schlafes Bruder Brother of Sleep'),\n",
              " (5.0, 'One Little Indian '),\n",
              " (5.0, 'Lured '),\n",
              " (5.0, 'Follow the Bitch '),\n",
              " (5.0, 'Dry Cleaning Nettoyage à sec'),\n",
              " (5.0, 'Bittersweet Motel '),\n",
              " (4.770625674458737, 'I Am Cuba Soy Cuba/Ya Kuba'),\n",
              " (4.760315210198438, 'Lamerica '),\n",
              " (4.706062508168419, 'Apple, The Sib'),\n",
              " (4.694874329944947, 'Skipped Parts '),\n",
              " (4.679753426887814, 'Sanjuro '),\n",
              " (4.570575744237168,\n",
              "  'Seven Samurai The Magnificent Seven (Shichinin no samurai)'),\n",
              " (4.544274572484987, 'Wrong Trousers, The '),\n",
              " (4.537043467184939, 'Callejón de los milagros, El '),\n",
              " (4.535435823977598, 'Sunset Blvd. a.k.a. Sunset Boulevard'),\n",
              " (4.534122676527624, 'Close Shave, A '),\n",
              " (4.5292074129630615, \"Ed's Next Move \"),\n",
              " (4.518777759670743, 'Inheritors, The Die Siebtelbauern'),\n",
              " (4.509814800851759, 'Rear Window '),\n",
              " (4.499045943202811, 'Godfather, The '),\n",
              " (4.49838096842925, 'Third Man, The '),\n",
              " (4.497332610450007, 'Dangerous Game '),\n",
              " (4.488899840662217, 'Hour of the Pig, The '),\n",
              " (4.488816085799583, 'World of Apu, The Apur Sansar'),\n",
              " (4.485265593618015, 'Paths of Glory '),\n",
              " (4.473379109559814,\n",
              "  'Dr. Strangelove or: How I Learned to Stop Worrying and Love the Bomb '),\n",
              " (4.462685677097892, 'Bells, The '),\n",
              " (4.454164078287488, 'To Kill a Mockingbird '),\n",
              " (4.438444479784461, 'Pather Panchali '),\n",
              " (4.432168018595783, 'Wallace & Gromit: The Best of Aardman Animation '),\n",
              " (4.429703462696818, 'Star Wars: Episode IV - A New Hope '),\n",
              " (4.428446842605269, 'Window to Paris '),\n",
              " (4.42634159191615, 'Maltese Falcon, The '),\n",
              " (4.422836417462083, 'Sixth Sense, The '),\n",
              " (4.420691565696532, '24 7: Twenty Four Seven '),\n",
              " (4.42030380180368, 'Lawrence of Arabia '),\n",
              " (4.418384016854875, 'Grand Illusion Grande illusion, La'),\n",
              " (4.416107190788462, 'Yojimbo '),\n",
              " (4.413416601199348, 'Double Indemnity '),\n",
              " (4.407294546469557, 'Eighth Day, The Le Huitième jour '),\n",
              " (4.405509087212163, 'Bridge on the River Kwai, The '),\n",
              " (4.403351904243024, 'Bicycle Thief, The Ladri di biciclette'),\n",
              " (4.402854577628228, 'Casablanca '),\n",
              " (4.389475356128764, '400 Blows, The Les Quatre cents coups'),\n",
              " (4.386193048226565, 'City Lights '),\n",
              " (4.382485790390337, 'Grand Day Out, A '),\n",
              " (4.382319467841465, 'Dersu Uzala '),\n",
              " (4.381015402862503, 'Citizen Kane '),\n",
              " (4.3772469793224476, \"One Flew Over the Cuckoo's Nest \"),\n",
              " (4.376983301557591, \"Jupiter's Wife \"),\n",
              " (4.375851547686967, 'To Live Huozhe'),\n",
              " (4.374637715158118, 'West Beirut West Beyrouth'),\n",
              " (4.371867209875074, 'Great Escape, The '),\n",
              " (4.361566962116953, 'Matrix, The '),\n",
              " (4.361288164829307, 'Seven Chances '),\n",
              " (4.354756359479723, 'Return with Honor '),\n",
              " (4.350552009921129, 'Treasure of the Sierra Madre, The '),\n",
              " (4.348471706079678, 'Celebration, The Festen'),\n",
              " (4.34457610861432, 'Chinatown '),\n",
              " (4.342906961245371, 'Philadelphia Story, The '),\n",
              " (4.340320712061059, 'Big Sleep, The '),\n",
              " (4.340281496760133, 'Life Is Beautiful La Vita è bella'),\n",
              " (4.338476082466527, 'Jean de Florette '),\n",
              " (4.336903013425427, 'Strangers on a Train '),\n",
              " (4.333740816121636, 'For All Mankind '),\n",
              " (4.331275670587447, 'American Beauty '),\n",
              " (4.329656004177301, 'Some Like It Hot '),\n",
              " (4.3268200195012385, 'Cinema Paradiso '),\n",
              " (4.326128944711972, \"Singin' in the Rain \"),\n",
              " (4.326035201482773, 'Sting, The '),\n",
              " (4.32554624148938, \"It's a Wonderful Life \"),\n",
              " (4.323893925067317, 'M '),\n",
              " (4.32377798261124, 'It Happened One Night '),\n",
              " (4.320057628425728, 'Children of Paradise Les enfants du paradis'),\n",
              " (4.319160878664454, 'Manchurian Candidate, The '),\n",
              " (4.318526517168009, 'Nights of Cabiria Le Notti di Cabiria'),\n",
              " (4.318403305267931, 'Soft Fruit '),\n",
              " (4.317992842466462, 'Creature Comforts '),\n",
              " (4.317242030451469, 'Godfather: Part II, The '),\n",
              " (4.316579425815239, 'Notorious '),\n",
              " (4.3139467581259625, 'When We Were Kings '),\n",
              " (4.313180962795043, 'Central Station Central do Brasil'),\n",
              " (4.312335982366068, 'Inherit the Wind '),\n",
              " (4.3079062400270125, 'Decline of Western Civilization, The '),\n",
              " (4.305787661363062, 'Kagemusha '),\n",
              " (4.305063435187208, 'Mamma Roma '),\n",
              " (4.302849219359302, 'Vertigo '),\n",
              " (4.299727086011805, 'Patton '),\n",
              " (4.296814160230489, 'Palm Beach Story, The '),\n",
              " (4.295518086450128, 'Henry V '),\n",
              " (4.29472319396949, 'Aparajito '),\n",
              " (4.293036123881659, 'On the Waterfront '),\n",
              " (4.2928115359327945, 'Ran '),\n",
              " (4.292763737675889, 'Thin Blue Line, The '),\n",
              " (4.290913993501355, '12 Angry Men '),\n",
              " (4.29049612075602, 'Boat, The Das Boot'),\n",
              " (4.289567076775436, 'Lady Vanishes, The '),\n",
              " (4.287690887683364, 'Star Wars: Episode V - The Empire Strikes Back '),\n",
              " (4.287427328339552, 'Firelight '),\n",
              " (4.2815695360956445, 'Pandora and the Flying Dutchman '),\n",
              " (4.281505031310643, 'Seven Days in May '),\n",
              " (4.279926796592438, 'Stop Making Sense '),\n",
              " (4.2797096004224935, 'Blade Runner '),\n",
              " (4.275976949228443, 'Cold Fever Á köldum klaka'),\n",
              " (4.27421264640948, 'Seventh Seal, The Sjunde inseglet, Det'),\n",
              " (4.273956769813783, 'Roman Holiday '),\n",
              " (4.272670051598931, 'Conformist, The Il Conformista'),\n",
              " (4.272261390524297, 'Some Folks Call It a Sling Blade '),\n",
              " (4.27224237326532, 'African Queen, The '),\n",
              " (4.271380107279077, 'All About Eve '),\n",
              " (4.268373635168019, 'Young Frankenstein '),\n",
              " (4.266901987610162, 'Cool Hand Luke '),\n",
              " (4.26652194610633, 'Killing Fields, The '),\n",
              " (4.266192290254955, 'Lady Eve, The '),\n",
              " (4.265852938187467, 'His Girl Friday '),\n",
              " (4.265845557298315, 'Hustler, The '),\n",
              " (4.265627688525239, 'Man for All Seasons, A '),\n",
              " (4.265403261674866, 'Rebecca '),\n",
              " (4.265178217389739, 'Mr. Smith Goes to Washington '),\n",
              " (4.263762226291552, 'Thin Man, The '),\n",
              " (4.262248100759611, 'General, The '),\n",
              " (4.259954541742183, 'Wizard of Oz, The '),\n",
              " (4.258367367330744, 'Conversation, The '),\n",
              " (4.257996749259126, 'Children of Heaven, The Bacheha-Ye Aseman'),\n",
              " (4.257770596789174, 'Christmas Story, A '),\n",
              " (4.257761787476678, 'Three Colors: Red '),\n",
              " (4.255531351693047, 'King of Masks, The Bian Lian'),\n",
              " (4.254847577210646, 'Anatomy of a Murder '),\n",
              " (4.2544720688608395, 'Toy Story 2 '),\n",
              " (4.251677018990199, 'Graduate, The '),\n",
              " (4.250688021068282, 'Run Lola Run Lola rennt'),\n",
              " (4.248651604560587, 'Amadeus '),\n",
              " (4.248192392922585, 'Touch of Evil '),\n",
              " (4.248176421727629, 'Streetcar Named Desire, A '),\n",
              " (4.248044037202565, 'Trust '),\n",
              " (4.2467812684504125, 'American History X '),\n",
              " (4.243582977790144, 'Shadow of a Doubt '),\n",
              " (4.242358647675932, 'Charade '),\n",
              " (4.241808355036635, 'Hearts and Minds '),\n",
              " (4.238846589077861, 'Nénette et Boni '),\n",
              " (4.238549832793851, 'Braveheart '),\n",
              " (4.237824436436992, 'High Noon '),\n",
              " (4.2377684244473475, 'Laura '),\n",
              " (4.237681856644574, 'Manon of the Spring Manon des sources'),\n",
              " (4.2371212591657885, 'Trouble in Paradise '),\n",
              " (4.235531226271932, 'Dear Jesse '),\n",
              " (4.234337725923045, 'Apocalypse Now '),\n",
              " (4.232347477295979, 'Stalag 17 '),\n",
              " (4.22749132858904, 'Almost Famous '),\n",
              " (4.224352080012135,\n",
              "  'Wonderful, Horrible Life of Leni Riefenstahl, The Die Macht der Bilder'),\n",
              " (4.2207597001857895, 'Butch Cassidy and the Sundance Kid '),\n",
              " (4.220142279287073, 'Modern Times '),\n",
              " (4.218513101596331, 'Glory '),\n",
              " (4.217427599149138, 'Bringing Up Baby '),\n",
              " (4.215606957812673, 'Blood Simple '),\n",
              " (4.214605804623738, 'Paradise Lost: The Child Murders at Robin Hood Hills '),\n",
              " (4.210690030295237, 'Shall We Dance? '),\n",
              " (4.209896065677918, 'Raging Bull '),\n",
              " (4.209646035497614, 'All Quiet on the Western Front '),\n",
              " (4.20918481352318, 'After Life '),\n",
              " (4.208090858530336, 'Ayn Rand: A Sense of Life '),\n",
              " (4.203255736912671, 'Killing, The '),\n",
              " (4.201187119645101, 'Arsenic and Old Lace '),\n",
              " (4.195990442141125, 'This Is Spinal Tap '),\n",
              " (4.195515037828065, 'Face in the Crowd, A '),\n",
              " (4.194148888083788, 'L.A. Confidential '),\n",
              " (4.193936982071064, '42 Up '),\n",
              " (4.191145432240108, 'Killer, The Die xue shuang xiong'),\n",
              " (4.189578841134941, 'Before the Rain Pred dozhdot'),\n",
              " (4.189496699941523, 'Spiral Staircase, The '),\n",
              " (4.188951629728777, 'Best Years of Our Lives, The '),\n",
              " (4.188153149255425, 'Green Mile, The '),\n",
              " (4.187072319594608, 'Raise the Red Lantern '),\n",
              " (4.185701189285075, 'Top Hat '),\n",
              " (4.183296927054528, 'Harold and Maude '),\n",
              " (4.182568662813411, 'How Green Was My Valley '),\n",
              " (4.181342527487077, 'Great Day in Harlem, A '),\n",
              " (4.180637923550444, 'Duck Soup '),\n",
              " (4.179844061095167, 'Mister Roberts '),\n",
              " (4.179206783937949, 'Hands on a Hard Body '),\n",
              " (4.179068143267741, 'Carmen '),\n",
              " (4.178445705883543, 'Gaslight '),\n",
              " (4.175995852961386, 'My Fair Lady '),\n",
              " (4.1749123784382, 'Grapes of Wrath, The '),\n",
              " (4.174251407255891, 'Waiting for Guffman '),\n",
              " (4.173568684703923, 'Gandhi '),\n",
              " (4.172963656820246, 'Suspicion '),\n",
              " (4.171685285556767, 'Day the Earth Stood Still, The '),\n",
              " (4.17133495443481, 'Pawnbroker, The '),\n",
              " (4.170841989049316, 'And Now for Something Completely Different '),\n",
              " (4.170461868457777, 'Vagabond Sans toit ni loi'),\n",
              " (4.170297740246421, 'Terrorist, The Malli'),\n",
              " (4.164592608449177, 'Anne Frank Remembered '),\n",
              " (4.163344760736392, 'In the Heat of the Night '),\n",
              " (4.162270563869744, 'Shall We Dance? Shall We Dansu?'),\n",
              " (4.161961864525501, 'Mrs. Miniver '),\n",
              " (4.160604484302139, 'Producers, The '),\n",
              " (4.159868801505208, 'Toy Story '),\n",
              " (4.15961212266854, 'Woman in the Dunes Suna no onna'),\n",
              " (4.159372351250254, \"Sullivan's Travels \"),\n",
              " (4.156034719166381, 'Postino, Il The Postman'),\n",
              " (4.155307776274673, 'To Catch a Thief '),\n",
              " (4.151621149924876, \"Microcosmos Microcosmos: Le peuple de l'herbe\"),\n",
              " (4.151336481121816, 'Ben-Hur '),\n",
              " (4.151196821926994, 'From Here to Eternity '),\n",
              " (4.150479501549477, 'Small Wonders '),\n",
              " (4.148427658589419, '8 1/2 '),\n",
              " (4.146889436628619, 'Hard-Boiled Lashou shentan'),\n",
              " (4.146261713610836, 'All About My Mother Todo Sobre Mi Madre'),\n",
              " (4.14609891993428, 'Shining, The '),\n",
              " (4.1454969437853455, 'My Life as a Dog Mitt liv som hund'),\n",
              " (4.144504300675666, 'Matewan '),\n",
              " (4.143365507850841, 'Brazil '),\n",
              " (4.143251629043609, 'Man Who Would Be King, The '),\n",
              " (4.142523452747182, 'October Sky '),\n",
              " (4.141789983235726, 'Searchers, The '),\n",
              " (4.14171223132505, 'Gladiator '),\n",
              " (4.140607448520022, 'French Connection, The '),\n",
              " (4.137560025611781, 'Gold Rush, The '),\n",
              " (4.137281292777536, 'Annie Hall '),\n",
              " (4.135276078184988, 'Apartment, The '),\n",
              " (4.134192648957496, 'Aliens '),\n",
              " (4.134139363430989, 'Good, The Bad and The Ugly, The '),\n",
              " (4.133996121020718, 'Harmonists, The '),\n",
              " (4.133554294816048, 'Princess Mononoke, The Mononoke Hime'),\n",
              " (4.1328412166043, 'Being John Malkovich '),\n",
              " (4.132803629294063, 'Seven Se7en'),\n",
              " (4.130463014490056, 'Get Real '),\n",
              " (4.130142541035823, 'Burnt By the Sun Utomlyonnye solntsem'),\n",
              " (4.128809201632651, 'Metropolis '),\n",
              " (4.127533708820524, 'Shop Around the Corner, The '),\n",
              " (4.126669520823947, 'Requiem for a Dream '),\n",
              " (4.12544758510816, 'Midnight Cowboy '),\n",
              " (4.12449891782811, 'West Side Story '),\n",
              " (4.122644999425336, 'Full Metal Jacket '),\n",
              " (4.120993903861925, 'Breaking Away '),\n",
              " (4.120729212055041, 'Deer Hunter, The '),\n",
              " (4.120302741035579, 'M*A*S*H '),\n",
              " (4.116689591086366, 'Reservoir Dogs '),\n",
              " (4.112956401375158, \"I'm the One That I Want \"),\n",
              " (4.112896333067689, 'Unforgiven '),\n",
              " (4.112345194378366, 'Grosse Fatigue '),\n",
              " (4.111631476490137, 'Paris Is Burning '),\n",
              " (4.111238724557693, 'Wings of Desire Der Himmel über Berlin'),\n",
              " (4.110634442713933, 'Ponette '),\n",
              " (4.109667824602251, 'Dial M for Murder '),\n",
              " (4.109090432596623, 'Professional, The a.k.a. Leon: The Professional'),\n",
              " (4.108407328915695, 'Apollo 13 '),\n",
              " (4.107931932618919, 'Sacco and Vanzetti Sacco e Vanzetti'),\n",
              " (4.107913062249256, 'Harvey '),\n",
              " (4.1070396439969175, '2001: A Space Odyssey '),\n",
              " (4.106890935214446, 'Buena Vista Social Club '),\n",
              " (4.105784018614609, 'Forrest Gump '),\n",
              " (4.104539640483897, 'Paradine Case, The '),\n",
              " (4.104518098399622, 'Big Night '),\n",
              " (4.103703713072545, 'Croupier '),\n",
              " (4.102397163919962, 'Quiet Man, The '),\n",
              " (4.099676084653437, 'Straight Story, The '),\n",
              " (4.098817990107534, 'Hunt for Red October, The '),\n",
              " (4.096687815440489,\n",
              "  'Garden of Finzi-Contini, The Giardino dei Finzi-Contini, Il'),\n",
              " (4.096546539714745, 'Out of the Past '),\n",
              " (4.096486935440676, 'Doctor Zhivago '),\n",
              " (4.095879261300614, 'Papillon '),\n",
              " (4.09505919158411, 'Christmas Carol, A '),\n",
              " (4.0949321904464835, 'Platoon '),\n",
              " (4.094808787770115, 'Right Stuff, The '),\n",
              " (4.092384557632237, 'Best in Show '),\n",
              " (4.091615710989782, 'Jaws '),\n",
              " (4.091092995990176, 'Bonnie and Clyde '),\n",
              " (4.0895845431480256, 'Love and Death '),\n",
              " (4.088131313487383, 'Three Colors: Blue '),\n",
              " (4.087811513474789, 'Maya Lin: A Strong Clear Vision '),\n",
              " (4.087552469126377, 'Insider, The '),\n",
              " (4.086283166872862, 'Manhattan '),\n",
              " (4.0861556088994515, 'Tampopo '),\n",
              " (4.084190193650189, 'Eat Drink Man Woman '),\n",
              " (4.0833905507652215, 'Brief Encounter '),\n",
              " (4.082647205182721, 'Ghost and Mrs. Muir, The '),\n",
              " (4.082497409423839, 'Key Largo '),\n",
              " (4.08247334749998, 'Boys of St. Vincent, The '),\n",
              " (4.082305263420591, 'Kolya '),\n",
              " (4.080586939970672, 'Red Sorghum Hong Gao Liang'),\n",
              " (4.080357699476376, 'Odd Couple, The '),\n",
              " (4.080300830289388, '39 Steps, The '),\n",
              " (4.079265490165578, 'Secrets & Lies '),\n",
              " (4.077683590516936, 'Arguing the World '),\n",
              " (4.076938123560117, 'My Man Godfrey '),\n",
              " (4.076790900620228, 'Hud '),\n",
              " (4.076553017789764, 'Psycho '),\n",
              " (4.075365159192024, 'Animal House '),\n",
              " (4.074244936062444, 'Brandon Teena Story, The '),\n",
              " (4.0739641670929245, 'Breaker Morant '),\n",
              " (4.07350352911334, 'Repulsion '),\n",
              " (4.073182715738766, 'Lone Star '),\n",
              " (4.0722589300443826, 'Take the Money and Run '),\n",
              " (4.070981462293851, 'Clockwork Orange, A '),\n",
              " (4.070488235562792, 'Ninotchka '),\n",
              " (4.070453921957838, 'Farewell My Concubine '),\n",
              " (4.070147834764316, 'Dreamlife of Angels, The La Vie rêvée des anges'),\n",
              " (4.066398244410878, 'Affair to Remember, An '),\n",
              " (4.066393751575393, 'Dead Poets Society '),\n",
              " (4.066225582212859, 'Rain Man '),\n",
              " (4.065968547363187, 'Friend of the Deceased, A '),\n",
              " (4.0647071954093885, 'Crimes and Misdemeanors '),\n",
              " (4.063562815410906, 'Mutiny on the Bounty '),\n",
              " (4.063362991952498, 'Bewegte Mann, Der '),\n",
              " (4.062582328522818, 'Born Yesterday '),\n",
              " (4.062386019706846, 'Everest '),\n",
              " (4.0622556980405164, 'Blazing Saddles '),\n",
              " (4.060849751662055, 'Ghost in the Shell Kokaku kidotai'),\n",
              " (4.060069243798706, 'Damsel in Distress, A '),\n",
              " (4.059897612905587, 'Sweet Hereafter, The '),\n",
              " (4.058130302973429, 'Time of the Gypsies Dom za vesanje'),\n",
              " (4.057096210592489, 'Not One Less Yi ge dou bu neng shao'),\n",
              " (4.056591576655657, 'Three Days of the Condor '),\n",
              " (4.055052767322817, 'Great Dictator, The '),\n",
              " (4.055049680219138, 'Fight Club '),\n",
              " (4.0549340202523085, 'Crumb '),\n",
              " (4.054866945698854, 'Hana-bi '),\n",
              " (4.054613395426971, 'Perfect Blue '),\n",
              " (4.054549140061641, 'Say Anything... '),\n",
              " (4.05377451179929, \"You Can't Take It With You \"),\n",
              " (4.052101446491257, 'Mildred Pierce '),\n",
              " (4.052023637464458, 'Baraka '),\n",
              " (4.051716882175142, \"Who's Afraid of Virginia Woolf? \"),\n",
              " (4.050379774396055, 'Bank Dick, The '),\n",
              " (4.049557328576218, 'Adventures of Robin Hood, The '),\n",
              " (4.04953346142233, 'Local Hero '),\n",
              " (4.048735776279434, 'Body Heat '),\n",
              " (4.047468557521122, 'Being There '),\n",
              " (4.045569256672198, 'Badlands '),\n",
              " (4.045134870379726, 'Down by Law '),\n",
              " (4.044684152972728, 'Clean Slate Coup de Torchon'),\n",
              " (4.044528975080715, 'Star Wars: Episode VI - Return of the Jedi '),\n",
              " (4.043013582426628, 'Gone with the Wind '),\n",
              " (4.042747243377614, 'Two Family House '),\n",
              " (4.042401163736093, 'Cry, the Beloved Country '),\n",
              " (4.038320749327323, 'Delicatessen '),\n",
              " (4.037704593087733, 'Sense and Sensibility '),\n",
              " (4.037370713014049, 'Man of the Century '),\n",
              " (4.037309744577295, 'East of Eden '),\n",
              " (4.036847632125765, 'Witness '),\n",
              " (4.036700982294817, 'Gay Deceivers, The '),\n",
              " (4.034786727366251, 'Close Encounters of the Third Kind '),\n",
              " (4.034668406862863, 'Dirty Dozen, The '),\n",
              " (4.032878132361805, 'City of Lost Children, The '),\n",
              " (4.032433105202732, 'Marty '),\n",
              " (4.032289213463371, 'Ordinary People '),\n",
              " (4.030515960521151, 'Nosferatu Nosferatu, eine Symphonie des Grauens'),\n",
              " (4.030206387356327, 'Women, The '),\n",
              " (4.0301628371641085, 'Diva '),\n",
              " (4.030064386354755, 'Ipcress File, The '),\n",
              " (4.029315999854577, 'Persuasion '),\n",
              " (4.028897454173298, 'Forbidden Planet '),\n",
              " (4.028040835164019, 'Much Ado About Nothing '),\n",
              " (4.027465276644577, 'Untouchables, The '),\n",
              " (4.0268591212473925, 'Iron Giant, The '),\n",
              " (4.026368448480517, 'Cat on a Hot Tin Roof '),\n",
              " (4.024169497141511, 'Network '),\n",
              " (4.023962910676322, 'Enchanted April '),\n",
              " (4.023702878691055, 'Story of G.I. Joe, The '),\n",
              " (4.0234342453299545, 'Wild Bunch, The '),\n",
              " (4.022946553883869, \"Monty Python's Life of Brian \"),\n",
              " (4.022525513786923, 'Celluloid Closet, The '),\n",
              " (4.022267835602871, 'Midnight Express '),\n",
              " (4.02175756436699, 'Outlaw Josey Wales, The '),\n",
              " (4.021441463392329, 'Circus, The '),\n",
              " (4.020839649814216, 'Room with a View, A '),\n",
              " (4.019663313722501, 'Rosencrantz and Guildenstern Are Dead '),\n",
              " (4.019534455577849, 'Longest Day, The '),\n",
              " (4.019457486581499, 'Elizabeth '),\n",
              " (4.018908590039957, 'Little Princess, A '),\n",
              " (4.018412729263186, 'Meet John Doe '),\n",
              " (4.0177003829789895, 'Spartacus '),\n",
              " (4.01540231180303, 'Battleship Potemkin, The Bronenosets Potyomkin'),\n",
              " (4.015308250815725, 'Sum of Us, The '),\n",
              " (4.0152763086929655, 'Run Silent, Run Deep '),\n",
              " (4.013564178814766, \"Dog's Life, A \"),\n",
              " (4.012814264804327,\n",
              "  'Double Life of Veronique, The La Double Vie de Véronique'),\n",
              " (4.01255371981641, 'Color of Paradise, The Rang-e Khoda'),\n",
              " (4.012314420631237, 'American Movie '),\n",
              " (4.011646498176276, 'Romeo and Juliet '),\n",
              " (4.009388657345222, 'Drunken Master Zui quan'),\n",
              " (4.007396302823392, 'Spellbound '),\n",
              " (4.007284395517054, 'Raising Arizona '),\n",
              " (4.006596894602878, 'Raw Deal '),\n",
              " (4.004714919739322, 'Nikita La Femme Nikita'),\n",
              " (4.003077910376483, 'Hanging Garden, The '),\n",
              " (4.002830567344857, 'Days of Heaven '),\n",
              " (4.001904378846533, \"Sophie's Choice \"),\n",
              " (4.001617724010039, 'Fresh '),\n",
              " (4.000143682742415, \"Miller's Crossing \"),\n",
              " (4.0, 'With Friends Like These... '),\n",
              " (4.0, \"Where's Marlowe? \"),\n",
              " (4.0, \"Wend Kuuni God's Gift\"),\n",
              " (4.0, 'Ten Benny '),\n",
              " (4.0, 'Target '),\n",
              " (4.0, 'Stranger, The '),\n",
              " (4.0, 'Sonic Outlaws '),\n",
              " (4.0, 'Smoking/No Smoking '),\n",
              " (4.0, 'Show, The '),\n",
              " (4.0, 'Running Free '),\n",
              " (4.0, 'Rhyme & Reason '),\n",
              " (4.0, 'Outside Ozona '),\n",
              " (4.0, 'Mouth to Mouth Boca a boca'),\n",
              " (4.0, 'Leather Jacket Love Story '),\n",
              " (4.0, 'Jar, The Khomreh'),\n",
              " (4.0, 'Illtown '),\n",
              " (4.0, \"I Don't Want to Talk About It De eso no se habla\"),\n",
              " (4.0, 'Hungarian Fairy Tale, A '),\n",
              " (4.0, \"Heaven's Burning \"),\n",
              " (4.0, 'Frank and Ollie '),\n",
              " (4.0, 'Five Wives, Three Secretaries and Me '),\n",
              " (4.0, 'Fall Time '),\n",
              " (4.0, 'Everything Relative '),\n",
              " (4.0, 'Daens '),\n",
              " (4.0, 'Condition Red '),\n",
              " (4.0, 'Closer You Get, The '),\n",
              " (4.0, 'Castaway Cowboy, The '),\n",
              " (4.0, 'Bye-Bye '),\n",
              " (4.0, 'Bluebeard '),\n",
              " (4.0, 'Beloved/Friend Amigo/Amado'),\n",
              " (4.0, \"Another Man's Poison \"),\n",
              " (4.0, 'Anna '),\n",
              " (4.0, 'Alley Cats, The '),\n",
              " (3.998256552616031, 'Little Big Man '),\n",
              " (3.9979610311700147, 'Dadetown '),\n",
              " (3.9966650917955477, 'Last Emperor, The '),\n",
              " (3.9948018218359715, 'Cider House Rules, The '),\n",
              " (3.9941866150567287, 'Sleeper '),\n",
              " (3.99231250708585, 'Goldfinger '),\n",
              " (3.9919349670150264, 'Elephant Man, The '),\n",
              " (3.990960498533621, 'Paralyzing Fear: The Story of Polio in America, A '),\n",
              " (3.9909140059776296, 'Fistful of Dollars, A '),\n",
              " (3.9907159807444472, 'Limbo '),\n",
              " (3.9905667340874555, 'Tombstone '),\n",
              " (3.9903023460328555, 'As Good As It Gets '),\n",
              " (3.990170528140787, 'Beautiful Thing '),\n",
              " (3.9894116799315418, 'Serpico '),\n",
              " (3.989255242326036, 'Trainspotting '),\n",
              " (3.989163599219042, 'Tin Drum, The Blechtrommel, Die'),\n",
              " (3.988390347837986, 'Exorcist, The '),\n",
              " (3.98787628994388, 'Tender Mercies '),\n",
              " (3.9873326261092528, 'Clerks '),\n",
              " (3.986589368679209, 'Walk in the Sun, A '),\n",
              " (3.985955582112778, 'Fitzcarraldo '),\n",
              " (3.985478663410725, 'Walkabout '),\n",
              " (3.9852894245034456, 'One False Move '),\n",
              " (3.984834678400667, 'Innocents, The '),\n",
              " (3.984513994563569, 'E.T. the Extra-Terrestrial '),\n",
              " (3.982813921561843, 'My Left Foot '),\n",
              " (3.980879638940356, 'Better Off Dead... '),\n",
              " (3.9800153268868113, 'Wonder Boys '),\n",
              " (3.9796163180129636, 'Men With Guns '),\n",
              " (3.978528004788473, 'Dangerous Liaisons '),\n",
              " (3.9782407615593374, 'Bread and Chocolate Pane e cioccolata'),\n",
              " (3.9778955776607123, 'Tom Jones '),\n",
              " (3.97784844779479, 'If.... '),\n",
              " (3.977416411438863, 'Richard III '),\n",
              " (3.9762080736238152, 'Swingers '),\n",
              " (3.9756647453271854, 'Three Colors: White '),\n",
              " (3.975021488631844, 'Eyes of Tammy Faye, The '),\n",
              " (3.9745370076451083, 'Player, The '),\n",
              " (3.9737864097924716, 'When the Cats Away Chacun cherche son chat'),\n",
              " (3.9736229829135685, \"I Can't Sleep J'ai pas sommeil\"),\n",
              " (3.972742451465573, 'Guns of Navarone, The '),\n",
              " (3.972078894342163, 'Pushing Hands '),\n",
              " (3.9702998836684262, 'Searching for Bobby Fischer '),\n",
              " (3.9679276437477347, 'Once Were Warriors '),\n",
              " (3.9666971113086595, 'Remains of the Day, The '),\n",
              " (3.9663264438818553, 'Bronx Tale, A '),\n",
              " (3.9659903694935656, 'Frankenstein '),\n",
              " (3.965824246518418, 'Never Cry Wolf '),\n",
              " (3.9642174044188807, \"Boys Don't Cry \"),\n",
              " (3.9636713380172885, 'Five Easy Pieces '),\n",
              " (3.962984457497073, 'Nashville '),\n",
              " (3.9629602901855248, 'Rocky '),\n",
              " (3.9626247895427746, 'Last Picture Show, The '),\n",
              " (3.9625754526748156, 'Twelve Monkeys '),\n",
              " (3.962515246706104, 'Land and Freedom Tierra y libertad'),\n",
              " (3.9618445514595755, 'On the Beach '),\n",
              " (3.9615031121053157, 'Déjà Vu '),\n",
              " (3.9603372025889025, 'Dead Man Walking '),\n",
              " (3.9600234005404706, 'Once Upon a Time in the West '),\n",
              " (3.9598955550214576, 'Jules and Jim Jules et Jim'),\n",
              " (3.9597867749213265,\n",
              "  'Return of Martin Guerre, The Retour de Martin Guerre, Le'),\n",
              " (3.959786755808692, 'Mr. Death: The Rise and Fall of Fred A. Leuchter Jr. '),\n",
              " (3.9575415730135215, 'Diner '),\n",
              " (3.9566494409231994, 'King and I, The '),\n",
              " (3.9565027188432658, 'Black Cat, White Cat Crna macka, beli macor'),\n",
              " (3.954962969153864, 'Twelve Chairs, The '),\n",
              " (3.954551301292106, 'Wings '),\n",
              " (3.954533773155237, 'Freedom for Us À nous la liberté '),\n",
              " (3.953611453216197, 'Deliverance '),\n",
              " (3.951851274670862, 'And the Band Played On '),\n",
              " (3.9505071663963887, 'Primal Fear '),\n",
              " (3.950150711336088, 'Stage Fright '),\n",
              " (3.9501409135064316, 'Blue Angel, The Blaue Engel, Der'),\n",
              " (3.950083029024004, 'Dances with Wolves '),\n",
              " (3.949810435738096, 'Great Santini, The '),\n",
              " (3.9488688607554767, 'Julien Donkey-Boy '),\n",
              " (3.9485835848918507, 'On the Town '),\n",
              " (3.9481142114345418, 'Fanny and Alexander '),\n",
              " (3.9479709303468167, 'Marcello Mastroianni: I Remember Yes, I Remember '),\n",
              " (3.9471978874609297, \"Kelly's Heroes \"),\n",
              " (3.947035038589435, 'Drugstore Cowboy '),\n",
              " (3.947004982450322, 'My Best Fiend Mein liebster Feind'),\n",
              " (3.9460534931473927, 'Double Happiness '),\n",
              " (3.9459445957982884, 'Beauty and the Beast '),\n",
              " (3.945936987513167, 'Living in Oblivion '),\n",
              " (3.9459041908055554, 'Chungking Express '),\n",
              " (3.945658500462922, 'Cruise, The '),\n",
              " (3.944704883621557, 'Spanish Prisoner, The '),\n",
              " (3.944512607563451, 'True Romance '),\n",
              " (3.9432676709037446, 'Room at the Top '),\n",
              " (3.942432921774368, 'Year of Living Dangerously '),\n",
              " (3.942277244589816, 'Open Your Eyes Abre los ojos'),\n",
              " (3.942244508192261, 'Man with the Golden Arm, The '),\n",
              " (3.9412227531538973, 'Love in the Afternoon '),\n",
              " (3.9401285908183867, 'Maurice '),\n",
              " (3.9389086458541533, 'On the Ropes '),\n",
              " (3.938311742078618, 'In the Bleak Midwinter '),\n",
              " (3.9372850200118776, 'Field of Dreams '),\n",
              " (3.9368004447923766, 'Four Days in September '),\n",
              " (3.9365752593133276, 'Game, The '),\n",
              " (3.936513170376198, 'Holiday Inn '),\n",
              " (3.936434408978486, 'Place in the Sun, A '),\n",
              " (3.9361791259036827, 'Castle, The '),\n",
              " (3.934892956369231, 'Raisin in the Sun, A '),\n",
              " (3.934751698740286, 'Only Angels Have Wings '),\n",
              " (3.933809694396777, 'Sound of Music, The '),\n",
              " (3.9326116383329044, 'Mission, The '),\n",
              " (3.9323361005907658, 'Wife, The '),\n",
              " (3.9314127261301266, 'Akira '),\n",
              " (3.92973772573829, 'Meet Me in St. Louis '),\n",
              " (3.929118089120932, 'Philadelphia '),\n",
              " (3.9288718884019396, \"There's Something About Mary \"),\n",
              " (3.928417213170214, 'Like Water for Chocolate Como agua para chocolate'),\n",
              " (3.9278053704405553, 'Red Violin, The Le Violon rouge'),\n",
              " (3.9274649785029925, 'Remember the Titans '),\n",
              " (3.9271478569961107, 'Substance of Fire, The '),\n",
              " (3.9269523069289636, 'In the Name of the Father '),\n",
              " (3.9268327888626717, 'Dingo '),\n",
              " (3.9264953526976556, 'Live Flesh '),\n",
              " (3.925574344980883, 'Twelfth Night '),\n",
              " (3.925337821085016, 'Election '),\n",
              " (3.925116064634642, 'Sea Wolves, The '),\n",
              " (3.924403596841699, 'Rope '),\n",
              " (3.923999458111923, 'Three Seasons '),\n",
              " (3.9227584173675654, 'Mary Poppins '),\n",
              " (3.9223515517359795, 'Rebel Without a Cause '),\n",
              " (3.9221651822740107, 'Winslow Boy, The '),\n",
              " (3.921462232389882, 'Winnie the Pooh and the Blustery Day '),\n",
              " (3.9211152941121017, 'My Favorite Year '),\n",
              " (3.9209006067059966, 'Stonewall '),\n",
              " (3.9200076954008285, 'No Way Out '),\n",
              " (3.9192079057411764, 'War of the Worlds, The '),\n",
              " (3.919192267319604, 'Fandango '),\n",
              " (3.9183657588462335, 'Do the Right Thing '),\n",
              " (3.917132137649643, 'Marathon Man '),\n",
              " (3.9170575491995994, 'Picnic at Hanging Rock '),\n",
              " (3.916574082808763, 'Name of the Rose, The '),\n",
              " (3.91648839075829, 'Lion King, The '),\n",
              " (3.915562660300201, 'Heat '),\n",
              " (3.915406391002185, 'Lock, Stock & Two Smoking Barrels '),\n",
              " (3.915198003239302, 'Invasion of the Body Snatchers '),\n",
              " (3.9143007383072175, 'Message to Love: The Isle of Wight Festival '),\n",
              " (3.9136101627263, 'Birdy '),\n",
              " (3.913444993781324, 'Star Trek: The Wrath of Khan '),\n",
              " (3.9126009752521105, 'Cabaret '),\n",
              " (3.9122381296226374, 'Malcolm X '),\n",
              " (3.912164087572593,\n",
              "  'Decline of Western Civilization Part II: The Metal Years, The '),\n",
              " (3.9114577980091747, 'Ghostbusters '),\n",
              " (3.911197569221751, 'Chicken Run '),\n",
              " (3.9110990334383446, 'Gay Divorcee, The '),\n",
              " (3.910372577412044, 'Women on the Verge of a Nervous Breakdown '),\n",
              " (3.9102069392589955, 'Mrs. Brown Her Majesty, Mrs. Brown'),\n",
              " (3.9095326074779306, 'Driving Miss Daisy '),\n",
              " (3.9086271444842144, 'Go '),\n",
              " (3.907966771326658, 'From Russia with Love '),\n",
              " (3.907032475449151, 'High Fidelity '),\n",
              " (3.906318701428933, 'Thing From Another World, The '),\n",
              " (3.9049153404689583, 'White Balloon, The Badkonake Sefid '),\n",
              " (3.9048086948652347, 'Saboteur '),\n",
              " (3.903286053694661, 'Stranger Than Paradise '),\n",
              " (3.903111781071139, \"Antonia's Line Antonia\"),\n",
              " (3.9025791742367293, 'Highlander '),\n",
              " (3.9021858551351887, 'Babe '),\n",
              " (3.902128581960484, 'Lifeboat '),\n",
              " (3.901476731822026, 'Force of Evil '),\n",
              " (3.900889105205064, 'Asphalt Jungle, The '),\n",
              " (3.9000612006047586, 'Vacation '),\n",
              " (3.8999981834863586, 'Filth and the Fury, The '),\n",
              " (3.899275635954184, 'Modulations '),\n",
              " (3.8989669186143776,\n",
              "  'Lovers of the Arctic Circle, The Los Amantes del Círculo Polar'),\n",
              " (3.8986445058406165, 'Ladybird Ladybird '),\n",
              " (3.896352938988167, 'Dr. No '),\n",
              " (3.896209714711225, 'Birds, The '),\n",
              " (3.896126178924497, 'Ruling Class, The '),\n",
              " (3.896033100950553, \"Hard Day's Night, A \"),\n",
              " (3.895701790538892, 'Color Purple, The '),\n",
              " (3.895475518930178, 'Of Mice and Men '),\n",
              " (3.8952561231073917, 'Paper Chase, The '),\n",
              " (3.8950922237328207, 'Hurricane, The '),\n",
              " (3.8946314278525387, 'Erin Brockovich '),\n",
              " (3.893646011908272, 'Evil Dead II Dead By Dawn'),\n",
              " (3.8915673266843798, 'Shallow Grave '),\n",
              " (3.8913986197939328, 'Long Goodbye, The '),\n",
              " (3.8912498017381814, 'Emma '),\n",
              " (3.8898107395542594, 'Auntie Mame '),\n",
              " (3.8896464101334187, 'Truman Show, The '),\n",
              " (3.888266256240524, 'Lost Weekend, The '),\n",
              " (3.887753570206919, 'Regret to Inform '),\n",
              " (3.887620936926263, 'Fast, Cheap & Out of Control '),\n",
              " (3.88670342235228, 'Glengarry Glen Ross '),\n",
              " (3.886047271497329, 'Character Karakter'),\n",
              " (3.8858367255573363, 'Verdict, The '),\n",
              " (3.883761688705813, 'Secret of Roan Inish, The '),\n",
              " (3.8829283724251513, 'Misery '),\n",
              " (3.882099885805549, 'Dancer in the Dark '),\n",
              " (3.88201751146826, 'Dead Man '),\n",
              " (3.8816104453701175, 'Man Who Knew Too Much, The '),\n",
              " (3.880326003028359, 'Bottle Rocket '),\n",
              " (3.8799711056146275, 'Dead Again '),\n",
              " (3.8798393464368948, 'Heavenly Creatures '),\n",
              " (3.8794374898664574, 'Koyaanisqatsi '),\n",
              " (3.8789821862943556, \"Breakfast at Tiffany's \"),\n",
              " (3.878822108681756, 'American in Paris, An '),\n",
              " (3.8785326223901433, 'Commitments, The '),\n",
              " (3.8781421558571334, 'Atlantic City '),\n",
              " (3.8772848823275807, 'Man and a Woman, A Un Homme et une Femme'),\n",
              " (3.876553267188415, 'Go West '),\n",
              " (3.87609513310547, 'Caddyshack '),\n",
              " (3.876040300738079,\n",
              "  'Effect of Gamma Rays on Man-in-the-Moon Marigolds, The '),\n",
              " (3.8758204894224373, 'Bhaji on the Beach '),\n",
              " (3.8757727451281956, 'Specials, The '),\n",
              " (3.8756410136525945, 'Jeremiah Johnson '),\n",
              " (3.8756283965607676, 'Thirty-Two Short Films About Glenn Gould '),\n",
              " (3.875223038538803, 'White Christmas '),\n",
              " (3.8743717101952155, 'Insomnia '),\n",
              " (3.8742822895680953, \"Bug's Life, A \"),\n",
              " (3.8739547638233534, 'Our Town '),\n",
              " (3.873317981982606, 'Last Detail, The '),\n",
              " (3.8732873072197775, 'Gods and Monsters '),\n",
              " (3.8728399764684034, 'Looking for Richard '),\n",
              " (3.872376293537748, 'King of the Hill '),\n",
              " (3.8720695400201435, 'Seven Beauties Pasqualino Settebellezze'),\n",
              " (3.8717484958500648, 'Cyrano de Bergerac '),\n",
              " (3.870588410487121, 'Stripes '),\n",
              " (3.870530311884588, 'Muppet Movie, The '),\n",
              " (3.870466263305479, 'Shadowlands '),\n",
              " (3.86949857111926, 'Chariots of Fire '),\n",
              " (3.8694524791328093, 'Lonely Are the Brave '),\n",
              " (3.866516133493764, 'Cross of Iron '),\n",
              " (3.8662463355126007, 'Hear My Song '),\n",
              " (3.866156374190522, 'For Whom the Bell Tolls '),\n",
              " (3.865925007998506, 'To Be or Not to Be '),\n",
              " (3.8658849102701653, 'Red Rock West '),\n",
              " (3.865261924952114, 'Joy Luck Club, The '),\n",
              " (3.864663287663795, 'Big Combo, The '),\n",
              " (3.8639141268725083, 'All That Jazz '),\n",
              " (3.8636601903397536, 'Bananas '),\n",
              " (3.8636466302968775, 'Year My Voice Broke, The '),\n",
              " (3.863482204272725, 'Midaq Alley Callejón de los milagros, El'),\n",
              " (3.8633595167289916, 'Murder, My Sweet '),\n",
              " (3.863018621044813, 'Shane '),\n",
              " (3.86276963763489, 'Sleepless in Seattle '),\n",
              " (3.862622940350255, 'Once Upon a Time in America '),\n",
              " (3.8622833119401716, 'Magnolia '),\n",
              " (3.8620749707239965, 'Fantasia 2000 '),\n",
              " (3.8604962124651045, 'Bride of Frankenstein '),\n",
              " (3.8601321780525497, 'Bull Durham '),\n",
              " (3.859752744016537, 'Night on Earth '),\n",
              " (3.859512730845134, 'High Plains Drifter '),\n",
              " (3.859424075118561, 'Mansfield Park '),\n",
              " (3.859115541171743, 'Children of a Lesser God '),\n",
              " (3.8585749437019214, 'Hilary and Jackie '),\n",
              " (3.857236045186756, 'Foreign Correspondent '),\n",
              " (3.8571691403557984, 'Happiness '),\n",
              " (3.856990743901085, 'Snow White and the Seven Dwarfs '),\n",
              " (3.8563521020108213, 'Office Space '),\n",
              " (3.8563139008124887, \"Roseanna's Grave For Roseanna\"),\n",
              " (3.854888984325495,\n",
              "  'Umbrellas of Cherbourg, The Parapluies de Cherbourg, Les'),\n",
              " (3.854846662002584, 'Fantasia '),\n",
              " (3.853700781953141, 'Last Days, The '),\n",
              " (3.852986456769145, 'Rushmore '),\n",
              " (3.8519074211177617, 'Wolf Man, The '),\n",
              " (3.85141310698413, 'Excalibur '),\n",
              " (3.848643221030943, 'Bandit Queen '),\n",
              " (3.848478712157254, 'Things Change '),\n",
              " (3.8484247139708945, \"Rosemary's Baby \"),\n",
              " (3.8481458863389872, 'Fried Green Tomatoes '),\n",
              " (3.8481432612121806, 'Trip to Bountiful, The '),\n",
              " (3.8477402216916308, 'Last of the Mohicans, The '),\n",
              " (3.8477299179939286, 'Cosi '),\n",
              " (3.8474899042457045, 'Army of Darkness '),\n",
              " (3.846949260945628, 'Natural, The '),\n",
              " (3.84521983962988, 'Immortal Beloved '),\n",
              " (3.8446514868259034, 'Mr. & Mrs. Smith '),\n",
              " (3.843764417234928, 'X-Men '),\n",
              " (3.8424591555819436, 'Mystery Train '),\n",
              " (3.8420874531438907, 'Klute '),\n",
              " (3.841620196039074, 'Misérables, Les '),\n",
              " (3.841232601890859, 'Before Sunrise '),\n",
              " (3.8404125971129206, 'This Is My Father '),\n",
              " (3.839898485283256, 'Dark City '),\n",
              " (3.8398676758481836, 'Better Living Through Circuitry '),\n",
              " (3.838623729852204, \"Charlotte's Web \"),\n",
              " (3.838576902651127, 'Grosse Pointe Blank '),\n",
              " (3.8385617330972237, 'They Might Be Giants '),\n",
              " (3.8373498325732944, \"What's Eating Gilbert Grape \"),\n",
              " (3.837269079214047, 'Help! '),\n",
              " (3.836848597914362, 'Old Man and the Sea, The '),\n",
              " (3.8359292742406925, 'Captain Horatio Hornblower '),\n",
              " (3.8358657099229823, 'Price Above Rubies, A '),\n",
              " (3.8357412652278686, 'Vanya on 42nd Street '),\n",
              " (3.8350628598325964, 'Big Carnival, The '),\n",
              " (3.8348561735691793, 'To Sir with Love '),\n",
              " (3.834602707492774, 'Phantom of the Opera, The '),\n",
              " (3.834353491355793, 'Grand Hotel '),\n",
              " (3.8321795296711785, 'Queen Margot La Reine Margot'),\n",
              " (3.8321071543675624, \"Gentleman's Agreement \"),\n",
              " (3.831756096363465, 'Smoke Signals '),\n",
              " (3.8309938034632465, 'Battle of the Sexes, The '),\n",
              " (3.8308638815712053, 'Heathers '),\n",
              " (3.8292110044052032, \"Some Mother's Son \"),\n",
              " (3.828577067124058, 'Patriot Games '),\n",
              " (3.827112299565343, 'Among Giants '),\n",
              " (3.825368109195638, 'Strawberry and Chocolate Fresa y chocolate'),\n",
              " (3.824496386680628, 'Lady and the Tramp '),\n",
              " (3.824169286777901, 'Guys and Dolls '),\n",
              " (3.8235173271049976, 'My Life in Pink Ma vie en rose'),\n",
              " (3.822859334644297, '...And Justice for All '),\n",
              " (3.8227435574248303, 'Brother Minister: The Assassination of Malcolm X '),\n",
              " (3.822585568294441, 'Kramer Vs. Kramer '),\n",
              " (3.8225733675656244, 'For a Few Dollars More '),\n",
              " (3.8225665521333334, 'Aladdin '),\n",
              " (3.822477769746243, 'Six Degrees of Separation '),\n",
              " (3.8205456477105044, 'Perfect Candidate, A '),\n",
              " (3.8205372914558127, 'Prisoner of the Mountains Kavkazsky Plennik'),\n",
              " (3.820490494382588, 'Official Story, The La Historia Oficial'),\n",
              " (3.819713279024128, 'Autumn Sonata Höstsonaten '),\n",
              " (3.819227535932711, 'Monsieur Verdoux '),\n",
              " (3.8189512833475114, 'Contact '),\n",
              " (3.816498345062377, 'Frances '),\n",
              " (3.816469000999635, 'Going My Way '),\n",
              " (3.8155043399732462, 'Beyond Silence '),\n",
              " (3.8154691813318173, 'Awakenings '),\n",
              " (3.8153706502994558, 'Short Cuts '),\n",
              " (3.814994976324628, 'Ice Storm, The '),\n",
              " (3.8149681503216017, 'Secret Garden, The '),\n",
              " (3.8149257364582376, 'Bound for Glory '),\n",
              " (3.8145484941279255, 'Shower Xizhao'),\n",
              " (3.814267751618394, 'Promise, The La Promesse'),\n",
              " (3.8135916779964854, 'Bell, Book and Candle '),\n",
              " (3.8132803886217497, 'Thing, The '),\n",
              " (3.8132347685762475, 'Two Women La Ciociara'),\n",
              " (3.8132123131354567, 'Lucie Aubrac '),\n",
              " (3.8126217533454327, 'Sliding Doors '),\n",
              " (3.81246788831443, 'Patriot, The '),\n",
              " (3.8113677686045944, 'Moonstruck '),\n",
              " (3.8107197591133075, 'Keeping the Faith '),\n",
              " (3.809560313788354, 'Little Mermaid, The '),\n",
              " (3.809162499195794, 'Where Eagles Dare '),\n",
              " (3.8089655873721338, 'Return of the Pink Panther, The '),\n",
              " (3.808873780052471, 'Grifters, The '),\n",
              " (3.8087288957505905, 'Three Kings '),\n",
              " (3.808160100725593, 'Nobody Loves Me Keiner liebt mich'),\n",
              " (3.8078233117681686, 'Miracle on 34th Street '),\n",
              " (3.807721323571591,\n",
              "  'Institute Benjamenta, or This Dream People Call Human Life '),\n",
              " (3.807388683223507, 'My Favorite Season '),\n",
              " (3.8065768023217506, 'My Family '),\n",
              " (3.8060832095228, 'Contempt Le Mépris'),\n",
              " (3.8060464647826233, 'Bound '),\n",
              " (3.805770716891522, 'Journey of August King, The '),\n",
              " (3.8056889869020534, 'Prick Up Your Ears '),\n",
              " (3.8054287912068157, 'Taming of the Shrew, The '),\n",
              " (3.8053430001398345, 'Invisible Man, The '),\n",
              " (3.8051389708195624, 'Secret of NIMH, The '),\n",
              " (3.80438398507356, 'Trick '),\n",
              " (3.8034267342317913, 'Rock, The '),\n",
              " (3.8031343611997834, 'Trial, The Le Procès'),\n",
              " (3.8029908764147806,\n",
              "  \"Swept Away Travolti da un insolito destino nell'azzurro mare d'Agosto\"),\n",
              " (3.8028813011102094, 'Pale Rider '),\n",
              " (3.8027901570807474, 'Adventures of Priscilla, Queen of the Desert, The '),\n",
              " (3.8027622276229547, 'Mrs. Dalloway '),\n",
              " (3.802253690594558, 'Out of Sight '),\n",
              " (3.8020786705828464, 'Angela '),\n",
              " (3.801793246496298, 'I Went Down '),\n",
              " (3.8017122634414755, 'Ever After: A Cinderella Story '),\n",
              " (3.8014589341909266, 'East-West Est-ouest'),\n",
              " (3.80116977839988, 'Stand and Deliver '),\n",
              " (3.8006950769962766, 'Flirt '),\n",
              " (3.8005707447229176, 'Easy Rider '),\n",
              " (3.7994812956315296, 'Night to Remember, A '),\n",
              " (3.7994406367865685, 'Sabotage '),\n",
              " (3.798096794654741, 'Cinderella '),\n",
              " (3.797945387468125, 'Amateur '),\n",
              " (3.7968697144910792, 'Ridicule '),\n",
              " (3.796524942804463, 'Peeping Tom '),\n",
              " (3.796256223498123, 'Pork Chop Hill '),\n",
              " (3.7949339788403305, 'Trekkies '),\n",
              " (3.794437796838131, 'Gypsy '),\n",
              " (3.7943764499422437, 'Casino '),\n",
              " (3.7937571790565587, 'American Werewolf in London, An '),\n",
              " (3.7935679378533105, 'Endless Summer, The '),\n",
              " (3.7930412068921666, 'Halloween '),\n",
              " (3.792397276679883, 'Mephisto '),\n",
              " (3.792051615740773, 'Dreaming of Joseph Lees '),\n",
              " (3.7918092492232183, 'American Pie '),\n",
              " (3.790260709219878, 'Little Lord Fauntleroy '),\n",
              " (3.7893569565710714, 'Mulan '),\n",
              " (3.7889899916491236, 'Of Human Bondage '),\n",
              " (3.788747732756698, 'Star Trek: First Contact '),\n",
              " (3.788720077389748, 'On Golden Pond '),\n",
              " (3.788577939868677, 'South Park: Bigger, Longer and Uncut '),\n",
              " (3.7883662436894627, 'Donnie Brasco '),\n",
              " (3.7875447671172235, 'Hard Core Logo '),\n",
              " (3.787540937698182, 'Affair of Love, An Une Liaison Pornographique'),\n",
              " (3.7868661490265176, 'Top Gun '),\n",
              " (3.785474517347335, 'Belle de jour '),\n",
              " (3.7853862275217147, 'Bob Roberts '),\n",
              " (3.7851335471565726, 'Amistad '),\n",
              " (3.7846458418281266, 'Land Girls, The '),\n",
              " (3.7843020165938244, 'Oliver! '),\n",
              " (3.784191123608674, 'Contender, The '),\n",
              " (3.7829804821401893, 'Breaking the Waves '),\n",
              " (3.7828816438255055, 'Pi '),\n",
              " (3.7824895552038815, 'Broadcast News '),\n",
              " (3.7824577481731825, 'Hard 8 a.k.a. Sydney, a.k.a. Hard Eight'),\n",
              " (3.782317557394024, 'Rain '),\n",
              " (3.7822186595751908, 'Galaxy Quest '),\n",
              " (3.7818701537101416, 'Bambi '),\n",
              " (3.7811839357830253, 'Crossfire '),\n",
              " (3.7808623218564383, '20,000 Leagues Under the Sea '),\n",
              " (3.780288994719932, 'Indochine '),\n",
              " (3.780145445786955, 'Born American '),\n",
              " (3.7800678489756523, 'Chasing Amy '),\n",
              " (3.7798659745692555, 'Cape Fear '),\n",
              " (3.7796939002622816, 'Impostors, The '),\n",
              " (3.7795433237328764, 'Watership Down '),\n",
              " (3.7788712804343647, \"Soldier's Story, A \"),\n",
              " (3.7782464768767965, 'All Over Me '),\n",
              " (3.77794744614143, 'Sabrina '),\n",
              " (3.776664191444098, 'Ghost Dog: The Way of the Samurai '),\n",
              " (3.7758858599594536, 'Candidate, The '),\n",
              " (3.775661476231146, 'Cold Comfort Farm '),\n",
              " (3.7756192045817305, 'Crimson Tide '),\n",
              " (3.775365754126436, 'Ballad of Narayama, The Narayama Bushiko'),\n",
              " (3.7750757686173584, 'Ashes of Time '),\n",
              " (3.774642063338173, 'Lost Horizon '),\n",
              " (3.774301807212853, 'Mediterraneo '),\n",
              " (3.773903903820532, 'Sneakers '),\n",
              " (3.7735277575257493, 'Welcome to the Dollhouse '),\n",
              " (3.7723580659560927, 'Pope of Greenwich Village, The '),\n",
              " (3.771965510081327, 'Enemy of the State '),\n",
              " (3.7707822565144116, 'Quatermass and the Pit '),\n",
              " (3.770488933700831, 'Wings of the Dove, The '),\n",
              " (3.7704172276580787, 'Algiers '),\n",
              " (3.7698012270595305, 'Mighty, The '),\n",
              " (3.769408524255696, 'Pinocchio '),\n",
              " (3.768203125238203, 'Flower of My Secret, The La Flor de Mi Secreto'),\n",
              " (3.7674399381794705, 'My Son the Fanatic '),\n",
              " (3.767215928028586, 'Celestial Clockwork '),\n",
              " (3.767184372473858, 'Coming Home '),\n",
              " (3.7671653281187982, 'Scent of a Woman '),\n",
              " (3.7671597891453423, 'Artemisia '),\n",
              " (3.7658015921657815, 'Frequency '),\n",
              " (3.7657602684337705, 'Great Muppet Caper, The '),\n",
              " (3.7654609186351045, 'Haunted World of Edward D. Wood Jr., The '),\n",
              " (3.764352048656973, 'Howards End '),\n",
              " (3.763417931839997, 'JFK '),\n",
              " (3.763083685951152, 'Across the Sea of Time '),\n",
              " (3.762180693935213, 'Big Lebowski, The '),\n",
              " (3.762128368801693, 'River Runs Through It, A '),\n",
              " (3.7616487484272696, 'Funny Face '),\n",
              " (3.761501782893068, 'Manhattan Murder Mystery '),\n",
              " (3.761111140650843, 'What Ever Happened to Baby Jane? '),\n",
              " (3.7610217469708025, \"Mr. Holland's Opus \"),\n",
              " (3.760768910467565, 'Smoke '),\n",
              " (3.760755593516097, 'Niagara, Niagara '),\n",
              " (3.7605488378880874, 'Blowup '),\n",
              " (3.7601535202844474, 'In the Company of Men '),\n",
              " (3.758058954218624, 'Last September, The '),\n",
              " (3.7579999176413192, 'Black Tar Heroin: The Dark End of the Street '),\n",
              " (3.7568631603333027, 'Quiz Show '),\n",
              " (3.755750662289254, 'Gods Must Be Crazy, The '),\n",
              " (3.7556972913512894, 'Hate Haine, La'),\n",
              " (3.754573613541966, 'Gilda '),\n",
              " (3.7545402674763815, 'Real Genius '),\n",
              " (3.754533361275139, 'Sunset Strip '),\n",
              " (3.7543833080830713, 'Dorado, El '),\n",
              " (3.7537809971167992, 'Santitos '),\n",
              " (3.75372295322072, 'Austin Powers: International Man of Mystery '),\n",
              " (3.752133722180816, 'Sweet and Lowdown '),\n",
              " (3.7513966419181264, 'Federal Hill '),\n",
              " (3.7512443601836374, 'When Night Is Falling '),\n",
              " (3.7510387345385903, 'Giant '),\n",
              " (3.750597211059718, 'Just the Ticket '),\n",
              " (3.7505451817490867, 'Next Stop, Wonderland '),\n",
              " (3.7496239568755723, 'Tora! Tora! Tora! '),\n",
              " (3.749541832509263, 'Four Weddings and a Funeral '),\n",
              " (3.7484498494200644, 'Robin Hood '),\n",
              " (3.74831681184474, 'Twin Falls Idaho '),\n",
              " (3.74807296605072, 'True Grit '),\n",
              " (3.748027093052746, 'Beautiful Girls '),\n",
              " (3.7473322812446273, 'Madness of King George, The '),\n",
              " (3.746340366898167, 'Nineteen Eighty-Four '),\n",
              " (3.7460616106523075, 'Dead Calm '),\n",
              " (3.7459355267793537, 'Topsy-Turvy '),\n",
              " (3.7455732227663776, 'Mirror, The Zerkalo'),\n",
              " (3.7446647764048206, 'Three Ages, The '),\n",
              " (3.744619518355895, 'Band Wagon, The '),\n",
              " (3.7433472378445973, \"Hang 'em High \"),\n",
              " (3.7431910678248306, 'Near Dark '),\n",
              " (3.7425155699953696, 'Last Night '),\n",
              " (3.7420752900089087, 'Thunderball '),\n",
              " (3.7418753533433, 'Man from Laramie, The '),\n",
              " (3.741715554446777, 'Splendor in the Grass '),\n",
              " (3.7416669050851588, 'Schizopolis '),\n",
              " (3.740954752446721, 'Sixteen Candles '),\n",
              " (3.7408268718841016, 'Radio Days '),\n",
              " (3.7401750525872792, 'T-Men '),\n",
              " (3.7399020993941687, 'Dead Zone, The '),\n",
              " (3.739740400038034, 'Indiana Jones and the Temple of Doom '),\n",
              " (3.739610424838992, 'Suddenly, Last Summer '),\n",
              " (3.739603491827732, 'Crying Game, The '),\n",
              " (3.739430969050338, 'Pretty Woman '),\n",
              " (3.7390452045075775, 'Total Recall '),\n",
              " (3.738738665333328, 'Simple Plan, A '),\n",
              " (3.7383774537672867, 'Long Walk Home, The '),\n",
              " (3.7372427165606896, 'Kundun '),\n",
              " (3.7371958897310638, 'Purple Noon '),\n",
              " (3.7366775992875345, 'Outsiders, The '),\n",
              " (3.736019095588228, 'Bad Seed, The '),\n",
              " (3.735266840120408, 'Jerk, The '),\n",
              " (3.733461690595304, \"Autumn Tale, An Conte d'automne\"),\n",
              " (3.7324072058832716, 'Boogie Nights '),\n",
              " (3.7315105496477954, 'Romancing the Stone '),\n",
              " (3.731357679941023, 'Buddy Holly Story, The '),\n",
              " (3.7310808433307123, 'Dinner Game, The Le Dîner de cons'),\n",
              " (3.730677180567383, \"Billy's Hollywood Screen Kiss \"),\n",
              " (3.7301241379876595, 'Abyss, The '),\n",
              " (3.729165077734623, 'League of Their Own, A '),\n",
              " (3.7287546088680594, 'Slaves to the Underground '),\n",
              " (3.7284056952425124, 'Irma la Douce '),\n",
              " (3.7281908770869796, 'Mystery Science Theater 3000: The Movie '),\n",
              " (3.727534684351724, 'Gattaca '),\n",
              " (3.7270874064498236, 'Tarzan '),\n",
              " (3.7267352679142025, 'Monster, The Il Mostro'),\n",
              " (3.7258528001301654, 'Night of the Living Dead '),\n",
              " (3.7248747563698217, 'Belly '),\n",
              " (3.7247015743544494, 'L.A. Story '),\n",
              " (3.7242860907312054, 'Butterfly La Lengua de las Mariposas'),\n",
              " (3.724103037710258, 'Manny & Lo '),\n",
              " (3.7238998140048487, 'Vampyros Lesbos Las Vampiras'),\n",
              " (3.7231452757091383, 'Best Man, The Il Testimone dello sposo'),\n",
              " (3.722729958438372, 'Dazed and Confused '),\n",
              " (3.7214015015209467, 'Mad Max '),\n",
              " (3.721061952918208, 'Planet of the Apes '),\n",
              " (3.7206879775013584, 'Ladyhawke '),\n",
              " (3.720271462785351, 'Repo Man '),\n",
              " (3.7197615699524733, 'Following '),\n",
              " (3.7196662435800776, 'War Zone, The '),\n",
              " (3.719059800205525, 'Penny Serenade '),\n",
              " (3.718971944551624, 'Apostle, The '),\n",
              " (3.718487186413942, 'Notting Hill '),\n",
              " (3.7183101336799678, 'Hamlet '),\n",
              " (3.7178991196002893, 'Defending Your Life '),\n",
              " (3.717745734441541, 'Faraway, So Close In Weiter Ferne, So Nah!'),\n",
              " (3.717427849890712, 'Dogma '),\n",
              " (3.717366094929081, 'East is East '),\n",
              " (3.716678101679633, 'Opposite of Sex, The '),\n",
              " (3.715597167168712, 'Big Trees, The '),\n",
              " (3.7154446970318906, 'Metropolitan '),\n",
              " (3.714911408836588, 'Slipper and the Rose, The '),\n",
              " (3.7144165202209987, 'Roadside Prophets '),\n",
              " (3.7140368576962444, 'Tao of Steve, The '),\n",
              " (3.71368115338484, 'Fifth Element, The '),\n",
              " (3.7135254051129785, \"Besieged L' Assedio\"),\n",
              " (3.7125410382439448, 'Star Trek IV: The Voyage Home '),\n",
              " (3.712330474123323, 'Body Snatcher, The '),\n",
              " (3.7114333604667618, 'Different for Girls '),\n",
              " (3.71125654532523, 'Predator '),\n",
              " (3.7110306744472523, 'Nico Icon '),\n",
              " (3.7102837572151963, 'Children of the Revolution '),\n",
              " (3.7098759823423926, 'Boys from Brazil, The '),\n",
              " (3.7093891267799206, 'Citizen Ruth '),\n",
              " (3.709352336733169, 'Friday '),\n",
              " (3.7088865226035836, 'Chushingura '),\n",
              " (3.708751119285458, 'Dancemaker '),\n",
              " (3.7082832397733427, 'Daddy Long Legs '),\n",
              " (3.7080880451636866, 'Piano, The '),\n",
              " (3.707800353255942, 'Magnum Force '),\n",
              " (3.7077381607661057, 'Colonel Chabert, Le '),\n",
              " (3.707665303830153, 'Duel in the Sun '),\n",
              " ...]"
            ]
          },
          "metadata": {
            "tags": []
          },
          "execution_count": 195
        }
      ]
    }
  ]
}