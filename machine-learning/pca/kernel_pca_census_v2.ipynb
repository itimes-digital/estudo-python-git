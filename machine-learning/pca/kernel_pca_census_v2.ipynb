{
  "nbformat": 4,
  "nbformat_minor": 0,
  "metadata": {
    "colab": {
      "name": "Untitled1.ipynb",
      "provenance": [],
      "authorship_tag": "ABX9TyOQpRoGoaaEA6iLlkxs8kCL",
      "include_colab_link": true
    },
    "kernelspec": {
      "name": "python3",
      "display_name": "Python 3"
    }
  },
  "cells": [
    {
      "cell_type": "markdown",
      "metadata": {
        "id": "view-in-github",
        "colab_type": "text"
      },
      "source": [
        "<a href=\"https://colab.research.google.com/github/itimes-digital/estudo-python-git/blob/master/machine-learning/pca/kernel_pca_census_v2.ipynb\" target=\"_parent\"><img src=\"https://colab.research.google.com/assets/colab-badge.svg\" alt=\"Open In Colab\"/></a>"
      ]
    },
    {
      "cell_type": "code",
      "metadata": {
        "id": "S4Xa3jl0fdjf",
        "colab_type": "code",
        "colab": {}
      },
      "source": [
        "import pandas as pd\n",
        "from sklearn.preprocessing import LabelEncoder\n",
        "from sklearn.preprocessing import StandardScaler\n",
        "from sklearn.model_selection import train_test_split\n",
        "from sklearn.decomposition import KernelPCA\n",
        "from sklearn.ensemble import RandomForestClassifier\n",
        "from sklearn.metrics import confusion_matrix, accuracy_score\n",
        "import collections "
      ],
      "execution_count": 0,
      "outputs": []
    },
    {
      "cell_type": "code",
      "metadata": {
        "id": "WoIiuQBWgNIa",
        "colab_type": "code",
        "colab": {}
      },
      "source": [
        "import pandas as pd\n",
        "\n",
        "base = pd.read_csv('https://raw.githubusercontent.com/itimes-digital/estudo-python-git/master/machine-learning/dataset/census.csv')\n",
        "\n",
        "#Pega todas as linhas até a coluna 13\n",
        "previsores = base.iloc[:, 0:14].values\n",
        "\n",
        "classe = base.iloc[:, 14].values\n"
      ],
      "execution_count": 0,
      "outputs": []
    },
    {
      "cell_type": "code",
      "metadata": {
        "id": "tXjX9T6DgcCC",
        "colab_type": "code",
        "colab": {}
      },
      "source": [
        "#Transforma variável categórica em números\n",
        "labelEncoder_previsores = LabelEncoder()\n",
        "\n",
        "#Os dois pontos : significa todas as linhas\n",
        "#Valores entre os dois pontos 0:5 são todas as colunas 1, 2, 3 e 4\n",
        "#labels = labelEncoder_previsores.fit_transform(previsores[:,1])\n",
        "\n",
        "#Implementando a transformação em números e atribuindo\n",
        "previsores[:, 1] = labelEncoder_previsores.fit_transform(previsores[:,1])\n",
        "previsores[:, 3] = labelEncoder_previsores.fit_transform(previsores[:,3])\n",
        "previsores[:, 5] = labelEncoder_previsores.fit_transform(previsores[:,5])\n",
        "previsores[:, 6] = labelEncoder_previsores.fit_transform(previsores[:,6])\n",
        "previsores[:, 7] = labelEncoder_previsores.fit_transform(previsores[:,7])\n",
        "previsores[:, 8] = labelEncoder_previsores.fit_transform(previsores[:,8])\n",
        "previsores[:, 9] = labelEncoder_previsores.fit_transform(previsores[:,9])\n",
        "previsores[:, 13] = labelEncoder_previsores.fit_transform(previsores[:,13])"
      ],
      "execution_count": 0,
      "outputs": []
    },
    {
      "cell_type": "code",
      "metadata": {
        "id": "70i_Bc7Uggpw",
        "colab_type": "code",
        "colab": {}
      },
      "source": [
        "scaler = StandardScaler()\n",
        "\n",
        "previsores = scaler.fit_transform(previsores)\n",
        "\n",
        "#Gerar uma amostra de treinamento - previsores e classe\n",
        "#Gerar uma amostra de teste - previsores e classe\n",
        "from sklearn.model_selection import train_test_split\n",
        "#Proporção de 15%\n",
        "previsores_treinamento, previsores_teste, classe_treinamento, classe_teste = train_test_split(previsores, \n",
        "                                classe, \n",
        "                                test_size=0.15,\n",
        "                                random_state=0)\n"
      ],
      "execution_count": 0,
      "outputs": []
    },
    {
      "cell_type": "code",
      "metadata": {
        "id": "g5xbXwd5gjCI",
        "colab_type": "code",
        "colab": {}
      },
      "source": [
        "kpca = KernelPCA(n_components = 6, kernel = 'rbf')\n",
        "previsores_treinamento = kpca.fit_transform(previsores_treinamento)\n",
        "previsores_teste = kpca.transform(previsores_teste)"
      ],
      "execution_count": 0,
      "outputs": []
    },
    {
      "cell_type": "code",
      "metadata": {
        "id": "Czhba8Epg2c7",
        "colab_type": "code",
        "colab": {}
      },
      "source": [
        "classificador = RandomForestClassifier(n_estimators = 40, \n",
        "                                       criterion = 'entropy', \n",
        "                                       random_state = 0)\n",
        "classificador.fit(previsores_treinamento, classe_treinamento)\n",
        "previsoes = classificador.predict(previsores_teste)"
      ],
      "execution_count": 0,
      "outputs": []
    },
    {
      "cell_type": "code",
      "metadata": {
        "id": "ev_3s2hChJ7S",
        "colab_type": "code",
        "colab": {
          "base_uri": "https://localhost:8080/",
          "height": 34
        },
        "outputId": "a6cedfb5-99c8-4fc0-cc3c-99db27eed6a1"
      },
      "source": [
        "previsores_teste.shape\n"
      ],
      "execution_count": 10,
      "outputs": [
        {
          "output_type": "execute_result",
          "data": {
            "text/plain": [
              "(27676, 6)"
            ]
          },
          "metadata": {
            "tags": []
          },
          "execution_count": 10
        }
      ]
    },
    {
      "cell_type": "code",
      "metadata": {
        "id": "2ElXzhMlhRxA",
        "colab_type": "code",
        "colab": {
          "base_uri": "https://localhost:8080/",
          "height": 34
        },
        "outputId": "00c1a899-0ab4-4e26-9825-15628778c906"
      },
      "source": [
        "previsores_treinamento.shape"
      ],
      "execution_count": 11,
      "outputs": [
        {
          "output_type": "execute_result",
          "data": {
            "text/plain": [
              "(27676, 6)"
            ]
          },
          "metadata": {
            "tags": []
          },
          "execution_count": 11
        }
      ]
    },
    {
      "cell_type": "code",
      "metadata": {
        "id": "bvZdhDTRhCC8",
        "colab_type": "code",
        "colab": {
          "base_uri": "https://localhost:8080/",
          "height": 51
        },
        "outputId": "69fb561e-d543-43a2-bda2-e57f2749c1a8"
      },
      "source": [
        "previsoes"
      ],
      "execution_count": 8,
      "outputs": [
        {
          "output_type": "execute_result",
          "data": {
            "text/plain": [
              "array([' <=50K', ' <=50K', ' <=50K', ..., ' <=50K', ' <=50K', ' >50K'],\n",
              "      dtype=object)"
            ]
          },
          "metadata": {
            "tags": []
          },
          "execution_count": 8
        }
      ]
    },
    {
      "cell_type": "code",
      "metadata": {
        "id": "b84OClvVhYMI",
        "colab_type": "code",
        "colab": {}
      },
      "source": [
        "precisao = accuracy_score(classe_teste, previsoes)\n",
        "matriz = confusion_matrix(classe_teste, previsoes)"
      ],
      "execution_count": 0,
      "outputs": []
    },
    {
      "cell_type": "code",
      "metadata": {
        "id": "gZGLusAvhbVb",
        "colab_type": "code",
        "colab": {
          "base_uri": "https://localhost:8080/",
          "height": 34
        },
        "outputId": "2bb96c40-5f6f-4131-c008-ecf6b787f221"
      },
      "source": [
        "precisao"
      ],
      "execution_count": 13,
      "outputs": [
        {
          "output_type": "execute_result",
          "data": {
            "text/plain": [
              "0.8174002047082907"
            ]
          },
          "metadata": {
            "tags": []
          },
          "execution_count": 13
        }
      ]
    },
    {
      "cell_type": "code",
      "metadata": {
        "id": "sm4xf6WNhb_Y",
        "colab_type": "code",
        "colab": {
          "base_uri": "https://localhost:8080/",
          "height": 51
        },
        "outputId": "5e66bb35-256f-4ab4-f5ff-b10b38d674d2"
      },
      "source": [
        "matriz"
      ],
      "execution_count": 14,
      "outputs": [
        {
          "output_type": "execute_result",
          "data": {
            "text/plain": [
              "array([[3379,  314],\n",
              "       [ 578,  614]])"
            ]
          },
          "metadata": {
            "tags": []
          },
          "execution_count": 14
        }
      ]
    }
  ]
}