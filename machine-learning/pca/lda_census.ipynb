{
  "nbformat": 4,
  "nbformat_minor": 0,
  "metadata": {
    "colab": {
      "name": "lda_census.ipynb",
      "provenance": [],
      "authorship_tag": "ABX9TyNIRAFUr0gNyAUsadTVee1o",
      "include_colab_link": true
    },
    "kernelspec": {
      "name": "python3",
      "display_name": "Python 3"
    }
  },
  "cells": [
    {
      "cell_type": "markdown",
      "metadata": {
        "id": "view-in-github",
        "colab_type": "text"
      },
      "source": [
        "<a href=\"https://colab.research.google.com/github/itimes-digital/estudo-python-git/blob/master/machine-learning/pca/lda_census.ipynb\" target=\"_parent\"><img src=\"https://colab.research.google.com/assets/colab-badge.svg\" alt=\"Open In Colab\"/></a>"
      ]
    },
    {
      "cell_type": "code",
      "metadata": {
        "id": "mmY7ytJpiN2e",
        "colab_type": "code",
        "colab": {}
      },
      "source": [
        "import pandas as pd\n",
        "from sklearn.preprocessing import LabelEncoder\n",
        "from sklearn.preprocessing import StandardScaler\n",
        "from sklearn.model_selection import train_test_split\n",
        "from sklearn.discriminant_analysis import LinearDiscriminantAnalysis\n",
        "from sklearn.ensemble import RandomForestClassifier\n",
        "from sklearn.metrics import confusion_matrix, accuracy_score\n",
        "import collections "
      ],
      "execution_count": 0,
      "outputs": []
    },
    {
      "cell_type": "code",
      "metadata": {
        "id": "uXODyoLDipVl",
        "colab_type": "code",
        "colab": {}
      },
      "source": [
        "import pandas as pd\n",
        "\n",
        "base = pd.read_csv('https://raw.githubusercontent.com/itimes-digital/estudo-python-git/master/machine-learning/dataset/census.csv')\n",
        "\n",
        "#Pega todas as linhas até a coluna 13\n",
        "previsores = base.iloc[:, 0:14].values\n",
        "\n",
        "classe = base.iloc[:, 14].values\n"
      ],
      "execution_count": 0,
      "outputs": []
    },
    {
      "cell_type": "code",
      "metadata": {
        "id": "cwBEiVQJirVf",
        "colab_type": "code",
        "colab": {}
      },
      "source": [
        "#Transforma variável categórica em números\n",
        "labelEncoder_previsores = LabelEncoder()\n",
        "\n",
        "#Os dois pontos : significa todas as linhas\n",
        "#Valores entre os dois pontos 0:5 são todas as colunas 1, 2, 3 e 4\n",
        "#labels = labelEncoder_previsores.fit_transform(previsores[:,1])\n",
        "\n",
        "#Implementando a transformação em números e atribuindo\n",
        "previsores[:, 1] = labelEncoder_previsores.fit_transform(previsores[:,1])\n",
        "previsores[:, 3] = labelEncoder_previsores.fit_transform(previsores[:,3])\n",
        "previsores[:, 5] = labelEncoder_previsores.fit_transform(previsores[:,5])\n",
        "previsores[:, 6] = labelEncoder_previsores.fit_transform(previsores[:,6])\n",
        "previsores[:, 7] = labelEncoder_previsores.fit_transform(previsores[:,7])\n",
        "previsores[:, 8] = labelEncoder_previsores.fit_transform(previsores[:,8])\n",
        "previsores[:, 9] = labelEncoder_previsores.fit_transform(previsores[:,9])\n",
        "previsores[:, 13] = labelEncoder_previsores.fit_transform(previsores[:,13])"
      ],
      "execution_count": 0,
      "outputs": []
    },
    {
      "cell_type": "code",
      "metadata": {
        "id": "nG-NnnpnitDv",
        "colab_type": "code",
        "colab": {}
      },
      "source": [
        "scaler = StandardScaler()\n",
        "\n",
        "previsores = scaler.fit_transform(previsores)\n",
        "\n",
        "#Gerar uma amostra de treinamento - previsores e classe\n",
        "#Gerar uma amostra de teste - previsores e classe\n",
        "from sklearn.model_selection import train_test_split\n",
        "#Proporção de 15%\n",
        "previsores_treinamento, previsores_teste, classe_treinamento, classe_teste = train_test_split(previsores, \n",
        "                                classe, \n",
        "                                test_size=0.15,\n",
        "                                random_state=0)"
      ],
      "execution_count": 0,
      "outputs": []
    },
    {
      "cell_type": "code",
      "metadata": {
        "id": "VwwxXKVMiyCr",
        "colab_type": "code",
        "colab": {
          "base_uri": "https://localhost:8080/",
          "height": 68
        },
        "outputId": "a7083eb9-d063-47be-bfb3-dd64901a85ef"
      },
      "source": [
        "previsores[0]"
      ],
      "execution_count": 19,
      "outputs": [
        {
          "output_type": "execute_result",
          "data": {
            "text/plain": [
              "array([ 0.03067056,  2.15057856, -1.06361075, -0.33543693,  1.13473876,\n",
              "        0.92163395, -1.3178091 , -0.27780504,  0.39366753,  0.70307135,\n",
              "        0.1484529 , -0.21665953, -0.03542945,  0.29156857])"
            ]
          },
          "metadata": {
            "tags": []
          },
          "execution_count": 19
        }
      ]
    },
    {
      "cell_type": "code",
      "metadata": {
        "id": "E7GaynDJi73Z",
        "colab_type": "code",
        "colab": {}
      },
      "source": [
        "lda = LinearDiscriminantAnalysis(n_components=2)"
      ],
      "execution_count": 0,
      "outputs": []
    },
    {
      "cell_type": "code",
      "metadata": {
        "id": "ecS2GqLljKau",
        "colab_type": "code",
        "colab": {
          "base_uri": "https://localhost:8080/",
          "height": 105
        },
        "outputId": "920d37b8-09f5-46a7-c861-8f00737dbf11"
      },
      "source": [
        "previsores_treinamento = lda.fit_transform(previsores_treinamento, classe_treinamento)\n",
        "previsores_teste = lda.transform(previsores_teste)"
      ],
      "execution_count": 21,
      "outputs": [
        {
          "output_type": "stream",
          "text": [
            "/usr/local/lib/python3.6/dist-packages/sklearn/discriminant_analysis.py:463: ChangedBehaviorWarning: n_components cannot be larger than min(n_features, n_classes - 1). Using min(n_features, n_classes - 1) = min(14, 2 - 1) = 1 components.\n",
            "  ChangedBehaviorWarning)\n",
            "/usr/local/lib/python3.6/dist-packages/sklearn/discriminant_analysis.py:469: FutureWarning: In version 0.23, setting n_components > min(n_features, n_classes - 1) will raise a ValueError. You should set n_components to None (default), or a value smaller or equal to min(n_features, n_classes - 1).\n",
            "  warnings.warn(future_msg, FutureWarning)\n"
          ],
          "name": "stderr"
        }
      ]
    },
    {
      "cell_type": "code",
      "metadata": {
        "id": "KmLY2ZOzj2S_",
        "colab_type": "code",
        "colab": {
          "base_uri": "https://localhost:8080/",
          "height": 34
        },
        "outputId": "135ef6c3-55bb-4fad-9b77-058ebffeaddf"
      },
      "source": [
        "previsores_teste.shape"
      ],
      "execution_count": 22,
      "outputs": [
        {
          "output_type": "execute_result",
          "data": {
            "text/plain": [
              "(4885, 1)"
            ]
          },
          "metadata": {
            "tags": []
          },
          "execution_count": 22
        }
      ]
    },
    {
      "cell_type": "code",
      "metadata": {
        "id": "BbY4x6Uzj8Ly",
        "colab_type": "code",
        "colab": {
          "base_uri": "https://localhost:8080/",
          "height": 34
        },
        "outputId": "e8b72f56-6c1b-4df7-f723-ff50ab16c936"
      },
      "source": [
        "previsores_treinamento.shape"
      ],
      "execution_count": 23,
      "outputs": [
        {
          "output_type": "execute_result",
          "data": {
            "text/plain": [
              "(27676, 1)"
            ]
          },
          "metadata": {
            "tags": []
          },
          "execution_count": 23
        }
      ]
    },
    {
      "cell_type": "code",
      "metadata": {
        "id": "I9-w4hOEkS6s",
        "colab_type": "code",
        "colab": {}
      },
      "source": [
        "classificador = RandomForestClassifier(n_estimators = 40, \n",
        "                                       criterion = 'entropy', \n",
        "                                       random_state = 0)\n",
        "classificador.fit(previsores_treinamento, classe_treinamento)\n",
        "previsoes = classificador.predict(previsores_teste)"
      ],
      "execution_count": 0,
      "outputs": []
    },
    {
      "cell_type": "code",
      "metadata": {
        "id": "18i8owU9kY4g",
        "colab_type": "code",
        "colab": {
          "base_uri": "https://localhost:8080/",
          "height": 51
        },
        "outputId": "464f5c58-486a-4cd9-a2b2-ed02879971fa"
      },
      "source": [
        "previsoes"
      ],
      "execution_count": 25,
      "outputs": [
        {
          "output_type": "execute_result",
          "data": {
            "text/plain": [
              "array([' <=50K', ' >50K', ' <=50K', ..., ' >50K', ' >50K', ' >50K'],\n",
              "      dtype=object)"
            ]
          },
          "metadata": {
            "tags": []
          },
          "execution_count": 25
        }
      ]
    },
    {
      "cell_type": "code",
      "metadata": {
        "id": "CHVJYfDzkcPk",
        "colab_type": "code",
        "colab": {}
      },
      "source": [
        "precisao = accuracy_score(classe_teste, previsoes)\n",
        "matriz = confusion_matrix(classe_teste, previsoes)"
      ],
      "execution_count": 0,
      "outputs": []
    },
    {
      "cell_type": "code",
      "metadata": {
        "id": "jXa5YGNlkf5B",
        "colab_type": "code",
        "colab": {
          "base_uri": "https://localhost:8080/",
          "height": 34
        },
        "outputId": "9509bff0-9e40-419a-e4ae-d4ea0b2c8dd7"
      },
      "source": [
        "precisao"
      ],
      "execution_count": 27,
      "outputs": [
        {
          "output_type": "execute_result",
          "data": {
            "text/plain": [
              "0.7334698055271238"
            ]
          },
          "metadata": {
            "tags": []
          },
          "execution_count": 27
        }
      ]
    },
    {
      "cell_type": "code",
      "metadata": {
        "id": "YpEopHYDkgoK",
        "colab_type": "code",
        "colab": {
          "base_uri": "https://localhost:8080/",
          "height": 51
        },
        "outputId": "dcb27de0-2e27-4882-d0fa-de40ce44118b"
      },
      "source": [
        "matriz"
      ],
      "execution_count": 28,
      "outputs": [
        {
          "output_type": "execute_result",
          "data": {
            "text/plain": [
              "array([[3044,  649],\n",
              "       [ 653,  539]])"
            ]
          },
          "metadata": {
            "tags": []
          },
          "execution_count": 28
        }
      ]
    }
  ]
}