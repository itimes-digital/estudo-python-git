{
  "nbformat": 4,
  "nbformat_minor": 0,
  "metadata": {
    "kernelspec": {
      "display_name": "Python 3",
      "language": "python",
      "name": "python3"
    },
    "language_info": {
      "codemirror_mode": {
        "name": "ipython",
        "version": 3
      },
      "file_extension": ".py",
      "mimetype": "text/x-python",
      "name": "python",
      "nbconvert_exporter": "python",
      "pygments_lexer": "ipython3",
      "version": "3.7.1"
    },
    "colab": {
      "name": "estudo_v1.ipynb",
      "provenance": [],
      "include_colab_link": true
    }
  },
  "cells": [
    {
      "cell_type": "markdown",
      "metadata": {
        "id": "view-in-github",
        "colab_type": "text"
      },
      "source": [
        "<a href=\"https://colab.research.google.com/github/itimes-digital/estudo-python-git/blob/master/estudo_v1.ipynb\" target=\"_parent\"><img src=\"https://colab.research.google.com/assets/colab-badge.svg\" alt=\"Open In Colab\"/></a>"
      ]
    },
    {
      "cell_type": "code",
      "metadata": {
        "id": "4rqfQ9BFBErO"
      },
      "source": [
        "import numpy as np"
      ],
      "execution_count": 1,
      "outputs": []
    },
    {
      "cell_type": "code",
      "metadata": {
        "id": "BNHA4WsbBErQ"
      },
      "source": [
        "data = {i : np.random.randn() for i in range(7)}"
      ],
      "execution_count": 2,
      "outputs": []
    },
    {
      "cell_type": "code",
      "metadata": {
        "colab": {
          "base_uri": "https://localhost:8080/"
        },
        "id": "nvP23zJVBErR",
        "outputId": "ba36961f-408d-4cc7-af57-05a6d8c20178"
      },
      "source": [
        "print(data)"
      ],
      "execution_count": 3,
      "outputs": [
        {
          "output_type": "stream",
          "text": [
            "{0: 0.9348123026548675, 1: -0.34979949305534425, 2: 0.9282067189398816, 3: 1.3168138108669623, 4: -2.104957385632089, 5: 0.5892654722892305, 6: -0.7686121157804232}\n"
          ],
          "name": "stdout"
        }
      ]
    },
    {
      "cell_type": "code",
      "metadata": {
        "id": "hlFWGH4CBErS"
      },
      "source": [
        "an_apple = 27"
      ],
      "execution_count": 4,
      "outputs": []
    },
    {
      "cell_type": "code",
      "metadata": {
        "colab": {
          "base_uri": "https://localhost:8080/"
        },
        "id": "iZ_ms4y1BErS",
        "outputId": "7e5816a7-34f3-41a5-fc13-29b38cf4d670"
      },
      "source": [
        "an_apple"
      ],
      "execution_count": 5,
      "outputs": [
        {
          "output_type": "execute_result",
          "data": {
            "text/plain": [
              "27"
            ]
          },
          "metadata": {
            "tags": []
          },
          "execution_count": 5
        }
      ]
    },
    {
      "cell_type": "code",
      "metadata": {
        "id": "ckctme_pBErT"
      },
      "source": [
        "an_example = 42"
      ],
      "execution_count": 6,
      "outputs": []
    },
    {
      "cell_type": "code",
      "metadata": {
        "colab": {
          "base_uri": "https://localhost:8080/"
        },
        "id": "OLcO9g_9BErT",
        "outputId": "89ce17fe-c272-45a0-f264-4d68c743c86a"
      },
      "source": [
        "an_example"
      ],
      "execution_count": 7,
      "outputs": [
        {
          "output_type": "execute_result",
          "data": {
            "text/plain": [
              "42"
            ]
          },
          "metadata": {
            "tags": []
          },
          "execution_count": 7
        }
      ]
    },
    {
      "cell_type": "code",
      "metadata": {
        "id": "o6IhZzmXBErU"
      },
      "source": [
        "b = [1 , 2, 3]"
      ],
      "execution_count": 8,
      "outputs": []
    },
    {
      "cell_type": "code",
      "metadata": {
        "colab": {
          "base_uri": "https://localhost:8080/"
        },
        "id": "ugHFKOKABErU",
        "outputId": "bdc9c7d2-d7f8-4cbd-f01d-e52f1e3a2f16"
      },
      "source": [
        "b.count"
      ],
      "execution_count": 9,
      "outputs": [
        {
          "output_type": "execute_result",
          "data": {
            "text/plain": [
              "<function list.count>"
            ]
          },
          "metadata": {
            "tags": []
          },
          "execution_count": 9
        }
      ]
    },
    {
      "cell_type": "code",
      "metadata": {
        "id": "XbNnWRpmBErV"
      },
      "source": [
        "import datetime"
      ],
      "execution_count": 10,
      "outputs": []
    },
    {
      "cell_type": "code",
      "metadata": {
        "colab": {
          "base_uri": "https://localhost:8080/"
        },
        "id": "Ks4yE9TLBErW",
        "outputId": "6da50098-cc05-482e-ca31-8cca1a3e7778"
      },
      "source": [
        "datetime.date"
      ],
      "execution_count": 11,
      "outputs": [
        {
          "output_type": "execute_result",
          "data": {
            "text/plain": [
              "datetime.date"
            ]
          },
          "metadata": {
            "tags": []
          },
          "execution_count": 11
        }
      ]
    },
    {
      "cell_type": "code",
      "metadata": {
        "id": "Z-BVJQxqBErX"
      },
      "source": [
        "def add_numbers(a, b):\n",
        "    \"\"\"\n",
        "    Add two numbers together\n",
        "    \n",
        "    Returns\n",
        "    ------\n",
        "    the_sum : type of argumetns\n",
        "    \"\"\"\n",
        "    return a + b;"
      ],
      "execution_count": 24,
      "outputs": []
    },
    {
      "cell_type": "markdown",
      "metadata": {
        "id": "z4yGMjdeB4YR"
      },
      "source": [
        "Helps de comandos, variáveis e funções"
      ]
    },
    {
      "cell_type": "code",
      "metadata": {
        "id": "x3p1x1G1BErX"
      },
      "source": [
        "b?"
      ],
      "execution_count": 12,
      "outputs": []
    },
    {
      "cell_type": "code",
      "metadata": {
        "id": "Lxvcz20BBErX"
      },
      "source": [
        "np?"
      ],
      "execution_count": 13,
      "outputs": []
    },
    {
      "cell_type": "code",
      "metadata": {
        "id": "X3ezkYNgBErX"
      },
      "source": [
        "add_numbers?"
      ],
      "execution_count": 15,
      "outputs": []
    },
    {
      "cell_type": "code",
      "metadata": {
        "id": "KNBivRxjBErY"
      },
      "source": [
        "add_numbers??"
      ],
      "execution_count": 16,
      "outputs": []
    },
    {
      "cell_type": "code",
      "metadata": {
        "id": "7BiyoVNqBErY"
      },
      "source": [
        "np.*load*?"
      ],
      "execution_count": 17,
      "outputs": []
    },
    {
      "cell_type": "code",
      "metadata": {
        "id": "w7DQ5qvcBErY"
      },
      "source": [
        "#Função mágica\r\n",
        "a = np.random.randn(100, 100)"
      ],
      "execution_count": 18,
      "outputs": []
    },
    {
      "cell_type": "code",
      "metadata": {
        "colab": {
          "base_uri": "https://localhost:8080/"
        },
        "id": "Xad1NUUeEV20",
        "outputId": "c8c132ad-7989-4143-d73b-e614b5b56532"
      },
      "source": [
        "%timeit np.dot(a, a)"
      ],
      "execution_count": 20,
      "outputs": [
        {
          "output_type": "stream",
          "text": [
            "The slowest run took 95.08 times longer than the fastest. This could mean that an intermediate result is being cached.\n",
            "10000 loops, best of 3: 103 µs per loop\n"
          ],
          "name": "stdout"
        }
      ]
    },
    {
      "cell_type": "code",
      "metadata": {
        "id": "oM7uvGThEcdr"
      },
      "source": [
        "%debug?"
      ],
      "execution_count": 22,
      "outputs": []
    },
    {
      "cell_type": "code",
      "metadata": {
        "colab": {
          "base_uri": "https://localhost:8080/"
        },
        "id": "1CnrnZm_EpAL",
        "outputId": "8da5cefc-edb5-4582-b6ac-93a8cb9e1afc"
      },
      "source": [
        "%debug add_numbers(1, 1)"
      ],
      "execution_count": 26,
      "outputs": [
        {
          "output_type": "stream",
          "text": [
            "NOTE: Enter 'c' at the ipdb>  prompt to continue execution.\n",
            "> \u001b[0;32m<string>\u001b[0m(1)\u001b[0;36m<module>\u001b[0;34m()\u001b[0m\n",
            "\n",
            "ipdb> 1\n",
            "1\n",
            "ipdb> 2\n",
            "2\n",
            "ipdb> c\n"
          ],
          "name": "stdout"
        }
      ]
    },
    {
      "cell_type": "code",
      "metadata": {
        "id": "n3hs4hkxFPGR"
      },
      "source": [
        "%magic"
      ],
      "execution_count": 25,
      "outputs": []
    },
    {
      "cell_type": "code",
      "metadata": {
        "colab": {
          "base_uri": "https://localhost:8080/"
        },
        "id": "p5J-VqHqFQUr",
        "outputId": "41ac4704-e701-4e35-bb57-a2e48dc4f62a"
      },
      "source": [
        "# No Shell Ipython\r\n",
        "%matplotlib"
      ],
      "execution_count": 27,
      "outputs": [
        {
          "output_type": "stream",
          "text": [
            "Using matplotlib backend: agg\n"
          ],
          "name": "stdout"
        }
      ]
    },
    {
      "cell_type": "code",
      "metadata": {
        "id": "k_NIpnmOGOOE"
      },
      "source": [
        "%matplotlib inline"
      ],
      "execution_count": 29,
      "outputs": []
    },
    {
      "cell_type": "code",
      "metadata": {
        "colab": {
          "base_uri": "https://localhost:8080/",
          "height": 282
        },
        "id": "XHmpjOYSF9nu",
        "outputId": "d75b43ce-8d9c-450c-8d53-93ae087e41ea"
      },
      "source": [
        "import matplotlib.pyplot as plt\r\n",
        "plt.plot(np.random.randn(50).cumsum())"
      ],
      "execution_count": 30,
      "outputs": [
        {
          "output_type": "execute_result",
          "data": {
            "text/plain": [
              "[<matplotlib.lines.Line2D at 0x7f5743b1b128>]"
            ]
          },
          "metadata": {
            "tags": []
          },
          "execution_count": 30
        },
        {
          "output_type": "display_data",
          "data": {
            "image/png": "[encoded data removed]",
            "text/plain": [
              "<Figure size 432x288 with 1 Axes>"
            ]
          },
          "metadata": {
            "tags": [],
            "needs_background": "light"
          }
        }
      ]
    },
    {
      "cell_type": "code",
      "metadata": {
        "id": "2SHY6yidGHti"
      },
      "source": [
        ""
      ],
      "execution_count": null,
      "outputs": []
    }
  ]
}